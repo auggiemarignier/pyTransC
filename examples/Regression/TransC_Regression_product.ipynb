{
 "cells": [
  {
   "cell_type": "markdown",
   "id": "2be3125f-03e9-4c1a-91e4-98d8677ae19c",
   "metadata": {},
   "source": [
    "## Example of Trans-C sampling across independent model states: Regression\n",
    "\n",
    "This notebook demonstrates Bayesian sampling of a linear polynomial regression problem\n",
    "using the Product-space sampler."
   ]
  },
  {
   "cell_type": "code",
   "execution_count": 1,
   "id": "a0c36aa4-4cc4-4ca2-b984-26cfde5d068a",
   "metadata": {},
   "outputs": [],
   "source": [
    "# general python utility packages\n",
    "import numpy as np\n",
    "import matplotlib.pyplot as plt\n",
    "import scipy.stats as stats\n",
    "import random\n",
    "from tqdm import tqdm\n",
    "import corner\n",
    "import time\n",
    "from collections import Counter\n",
    "from matplotlib.ticker import MaxNLocator\n",
    "import pickle as pickle\n",
    "from scipy.optimize import minimize"
   ]
  },
  {
   "cell_type": "markdown",
   "id": "3ad6b637-5a71-42f3-8e95-c53b2304f43d",
   "metadata": {
    "tags": []
   },
   "source": [
    "#### TransC class"
   ]
  },
  {
   "cell_type": "code",
   "execution_count": 2,
   "id": "b54a941c-6cc0-4b01-8fbd-bfd338f01e58",
   "metadata": {},
   "outputs": [],
   "source": [
    "from pyTransC import TransC_Sampler"
   ]
  },
  {
   "cell_type": "code",
   "execution_count": 3,
   "id": "99479993-1f28-4763-8b63-d56aa265bd3a",
   "metadata": {
    "jupyter": {
     "source_hidden": true
    }
   },
   "outputs": [],
   "source": [
    "def flatten_extend(matrix):\n",
    "    flat_list = []\n",
    "    for row in matrix:\n",
    "        flat_list.extend(row)\n",
    "    return np.array(flat_list)"
   ]
  },
  {
   "cell_type": "code",
   "execution_count": 4,
   "id": "a3cbf0fd-e567-49d9-b1e0-829c1662f6e3",
   "metadata": {
    "jupyter": {
     "source_hidden": true
    }
   },
   "outputs": [],
   "source": [
    "def solveLS(d,G,Cdinv): # Least squares solver\n",
    "    A = np.dot(np.transpose(G), Cdinv) # Find solution\n",
    "    GtG = np.dot(A, G) # G^T C_inv G^T\n",
    "    GtGinv = np.linalg.inv(GtG) # Inverse of G^TC_inv G\n",
    "    B = np.dot(A,d)\n",
    "    mls = np.dot(GtGinv, B)\n",
    "    return mls, GtGinv"
   ]
  },
  {
   "cell_type": "code",
   "execution_count": 5,
   "id": "a6290310-fe58-49f1-98cc-8da741d57f3e",
   "metadata": {},
   "outputs": [],
   "source": [
    "def calcE(dp,dobs,Cdinv,Cmpost,Cmprior):\n",
    "    misfit = 0.5*(np.dot((dobs-dp),np.dot(Cdinv,(dobs-dp))))\n",
    "    f = np.sqrt(2*np.pi)**len(dp)\n",
    "    detCdinv = np.linalg.det(Cdinv)\n",
    "    detCmpost = np.linalg.det(Cmpost)\n",
    "    detCmprior = np.linalg.det(Cmprior)\n",
    "    E = np.sqrt(detCmpost*detCdinv/detCmprior)*np.exp(-misfit)/f\n",
    "    return E"
   ]
  },
  {
   "cell_type": "markdown",
   "id": "c5c43725-4269-412e-809b-9848cc3c79a1",
   "metadata": {},
   "source": [
    "--------"
   ]
  },
  {
   "cell_type": "markdown",
   "id": "b411a522-0f82-4fc1-84fe-4807e8a8fb2e",
   "metadata": {},
   "source": [
    "## Polynomial regression set up\n",
    "\n",
    "Here we set up a problem of polynomial regression fitting a set of x,y data with up to a 4th order polynomial."
   ]
  },
  {
   "cell_type": "markdown",
   "id": "fa3616da-7904-4a98-bd34-ec56d47d3fa6",
   "metadata": {},
   "source": [
    "To begin with, we will work with polynomial curves, $$y(x) = \\sum_{n=0}^N m_n x^n\\,.$$\n",
    "Here, $N$ is the 'order' of the polynomial: if N=1 we have a straight line, if N=2 it will be a quadratic, and so on. The $m_n$ are the 'model coefficients'.\n",
    "\n",
    "To compute $y(x)$ for multiple $x$-values simultaneously, we  write $$ \\left(\\begin{array}{c}y_1\\\\y_2\\\\\\vdots\\\\y_N\\end{array}\\right) = \\left(\\begin{array}{ccc}1&x_1&x_1^2\\\\1&x_2&x_2^2\\\\\\vdots&\\vdots&\\vdots\\\\1&x_N&x_N^2\\end{array}\\right)\\left(\\begin{array}{c}m_0\\\\m_1\\\\m_2\\end{array}\\right)$$This has the general form, $\\mathbf{d=Gm}$, and so the best-fitting model can be identified using a least-squares algorithm.\n",
    "\n",
    "Minimization of the least squares misfit measure\n",
    "\n",
    "$$\n",
    "\\phi(\\mathbf{m}) = \\frac{1}{2}\\sum_{i=1}^N (y_i- \\sum_{i=j}^MG_{ij}m_j)^2/\\sigma_i^2 =  \\frac{1}{2} (\\mathbf{d-Gm})^TC_d^{-1} (\\mathbf{d-Gm})\n",
    "$$\n",
    "\n",
    "leads to\n",
    "\n",
    "$$\n",
    "\\mathbf{m}_{LS} = \\left(\\mathbf{G^T C_D^{-1} G}\\right)^\\mathbf{-1}\\mathbf{G^T  C_D^{-1} d}\n",
    "$$"
   ]
  },
  {
   "cell_type": "markdown",
   "id": "7e99a078-e476-43ea-ba95-3de2bc0fc72a",
   "metadata": {},
   "source": [
    "For Gaussian Likelihood and prior the evidence is a known analytical expression.\n",
    "\n",
    "$$\n",
    "p{(\\bf d}) = \\frac{e^{-\\phi(\\hat{{\\bf m}})}}{(2\\pi)^{N/2}} \\left[ \\frac{|\\hat{C}_M|}{|C_D||C_M|}\\right]^{1/2}.\n",
    "$$"
   ]
  },
  {
   "cell_type": "code",
   "execution_count": 6,
   "id": "7fc7e8e9-a18d-4f1b-9342-606fe9443ddb",
   "metadata": {},
   "outputs": [],
   "source": [
    "def getG(x,order): # build design matrix, G for polynomial data fitting, at data points x up to order order\n",
    "    return np.transpose([x**(i) for i in range(order+1)])"
   ]
  },
  {
   "cell_type": "markdown",
   "id": "69aa0205-863d-487c-9bb1-19cf413c1825",
   "metadata": {},
   "source": [
    "We generate some random samples from $y=3x/5+0.3$, add Gaussian random noise to them."
   ]
  },
  {
   "cell_type": "code",
   "execution_count": 7,
   "id": "0f3361af-e634-4a44-9bf2-ba5bc4892230",
   "metadata": {},
   "outputs": [],
   "source": [
    "np.random.seed(61254557)\n",
    "ndata,sigma = 20,0.2\n",
    "xobs = np.sort(np.random.rand(ndata)) # x values of data\n",
    "mtrue = np.array([0.3,0.6])\n",
    "G = getG(xobs,1)\n",
    "dobs = np.dot(G,mtrue) + np.random.normal(0,sigma,size=len(xobs))\n",
    "Cdinv = np.eye(ndata)/(sigma**2)"
   ]
  },
  {
   "cell_type": "markdown",
   "id": "40db6e8f-c36d-4130-9227-79f553107000",
   "metadata": {},
   "source": [
    "Set up prior for Evidence calculation."
   ]
  },
  {
   "cell_type": "code",
   "execution_count": 8,
   "id": "8e5e4e4a-18b7-46bb-b40c-7ca94628e226",
   "metadata": {},
   "outputs": [],
   "source": [
    "mls, Cmpost, G, Ev, maxorder = [],[], [], [], 3\n",
    "Cmprior = [20*np.eye(i+1) for i in np.arange(maxorder+1)]\n",
    "muprior = [np.zeros(i+1) for i in np.arange(maxorder+1)]"
   ]
  },
  {
   "cell_type": "markdown",
   "id": "83759e9a-e40c-492f-872f-a44bcc588754",
   "metadata": {},
   "source": [
    "Solve least squares solution and calculate evidence for each model."
   ]
  },
  {
   "cell_type": "code",
   "execution_count": 9,
   "id": "274188a4-9a86-444b-b0be-8ab031e4218b",
   "metadata": {},
   "outputs": [],
   "source": [
    "mls, Cmpost, G, Ev, maxorder = [],[], [], [], 3\n",
    "for i in range(maxorder+1):\n",
    "    Gp = getG(xobs,i)\n",
    "    solp, Cmp = solveLS(dobs,Gp,Cdinv)\n",
    "    dpred = np.dot(Gp,solp)\n",
    "    mls.append(solp)\n",
    "    Cmpost.append(Cmp)\n",
    "    G.append(Gp)\n",
    "    Ev.append(calcE(dpred,dobs,Cdinv,Cmp,Cmprior[i]))\n",
    "Ev/=np.sum(Ev)"
   ]
  },
  {
   "cell_type": "markdown",
   "id": "3696a894-39bc-41b2-af63-f222af0d8d83",
   "metadata": {},
   "source": [
    "Plot solutions."
   ]
  },
  {
   "cell_type": "code",
   "execution_count": 10,
   "id": "fee0fba8-aed7-407a-b426-f76fb101321d",
   "metadata": {},
   "outputs": [
    {
     "data": {
      "image/png": "[encoded data removed]",
      "text/plain": [
       "<Figure size 800x600 with 1 Axes>"
      ]
     },
     "metadata": {},
     "output_type": "display_data"
    }
   ],
   "source": [
    "xplot = np.linspace(-0.25,1.25,100)\n",
    "Gplot = getG(xplot,1)\n",
    "dplot = np.dot(Gplot,mtrue)\n",
    "#\n",
    "plt.figure(figsize=(8,6))\n",
    "plt.errorbar(xobs, dobs, yerr=sigma, capsize=3, fmt='ko', ecolor = \"grey\",lw=0.5)\n",
    "plt.plot(xplot,dplot,label='True',color='k',lw=0.8)\n",
    "for i in range(maxorder+1):\n",
    "    Gplotp = getG(xplot,i)\n",
    "    dpred = np.dot(Gplotp,mls[i])\n",
    "    plt.plot(xplot,dpred,label='Best fit p='+str(i),lw=0.5)\n",
    "plt.xlabel('x')\n",
    "plt.ylabel('y')\n",
    "plt.ylim(-0.2,1.3)\n",
    "plt.legend()\n",
    "plt.show()"
   ]
  },
  {
   "cell_type": "code",
   "execution_count": 11,
   "id": "393aea7e-1a39-434e-a6d8-2a35909230a4",
   "metadata": {},
   "outputs": [
    {
     "data": {
      "text/plain": [
       "array([0.16399939, 0.61471518, 0.12314481, 0.09814062])"
      ]
     },
     "execution_count": 11,
     "metadata": {},
     "output_type": "execute_result"
    }
   ],
   "source": [
    "Ev"
   ]
  },
  {
   "cell_type": "code",
   "execution_count": 12,
   "id": "acf67702-6226-46d1-bc9d-367926c03a86",
   "metadata": {},
   "outputs": [
    {
     "data": {
      "image/png": "[encoded data removed]",
      "text/plain": [
       "<Figure size 640x480 with 1 Axes>"
      ]
     },
     "metadata": {},
     "output_type": "display_data"
    }
   ],
   "source": [
    "# plot evidence values\n",
    "\n",
    "fig, ax = plt.subplots()\n",
    "\n",
    "fruits = [r'$y=m_o$', r'$y=m_o + m_1x$', r'$y = \\sum_{i=0}^2 m_ix^i$', r'$y = \\sum_{i=0}^3 m_ix^i$']\n",
    "counts = [Ev[i] for i in range(maxorder+1)]\n",
    "bar_labels = ['Order 0','Order 1', 'Order 2', 'Order 3'] # Define a list of labels, one for each bar\n",
    "\n",
    "bar_colors = ['skyblue', 'lightcoral', 'lightgreen', 'gold'] # Define a list of colors, one for each bar\n",
    "\n",
    "ax.bar(fruits, counts, label=bar_labels, width=0.5,color=bar_colors)\n",
    "\n",
    "ax.set_ylabel('Relative posterior evidence')\n",
    "ax.set_title('Evidence estimate for each model')\n",
    "ax.legend(title='Relative Evidence')\n",
    "\n",
    "plt.show()"
   ]
  },
  {
   "cell_type": "code",
   "execution_count": 13,
   "id": "23a4bce3-6201-4076-b073-532aea1d6395",
   "metadata": {},
   "outputs": [
    {
     "data": {
      "text/plain": [
       "array([0.16399939, 0.61471518, 0.12314481, 0.09814062])"
      ]
     },
     "execution_count": 13,
     "metadata": {},
     "output_type": "execute_result"
    }
   ],
   "source": [
    "Ev"
   ]
  },
  {
   "cell_type": "markdown",
   "id": "4375a006-386f-4866-a08d-5ca450ab05a2",
   "metadata": {},
   "source": [
    "----------------"
   ]
  },
  {
   "cell_type": "markdown",
   "id": "96f529eb-993e-4fcd-a4f3-6c9174d2e0ea",
   "metadata": {},
   "source": [
    "Set some global control parameters."
   ]
  },
  {
   "cell_type": "code",
   "execution_count": 14,
   "id": "afd65bdc-56dd-4a9b-977e-f3c3b6b8bb41",
   "metadata": {},
   "outputs": [],
   "source": [
    "plotting = True      # Create some diagnostic displays of outputs\n",
    "parallel = False     # Use parallel computation for sampling"
   ]
  },
  {
   "cell_type": "markdown",
   "id": "7d2ba376-0b2b-40cc-9108-8de4a58b9379",
   "metadata": {},
   "source": [
    "### Log-posterior Likeihood, prior and PDF for each state"
   ]
  },
  {
   "cell_type": "code",
   "execution_count": 15,
   "id": "8669e5a3-af89-46a8-8bdc-fbe6470bbe55",
   "metadata": {},
   "outputs": [],
   "source": [
    "def log_Likelihood(x,state,dobs,G,Cdinv):\n",
    "    dpred = np.dot(G[state],x)\n",
    "    misfit = 0.5*(np.dot((dobs-dpred),np.dot(Cdinv,(dobs-dpred))))\n",
    "    f = np.sqrt(2*np.pi)**len(dpred)\n",
    "    detCdinv = np.linalg.det(Cdinv)\n",
    "    logL = -np.log(f) -misfit + np.log(detCdinv)\n",
    "    return logL"
   ]
  },
  {
   "cell_type": "code",
   "execution_count": 16,
   "id": "fcc8563b-c17a-4450-b057-3086d1df2d4f",
   "metadata": {},
   "outputs": [],
   "source": [
    "def log_prior(x,state,muprior,Cmprior):\n",
    "    mu = muprior[state]\n",
    "    cov = Cmprior[state]\n",
    "    rv = stats.multivariate_normal(mean=mu,cov=cov) # instance of multi-dimensional Gaussian\n",
    "    return rv.logpdf(x)"
   ]
  },
  {
   "cell_type": "code",
   "execution_count": 17,
   "id": "f4401462-302c-44e7-8fd7-b48f36d0ef44",
   "metadata": {},
   "outputs": [],
   "source": [
    "def log_posterior(x,state,dobs,G, Cdinv, muprior, Cmprior): # Multi-state log Posterior PDF evaluation (unormalised)\n",
    "    return log_Likelihood(x,state,dobs,G,Cdinv) + log_prior(x,state,muprior,Cmprior)\n",
    "log_posterior_args = [dobs,G,Cdinv,muprior,Cmprior]"
   ]
  },
  {
   "cell_type": "markdown",
   "id": "073bca04-5bb7-4426-98a2-218bea14b119",
   "metadata": {},
   "source": [
    "### Starting points for MCMC samplers in each state"
   ]
  },
  {
   "cell_type": "code",
   "execution_count": 18,
   "id": "539bdd85-f7de-4ce1-867d-49854381d2a6",
   "metadata": {},
   "outputs": [
    {
     "name": "stdout",
     "output_type": "stream",
     "text": [
      "Maximum likelihood estimates:\n",
      "x_ml  [0.58148024]\n",
      "x_ml  [0.37788932 0.48664354]\n",
      "x_ml  [ 0.31354801  0.95796058 -0.52400541]\n",
      "x_ml  [ 0.28548373  1.4395107  -1.83289387  0.89632873]\n"
     ]
    }
   ],
   "source": [
    "# first we optimize each state to find good starting point for all McMC samplers\n",
    "np.random.seed(42)\n",
    "nstates = maxorder+1               # Number of distinct states\n",
    "ndims  = [1,2,3,4]                 # Number of model parameters in each stateif(True):\n",
    "nll = lambda *args: -log_posterior(*args)\n",
    "ml = []\n",
    "print(\"Maximum likelihood estimates:\")\n",
    "for i in range(nstates):\n",
    "    initial = 0.5*np.ones(i+1)\n",
    "    soln = minimize(nll, initial, args=(i,dobs,G,Cdinv,muprior,Cmprior))\n",
    "    ml.append(soln.x)\n",
    "    print(\"x_ml \",soln.x)"
   ]
  },
  {
   "cell_type": "markdown",
   "id": "83c8d9e7-9f03-4784-92e8-cec9f73297ac",
   "metadata": {},
   "source": [
    "### Pseudo-prior for each state"
   ]
  },
  {
   "cell_type": "markdown",
   "id": "ff8444cb-aca0-47d3-8ac7-c1312ce76033",
   "metadata": {},
   "source": [
    "Here we use a fixed Gaussian pseudo prior for each state, which can be difficult to decide in advance."
   ]
  },
  {
   "cell_type": "code",
   "execution_count": 19,
   "id": "836db050-15e9-4ec6-b2eb-5ca6d8ab055f",
   "metadata": {},
   "outputs": [],
   "source": [
    "Cmpseudo = [20*np.eye(i+1) for i in np.arange(maxorder+1)]  # Covariances of pseudo priors\n",
    "mupseudo = [np.zeros(i+1) for i in np.arange(maxorder+1)]\n",
    "#mupseudo = [0.2*np.ones(i+1) for i in np.arange(maxorder+1)] # offset means of pseudo priors as a test\n",
    "def log_pseudo_prior(x,state,mupseudo,Cmpseudo,returndeviate=False):               # multi-state log pseudo-prior density and deviate generator\n",
    "    mu = mupseudo[state]                  # Gaussian mean for current state\n",
    "    cov = Cmpseudo[state]            # covariance matrices for current state\n",
    "    rv = stats.multivariate_normal(mean=mu,cov=cov) # instance of multi-dimensional Gaussian\n",
    "    if(returndeviate):\n",
    "        x = rv.rvs() # generate deviate of multi-dimensional Gaussian\n",
    "        logppx = rv.logpdf(x) # log amplitude of multi-dimensional Gaussian\n",
    "        if(type(x) != np.ndarray): x = np.array([x]) # deal with 1D case where rv returns a scalar\n",
    "        return logppx,x\n",
    "    else:\n",
    "        return rv.logpdf(x) # log amplitude of multi-dimensional Gaussian \n",
    "\n",
    "log_pseudo_prior_args = [mupseudo,Cmpseudo]   # additional argument list beyond (x,state)    "
   ]
  },
  {
   "cell_type": "markdown",
   "id": "d7dbc9dd-cbf8-4a41-811c-9b56a676f24a",
   "metadata": {},
   "source": [
    "Here we use an automatic pseudo prior for each state which corresponds to a best fit multi-dimensional Gaussian to posterior ensembles in each state.\n",
    "\n",
    "This is built using the class function `TransC_Sampler.build_auto_pseudo_prior()` which returns a function which we'll call `log_pseudo_prior()`. \n",
    "This function can be called in two ways:\n",
    "\n",
    "- Firstly, with the call sequence `logPDF = log_pseudo_prior(x,state)`, where it evaluates the normalised log pseudo prior for point `x` in state `state`;\n",
    "- Secondly, with the call sequence `logPDF, deviate = TransC_Sampler.build_auto_pseudo_prior(NULL,state,returndeviate=True)`, where it generates a random deviate from the pseudo-prior and calculates its logPDF."
   ]
  },
  {
   "cell_type": "code",
   "execution_count": 20,
   "id": "56e69cf5-0124-435a-976f-57d986a12c28",
   "metadata": {},
   "outputs": [],
   "source": [
    "# This generates posterior samples in each state and fits a Gaussain to them to becomne the pseudo prior\n",
    "nwalkers_auto = 32                                              # Number of walkers for auto pseudo prior fitting\n",
    "nsteps_auto = 1000                                              # Number of chain steps for auto pseudo prior fitting\n",
    "autothin = True                                                 # Thin internally generated within state posterior ensembles by their auto-correlation \n",
    "                                                                # (This can take additional compute time, and is not necessary if input ensembles are already independent.)\n",
    "pos = []\n",
    "for i in range(nstates): # generate starting points for each chain in each state\n",
    "    pos.append(ml[i] + 1e-4 * np.random.randn(nwalkers_auto, ndims[i])) # add random perturbation to maximum Likelihood models\n",
    "    \n",
    "tcs = TransC_Sampler(nstates,ndims) # create instance of sampler\n",
    "log_pseudo_prior = tcs.build_auto_pseudo_prior(pos,log_posterior,\n",
    "                                               log_posterior_args=log_posterior_args,\n",
    "                                               nwalkers=nwalkers_auto,\n",
    "                                               nsamples=nsteps_auto,\n",
    "                                               autothin=autothin,\n",
    "                                               parallel=parallel)"
   ]
  },
  {
   "cell_type": "markdown",
   "id": "ec44d92d-d3ce-4a51-8554-9d6247fb7710",
   "metadata": {},
   "source": [
    "-----------"
   ]
  },
  {
   "cell_type": "markdown",
   "id": "8f5a37bf-8505-4527-a00e-ae6ab1ec5151",
   "metadata": {},
   "source": [
    "Now we are ready to apply the three algorithms to sampling over the model states."
   ]
  },
  {
   "cell_type": "markdown",
   "id": "52e51c05-7cae-4799-9c3f-ec551f7afc21",
   "metadata": {},
   "source": [
    "## Trans-C samping across model states with the Product-Space sampler "
   ]
  },
  {
   "cell_type": "markdown",
   "id": "a73a8b15-6d77-4c70-8f8a-61a8d34806a3",
   "metadata": {},
   "source": [
    "Here we demonstrate use of the *Product-Space sampler*.\n",
    "\n",
    "Here we concatenate all model vectors to a single product space model vector and sampler with an out-sourced sampler."
   ]
  },
  {
   "cell_type": "code",
   "execution_count": 21,
   "id": "3d422bfe-acb9-46f0-86a8-1de861d20759",
   "metadata": {
    "tags": []
   },
   "outputs": [],
   "source": [
    "# perform initiation of IS-sampler\n",
    "tc = TransC_Sampler(nstates,ndims) # Create instances of states"
   ]
  },
  {
   "cell_type": "code",
   "execution_count": 22,
   "id": "21f156a0-c48b-47b1-90c9-5ffea627218f",
   "metadata": {},
   "outputs": [],
   "source": [
    "# starting points of MCMC chains\n",
    "nwalkers_ps = 32                                               # Number of walkers \n",
    "nsteps_ps = 10000                                              # Number of chain steps\n",
    "pos_states = np.random.choice(np.arange(nstates),nwalkers_ps)  # Initial states of each walker\n",
    "pos = []\n",
    "for i in range(nwalkers_ps): # generate starting points for each walker\n",
    "    pos.append(ml[pos_states[i]] + 1e-4 * np.random.randn(ndims[pos_states[i]])) # add random perturbation to maximum Likelihood models"
   ]
  },
  {
   "cell_type": "code",
   "execution_count": 29,
   "id": "a3d96add-1124-41b8-9e8e-083eabf308e6",
   "metadata": {},
   "outputs": [
    {
     "data": {
      "text/plain": [
       "([array([ 0.31346579,  0.95798495, -0.52398092]),\n",
       "  array([ 0.28543304,  1.4394636 , -1.83287067,  0.89618392]),\n",
       "  array([0.58133949]),\n",
       "  array([ 0.28541189,  1.43948936, -1.83286278,  0.89647626]),\n",
       "  array([ 0.31363378,  0.95794459, -0.52400732]),\n",
       "  array([0.58137999]),\n",
       "  array([ 0.28548188,  1.43948184, -1.8328616 ,  0.896246  ]),\n",
       "  array([0.58153218]),\n",
       "  array([ 0.31370129,  0.95794971, -0.52396524]),\n",
       "  array([ 0.28555275,  1.43947058, -1.83287146,  0.89632999]),\n",
       "  array([0.58149001]),\n",
       "  array([ 0.31347071,  0.95796303, -0.52395561]),\n",
       "  array([0.58162535]),\n",
       "  array([0.58157617]),\n",
       "  array([0.37810464, 0.4865668 ]),\n",
       "  array([0.37797655, 0.48666187]),\n",
       "  array([ 0.31376699,  0.95787975, -0.52408939]),\n",
       "  array([0.37782938, 0.48643115]),\n",
       "  array([ 0.31349544,  0.95788467, -0.52399037]),\n",
       "  array([0.37792349, 0.48683115]),\n",
       "  array([0.58157528]),\n",
       "  array([ 0.31349032,  0.95787074, -0.52395622]),\n",
       "  array([ 0.31341599,  0.95814373, -0.52388747]),\n",
       "  array([0.58143332]),\n",
       "  array([ 0.3133767 ,  0.95809597, -0.52401687]),\n",
       "  array([ 0.31367179,  0.95780114, -0.52406535]),\n",
       "  array([0.37788984, 0.48664823]),\n",
       "  array([ 0.31350301,  0.95802287, -0.52411218]),\n",
       "  array([ 0.2854695 ,  1.43952273, -1.83284243,  0.89639989]),\n",
       "  array([0.58136778]),\n",
       "  array([0.37773591, 0.4867713 ]),\n",
       "  array([0.37792255, 0.48656869])],\n",
       " array([2, 3, 0, 3, 2, 0, 3, 0, 2, 3, 0, 2, 0, 0, 1, 1, 2, 1, 2, 1, 0, 2,\n",
       "        2, 0, 2, 2, 1, 2, 3, 0, 1, 1]),\n",
       " 4)"
      ]
     },
     "execution_count": 29,
     "metadata": {},
     "output_type": "execute_result"
    }
   ],
   "source": [
    "pos,pos_states,nstates"
   ]
  },
  {
   "cell_type": "code",
   "execution_count": 34,
   "id": "9320eecb-0d26-4e76-8af7-5a25711bf7a7",
   "metadata": {},
   "outputs": [
    {
     "data": {
      "text/plain": [
       "(32, 32)"
      ]
     },
     "execution_count": 34,
     "metadata": {},
     "output_type": "execute_result"
    }
   ],
   "source": [
    "len(pos_states),len(pos)"
   ]
  },
  {
   "cell_type": "code",
   "execution_count": 33,
   "id": "870daa32-2cb4-49f1-8044-d062e272bb4c",
   "metadata": {},
   "outputs": [
    {
     "name": "stdout",
     "output_type": "stream",
     "text": [
      "0 [ 0.31346579  0.95798495 -0.52398092]\n"
     ]
    },
    {
     "ename": "ValueError",
     "evalue": "zero-dimensional arrays cannot be concatenated",
     "output_type": "error",
     "traceback": [
      "\u001b[31m---------------------------------------------------------------------------\u001b[39m",
      "\u001b[31mValueError\u001b[39m                                Traceback (most recent call last)",
      "\u001b[36mCell\u001b[39m\u001b[36m \u001b[39m\u001b[32mIn[33]\u001b[39m\u001b[32m, line 5\u001b[39m\n\u001b[32m      3\u001b[39m x[j, \u001b[32m0\u001b[39m] = pos_states[j]\n\u001b[32m      4\u001b[39m \u001b[38;5;28mprint\u001b[39m(j,pos[j])\n\u001b[32m----> \u001b[39m\u001b[32m5\u001b[39m x[j, \u001b[32m1\u001b[39m:] = \u001b[43mnp\u001b[49m\u001b[43m.\u001b[49m\u001b[43mconcatenate\u001b[49m\u001b[43m(\u001b[49m\u001b[43m(\u001b[49m\u001b[43m[\u001b[49m\u001b[43mpos\u001b[49m\u001b[43m[\u001b[49m\u001b[43mi\u001b[49m\u001b[43m]\u001b[49m\u001b[43m[\u001b[49m\u001b[43mj\u001b[49m\u001b[43m]\u001b[49m\u001b[43m \u001b[49m\u001b[38;5;28;43;01mfor\u001b[39;49;00m\u001b[43m \u001b[49m\u001b[43mi\u001b[49m\u001b[43m \u001b[49m\u001b[38;5;129;43;01min\u001b[39;49;00m\u001b[43m \u001b[49m\u001b[38;5;28;43mrange\u001b[39;49m\u001b[43m(\u001b[49m\u001b[43mnstates\u001b[49m\u001b[43m)\u001b[49m\u001b[43m]\u001b[49m\u001b[43m)\u001b[49m\u001b[43m)\u001b[49m\n",
      "\u001b[31mValueError\u001b[39m: zero-dimensional arrays cannot be concatenated"
     ]
    }
   ],
   "source": [
    "x = np.zeros((nwalkers_ps, 11))\n",
    "for j in range(nwalkers_ps):\n",
    "    x[j, 0] = pos_states[j]\n",
    "    print(j,pos[j])\n",
    "    x[j, 1:] = np.concatenate(([pos[i][j] for i in range(nstates)]))"
   ]
  },
  {
   "cell_type": "code",
   "execution_count": 23,
   "id": "aae6d6fe-9ca5-4687-9540-b9271fa8d2ba",
   "metadata": {},
   "outputs": [
    {
     "name": "stdout",
     "output_type": "stream",
     "text": [
      "\n",
      "Running product space trans-D sampler\n",
      "\n",
      "Number of walkers               :  32\n",
      "Number of states being sampled  :  4\n",
      "Dimensions of each state        :  [1, 2, 3, 4]\n"
     ]
    },
    {
     "ename": "ValueError",
     "evalue": "zero-dimensional arrays cannot be concatenated",
     "output_type": "error",
     "traceback": [
      "\u001b[31m---------------------------------------------------------------------------\u001b[39m",
      "\u001b[31mValueError\u001b[39m                                Traceback (most recent call last)",
      "\u001b[36mCell\u001b[39m\u001b[36m \u001b[39m\u001b[32mIn[23]\u001b[39m\u001b[32m, line 2\u001b[39m\n\u001b[32m      1\u001b[39m start_time = time.time()\n\u001b[32m----> \u001b[39m\u001b[32m2\u001b[39m \u001b[43mtc\u001b[49m\u001b[43m.\u001b[49m\u001b[43mrun_product_space_sampler\u001b[49m\u001b[43m(\u001b[49m\u001b[43mnwalkers_ps\u001b[49m\u001b[43m,\u001b[49m\n\u001b[32m      3\u001b[39m \u001b[43m                 \u001b[49m\u001b[43mnsteps_ps\u001b[49m\u001b[43m,\u001b[49m\n\u001b[32m      4\u001b[39m \u001b[43m                 \u001b[49m\u001b[43mpos\u001b[49m\u001b[43m,\u001b[49m\n\u001b[32m      5\u001b[39m \u001b[43m                 \u001b[49m\u001b[43mpos_states\u001b[49m\u001b[43m,\u001b[49m\n\u001b[32m      6\u001b[39m \u001b[43m                 \u001b[49m\u001b[43mlog_posterior\u001b[49m\u001b[43m,\u001b[49m\n\u001b[32m      7\u001b[39m \u001b[43m                 \u001b[49m\u001b[43mlog_pseudo_prior\u001b[49m\u001b[43m,\u001b[49m\n\u001b[32m      8\u001b[39m \u001b[43m                 \u001b[49m\u001b[43mlog_posterior_args\u001b[49m\u001b[43m=\u001b[49m\u001b[43mlog_posterior_args\u001b[49m\u001b[43m,\u001b[49m\n\u001b[32m      9\u001b[39m \u001b[43m                 \u001b[49m\u001b[43mparallel\u001b[49m\u001b[43m=\u001b[49m\u001b[43mparallel\u001b[49m\u001b[43m,\u001b[49m\n\u001b[32m     10\u001b[39m \u001b[43m                 \u001b[49m\u001b[43mprogress\u001b[49m\u001b[43m=\u001b[49m\u001b[38;5;28;43;01mTrue\u001b[39;49;00m\u001b[43m)\u001b[49m\n\u001b[32m     11\u001b[39m elapsed_time = time.time() - start_time\n",
      "\u001b[36mFile \u001b[39m\u001b[32m~/transC/lib/python3.13/site-packages/pyTransC/libTransC.py:680\u001b[39m, in \u001b[36mTransC_Sampler.run_product_space_sampler\u001b[39m\u001b[34m(self, nwalkers, nsteps, pos, pos_state, log_posterior, log_pseudo_prior, log_posterior_args, log_pseudo_prior_args, seed, parallel, nprocessors, progress, suppresswarnings, mypool, skip_initial_state_check, **kwargs)\u001b[39m\n\u001b[32m    674\u001b[39m         warnings.warn(\n\u001b[32m    675\u001b[39m             \u001b[33m\"\u001b[39m\u001b[33m Parallel mode used but only a single walker specified. Nothing to parallelize over?\u001b[39m\u001b[33m\"\u001b[39m\n\u001b[32m    676\u001b[39m         )\n\u001b[32m    678\u001b[39m ndim_ps = np.sum(\u001b[38;5;28mself\u001b[39m.ndims) + \u001b[32m1\u001b[39m  \u001b[38;5;66;03m# dimension of product space\u001b[39;00m\n\u001b[32m--> \u001b[39m\u001b[32m680\u001b[39m pos_ps = \u001b[38;5;28;43mself\u001b[39;49m\u001b[43m.\u001b[49m\u001b[43m_modelvectors2productspace\u001b[49m\u001b[43m(\u001b[49m\n\u001b[32m    681\u001b[39m \u001b[43m    \u001b[49m\u001b[43mpos\u001b[49m\u001b[43m,\u001b[49m\u001b[43m \u001b[49m\u001b[43mpos_state\u001b[49m\u001b[43m,\u001b[49m\u001b[43m \u001b[49m\u001b[43mnwalkers\u001b[49m\n\u001b[32m    682\u001b[39m \u001b[43m\u001b[49m\u001b[43m)\u001b[49m  \u001b[38;5;66;03m# convert initial walker positions to product space model vectors\u001b[39;00m\n\u001b[32m    684\u001b[39m logfunc = partial(\n\u001b[32m    685\u001b[39m     \u001b[38;5;28mself\u001b[39m._productspace_log_prob,\n\u001b[32m    686\u001b[39m     log_posterior=log_posterior,\n\u001b[32m   (...)\u001b[39m\u001b[32m    689\u001b[39m     log_pseudo_prior_args=log_pseudo_prior_args,\n\u001b[32m    690\u001b[39m )\n\u001b[32m    692\u001b[39m \u001b[38;5;28;01mif\u001b[39;00m parallel:\n",
      "\u001b[36mFile \u001b[39m\u001b[32m~/transC/lib/python3.13/site-packages/pyTransC/libTransC.py:1875\u001b[39m, in \u001b[36mTransC_Sampler._modelvectors2productspace\u001b[39m\u001b[34m(self, m, states, nwalkers)\u001b[39m\n\u001b[32m   1873\u001b[39m \u001b[38;5;28;01mfor\u001b[39;00m j \u001b[38;5;129;01min\u001b[39;00m \u001b[38;5;28mrange\u001b[39m(nwalkers):\n\u001b[32m   1874\u001b[39m     x[j, \u001b[32m0\u001b[39m] = states[j]\n\u001b[32m-> \u001b[39m\u001b[32m1875\u001b[39m     x[j, \u001b[32m1\u001b[39m:] = \u001b[43mnp\u001b[49m\u001b[43m.\u001b[49m\u001b[43mconcatenate\u001b[49m\u001b[43m(\u001b[49m\u001b[43m(\u001b[49m\u001b[43m[\u001b[49m\u001b[43mm\u001b[49m\u001b[43m[\u001b[49m\u001b[43mi\u001b[49m\u001b[43m]\u001b[49m\u001b[43m[\u001b[49m\u001b[43mj\u001b[49m\u001b[43m]\u001b[49m\u001b[43m \u001b[49m\u001b[38;5;28;43;01mfor\u001b[39;49;00m\u001b[43m \u001b[49m\u001b[43mi\u001b[49m\u001b[43m \u001b[49m\u001b[38;5;129;43;01min\u001b[39;49;00m\u001b[43m \u001b[49m\u001b[38;5;28;43mrange\u001b[39;49m\u001b[43m(\u001b[49m\u001b[38;5;28;43mself\u001b[39;49m\u001b[43m.\u001b[49m\u001b[43mnstates\u001b[49m\u001b[43m)\u001b[49m\u001b[43m]\u001b[49m\u001b[43m)\u001b[49m\u001b[43m)\u001b[49m\n\u001b[32m   1876\u001b[39m \u001b[38;5;28;01mreturn\u001b[39;00m x\n",
      "\u001b[31mValueError\u001b[39m: zero-dimensional arrays cannot be concatenated"
     ]
    }
   ],
   "source": [
    "start_time = time.time()\n",
    "tc.run_product_space_sampler(nwalkers_ps,\n",
    "                 nsteps_ps,\n",
    "                 pos,\n",
    "                 pos_states,\n",
    "                 log_posterior,\n",
    "                 log_pseudo_prior,\n",
    "                 log_posterior_args=log_posterior_args,\n",
    "                 parallel=parallel,\n",
    "                 progress=True)\n",
    "elapsed_time = time.time() - start_time"
   ]
  },
  {
   "cell_type": "code",
   "execution_count": null,
   "id": "477b316d-2269-46d4-bae3-1e8d15fee47f",
   "metadata": {},
   "outputs": [],
   "source": [
    "# print some diagnostics\n",
    "print('\\n Algorithm type                                      :', tc.alg)\n",
    "\n",
    "#extract trans-C samples and chains\n",
    "discard = 0                  # chain burnin\n",
    "thin = 20                    # chain thinning\n",
    "chain,states_chain = tc.get_visits_to_states(discard=discard,thin=thin,normalize=True,walker_average='mean',return_samples=True)\n",
    "key = tc\n",
    "\n",
    "print(' Average acceptance rate of all walkers              :',np.round(tc.acceptance_rate,2))\n",
    "print(' Maximum auto correlation time of parameters         :',np.round(tc.max_autocorr_time,3))\n",
    "print(' Average auto correlation time of parameters         :',np.round(tc.mean_autocorr_time,3))\n",
    "print(' Auto correlation time of between state jumps        :',np.round(tc.autocorr_time_for_between_state_jumps,3))\n",
    "print(' Total number of state changes for all walkers       :',tc.total_state_changes)\n",
    "#print(' Number of state changes for each walker             :\\n',*tcs1.state_changes_perwalker)\n",
    "#print(' Average % acceptance rate for between state changes :',tcs1.acceptance_rate_between_states)\n",
    "print(' True relative marginal Likelihoods                  :',  *np.round(Ev,5))\n",
    "print(' Estimated relative evidences                        :', *np.round((tc.relative_marginal_likelihoods),5))\n",
    "print(' Elapsed time.                                       :', np.round(elapsed_time,2),'s \\n')"
   ]
  },
  {
   "cell_type": "code",
   "execution_count": null,
   "id": "67a0c243-8393-4911-a8b2-d95c296c83e2",
   "metadata": {},
   "outputs": [],
   "source": [
    "# plot relative number of visit to each state along the chain\n",
    "if(plotting):\n",
    "    fig, axes = plt.subplots(figsize=(8,6))\n",
    "    if(chain.ndim == 3): # plot chains for each state and walker\n",
    "        plt.semilogx(chain.reshape(np.shape(chain)[0],-1),lw=0.75)\n",
    "    elif(chain.ndim==2): # plot chains for each state average over walkers\n",
    "        plt.semilogx(chain.reshape(np.shape(chain)[0],-1),lw=0.75,label=['State 1','State 2','State 3'])\n",
    "        plt.legend()\n",
    "    plt.xlabel('Chain step')\n",
    "    plt.ylabel('Relative Evidence')\n",
    "    plt.plot(len(chain)*1.3,Ev[0],'bo')\n",
    "    plt.plot(len(chain)*1.3,Ev[1],'o',color='orange')\n",
    "    plt.plot(len(chain)*1.3,Ev[2],'go')\n",
    "    plt.plot(len(chain)*1.3,Ev[3],'mo')\n",
    "    plt.title(' Convergence of '+key.alg)\n",
    "    #plt.savefig('convergence_state_3-5-10.pdf')\n",
    "    plt.show()"
   ]
  },
  {
   "cell_type": "markdown",
   "id": "122e7624-52a7-44bd-bc48-683e309f4113",
   "metadata": {},
   "source": [
    "Coloured dots show the true relative normalization constants for each Gaussian. As you can see the chains of the Product-space sampler are \n",
    "converging, and visiting each state in proportion to the correct normalization constant. "
   ]
  },
  {
   "cell_type": "code",
   "execution_count": null,
   "id": "cee9b7b0-17bc-46ad-b921-05a94ba1ece1",
   "metadata": {},
   "outputs": [],
   "source": [
    "# plot chain states\n",
    "if(plotting):\n",
    "    # plot chains for each state and walker\n",
    "    plt.semilogx(states_chain.reshape(np.shape(states_chain)[0],-1),lw=0.75)\n",
    "    plt.xlabel(' Step number')\n",
    "    plt.ylabel(' States')\n",
    "    title = ' States transitions of '+str(nwalkers_sj)+' chains: '+key.alg\n",
    "    plt.title(title)\n",
    "    #plt.savefig('convergence.pdf')\n",
    "    plt.show()"
   ]
  },
  {
   "cell_type": "markdown",
   "id": "ce7a20f1-b6a7-485d-bef8-303fe6ed25bc",
   "metadata": {},
   "source": [
    "This plot shows the movement of each chain between states."
   ]
  },
  {
   "cell_type": "code",
   "execution_count": null,
   "id": "f224c11b-f33e-49ac-bdd6-35727753794b",
   "metadata": {},
   "outputs": [],
   "source": [
    "# Count visits to each state by Trans-D mcmc\n",
    "if(plotting):\n",
    "    h=np.zeros(key.nstates)\n",
    "    h[list(Counter(states_chain.reshape(-1)).keys())] = list(Counter(states_chain.reshape(-1)).values())\n",
    "    h/=np.sum(h)\n",
    "    # plot histogram of frequency of visits to each state\n",
    "\n",
    "    labels = [r'$y=m_o$', r'$y=m_o + m_1x$', r'$y = \\sum_{i=0}^2 m_ix^i$', r'$y = \\sum_{i=0}^3 m_ix^i$']\n",
    "    x = np.arange(nstates)  # the label locations\n",
    "    width = 0.25  # the width of the bars\n",
    "    multiplier = 0\n",
    "\n",
    "    fig, ax = plt.subplots(layout='constrained')\n",
    "    offset = width * multiplier\n",
    "    rects = ax.bar(x + offset, np.round(h,3), width, label=key.alg,color='skyblue')\n",
    "    ax.bar_label(rects, padding=3)\n",
    "    multiplier += 1\n",
    "    offset = width * multiplier+0.05\n",
    "    rects = ax.bar(x + offset, np.round(counts,3), width, label='Analytical',color='lightcoral')\n",
    "    ax.bar_label(rects, padding=3)\n",
    "    multiplier += 1\n",
    "    # Add some text for labels, title and custom x-axis tick labels, etc.\n",
    "    ax.set_ylabel(' Proportion of visits to each state')\n",
    "    ax.set_title('Relative Evidence')\n",
    "    ax.set_xticks(x + width/2, labels)\n",
    "    ax.legend(loc='upper right')\n",
    "    #plt.savefig('Marginal_Likelihoods.png')\n",
    "    plt.show()"
   ]
  },
  {
   "cell_type": "code",
   "execution_count": null,
   "id": "e8d341a5-e307-4061-b174-30e006097183",
   "metadata": {},
   "outputs": [],
   "source": [
    "# corner plots to check sampling within each state\n",
    "if(plotting):\n",
    "    muplot = mls.copy()\n",
    "    muplot[1] = mtrue\n",
    "    # collect trans samples\n",
    "    transc_ensemble,model_chain,states_chain = key.get_transc_samples(discard=0,thin=thin,flat=True,returnchains=True)\n",
    "    contour_kwargs = {\"linewidths\" : 0.5}\n",
    "    data_kwargs = {\"color\" : \"slateblue\"}\n",
    "    for i in range(1,nstates):\n",
    "        string = 'Order '+str(i)\n",
    "        print(' State; ',i,' in ',ndims[i],' dimensions')\n",
    "        fig = corner.corner(\n",
    "            flatten_extend(transc_ensemble[i]).reshape(-1,ndims[i]), \n",
    "            truths=muplot[i],\n",
    "            title=string,\n",
    "            bins=40,hist_bin_factor=2,smooth=True,contour_kwargs=contour_kwargs,data_kwargs=data_kwargs\n",
    "            );"
   ]
  },
  {
   "cell_type": "code",
   "execution_count": null,
   "id": "6683b7c2-17f5-464b-ae45-78f910f0c236",
   "metadata": {},
   "outputs": [],
   "source": [
    "print(' Here is the Trans-C ensemble with\\n {} samples in state 1\\n {} samples in state 2\\n {} samples in state 3\\n'\n",
    "      .format(len(transc_ensemble[0]),len(transc_ensemble[1]),len(transc_ensemble[2])),'\\n',transc_ensemble)"
   ]
  },
  {
   "cell_type": "markdown",
   "id": "d68ec310-9576-4bb7-8ddf-7e4ddbe75cdd",
   "metadata": {},
   "source": [
    "---------"
   ]
  },
  {
   "cell_type": "code",
   "execution_count": null,
   "id": "e2b822a5-32fb-4756-b491-e063ddf6160e",
   "metadata": {},
   "outputs": [],
   "source": []
  }
 ],
 "metadata": {
  "kernelspec": {
   "display_name": "Python 3 (ipykernel)",
   "language": "python",
   "name": "python3"
  },
  "language_info": {
   "codemirror_mode": {
    "name": "ipython",
    "version": 3
   },
   "file_extension": ".py",
   "mimetype": "text/x-python",
   "name": "python",
   "nbconvert_exporter": "python",
   "pygments_lexer": "ipython3",
   "version": "3.13.1"
  }
 },
 "nbformat": 4,
 "nbformat_minor": 5
}
