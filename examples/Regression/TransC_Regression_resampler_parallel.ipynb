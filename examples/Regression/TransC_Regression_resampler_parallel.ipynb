{
 "cells": [
  {
   "cell_type": "markdown",
   "id": "2be3125f-03e9-4c1a-91e4-98d8677ae19c",
   "metadata": {},
   "source": [
    "## Example of Trans-C sampling across independent model states: Regression\n",
    "\n",
    "This notebook demonstrates Bayesian sampling of a linear polynomial regression problem\n",
    "using the Ensemble resampler."
   ]
  },
  {
   "cell_type": "code",
   "execution_count": 1,
   "id": "a0c36aa4-4cc4-4ca2-b984-26cfde5d068a",
   "metadata": {},
   "outputs": [],
   "source": [
    "# general python utility packages\n",
    "import time\n",
    "from collections import Counter\n",
    "from functools import partial\n",
    "\n",
    "import corner\n",
    "import matplotlib.pyplot as plt\n",
    "import numpy as np\n",
    "import scipy.stats as stats\n",
    "from scipy.optimize import minimize\n",
    "from concurrent.futures import ProcessPoolExecutor, ThreadPoolExecutor\n"
   ]
  },
  {
   "cell_type": "code",
   "execution_count": 2,
   "id": "b54a941c-6cc0-4b01-8fbd-bfd338f01e58",
   "metadata": {},
   "outputs": [],
   "source": [
    "from pytransc.analysis.samples import resample_ensembles\n",
    "from pytransc.analysis.visits import (\n",
    "    count_state_changes,\n",
    "    count_total_state_changes,\n",
    "    get_acceptance_rate_between_states,\n",
    "    get_autocorr_between_state_jumps,\n",
    "    get_relative_marginal_likelihoods,\n",
    "    get_visits_to_states,\n",
    ")\n",
    "from pytransc.samplers import run_ensemble_resampler, run_mcmc_per_state\n",
    "from pytransc.utils.auto_pseudo import build_auto_pseudo_prior"
   ]
  },
  {
   "cell_type": "code",
   "execution_count": 3,
   "id": "a3cbf0fd-e567-49d9-b1e0-829c1662f6e3",
   "metadata": {
    "jupyter": {
     "source_hidden": true
    }
   },
   "outputs": [],
   "source": [
    "def solveLS(d, G, Cdinv, mu=None, Cmpriorinv=None):  # Least squares solver\n",
    "    \"\"\"Solve the least squares problem given data, design matrix, and covariance matrices.\"\"\"\n",
    "    A = np.dot(np.transpose(G), Cdinv)  # Find solution\n",
    "    GtG = np.dot(A, G)  # G^T C_inv G^T\n",
    "    if (Cmpriorinv is not None) and (mu is not None):\n",
    "        GtG += Cmpriorinv\n",
    "    GtGinv = np.linalg.inv(GtG)  # Inverse of G^TC_inv G\n",
    "    B = np.dot(A, d)\n",
    "    if (Cmpriorinv is not None) and (mu is not None):\n",
    "        B += np.dot(Cmpriorinv, mu)\n",
    "    mls = np.dot(GtGinv, B)\n",
    "    return mls, GtGinv"
   ]
  },
  {
   "cell_type": "code",
   "execution_count": 4,
   "id": "a6290310-fe58-49f1-98cc-8da741d57f3e",
   "metadata": {
    "jupyter": {
     "source_hidden": true
    }
   },
   "outputs": [],
   "source": [
    "def calcE(dp, dobs, Cdinv, Cmpost, m, muprior, Cmpriorinv):\n",
    "    \"\"\"Calculate the evidence for the model given data, prior, and posterior covariances.\"\"\"\n",
    "    misfit = 0.5 * (np.dot((dobs - dp), np.dot(Cdinv, (dobs - dp))))\n",
    "    misfit += 0.5 * (np.dot((muprior - m), np.dot(Cmpriorinv, (muprior - m))))\n",
    "    f = np.sqrt(2 * np.pi) ** len(dp)\n",
    "    detCdinv = np.linalg.det(Cdinv)\n",
    "    detCmpost = np.linalg.det(Cmpost)\n",
    "    detCmpriorinv = np.linalg.det(Cmpriorinv)\n",
    "    E = np.sqrt(detCmpost * detCdinv * detCmpriorinv) * np.exp(-misfit) / f\n",
    "    return E"
   ]
  },
  {
   "cell_type": "markdown",
   "id": "c5c43725-4269-412e-809b-9848cc3c79a1",
   "metadata": {},
   "source": [
    "--------"
   ]
  },
  {
   "cell_type": "markdown",
   "id": "b411a522-0f82-4fc1-84fe-4807e8a8fb2e",
   "metadata": {},
   "source": [
    "## Polynomial regression theory\n",
    "\n",
    "Here we set up a problem of polynomial regression fitting a set of x,y data with up to a 4th order polynomial."
   ]
  },
  {
   "cell_type": "markdown",
   "id": "fa3616da-7904-4a98-bd34-ec56d47d3fa6",
   "metadata": {},
   "source": [
    "To begin with, we will work with polynomial curves, $$y(x) = \\sum_{n=0}^N m_n x^n\\,.$$\n",
    "Here, $N$ is the 'order' of the polynomial: if $N=1$ we have a straight line, if $N=2$ it will be a quadratic, and so on. The $m_n$ are the 'model coefficients'.\n",
    "\n",
    "To compute $y(x)$ for multiple $x$-values simultaneously, we  write $$ \\left(\\begin{array}{c}y_1\\\\y_2\\\\\\vdots\\\\y_N\\end{array}\\right) = \\left(\\begin{array}{ccc}1&x_1&x_1^2\\\\1&x_2&x_2^2\\\\\\vdots&\\vdots&\\vdots\\\\1&x_N&x_N^2\\end{array}\\right)\\left(\\begin{array}{c}m_0\\\\m_1\\\\m_2\\end{array}\\right)$$This has the general form, $\\mathbf{d=Gm}$, and so the best-fitting model can be identified using a least-squares algorithm.\n",
    "\n",
    "The maximum Likelihood solution for this problem is the model which minimizes\n",
    "\n",
    "$$\n",
    "\\phi(\\mathbf{m}) = \\frac{1}{2} (\\mathbf{d-Gm})^TC_D^{-1} (\\mathbf{d-Gm}),\n",
    "$$\n",
    "which leads to\n",
    "\n",
    "$$\n",
    "{\\bf m}_{LS} = \\left(\\mathbf{G}^T C_D^{-1} \\mathbf{G}\\right)^{-1}\\mathbf{G}^T  C_D^{-1} \\mathbf{d}.\n",
    "$$\n",
    "\n",
    "The *MAP* model, $\\hat{{\\bf m}}$, for this problem minimizes of the sum of the negative log-Likelihood and log-Gaussian prior \n",
    "\n",
    "$$\n",
    "\\phi(\\mathbf{m}) = \\frac{1}{2} (\\mathbf{d-Gm})^TC_D^{-1} (\\mathbf{d-Gm}) + \\frac{1}{2} (\\mathbf{m - m_o})^TC_M^{-1} (\\mathbf{m - m_o})\n",
    "$$\n",
    "\n",
    "which leads to\n",
    "\n",
    "$$\n",
    "\\hat{{\\bf m}} = \\left(\\mathbf{G}^T C_D^{-1} \\mathbf{G} + C_M^{-1}\\right)^{-1}(\\mathbf{G}^T  C_D^{-1} \\mathbf{d} + C_M^{-1}\\mathbf{m_o}).\n",
    "$$"
   ]
  },
  {
   "cell_type": "markdown",
   "id": "7e99a078-e476-43ea-ba95-3de2bc0fc72a",
   "metadata": {},
   "source": [
    "For Gaussian Likelihood and prior the evidence is a known analytical expression.\n",
    "\n",
    "$$\n",
    "p{(\\bf d}) = \\frac{e^{-\\phi(\\hat{{\\bf m}})}}{(2\\pi)^{N/2}} \\left[ \\frac{|\\hat{C}_M|}{|C_D||C_M|}\\right]^{1/2}.\n",
    "$$\n",
    "where $\\hat{C}_M$ is the posterior model covariance, \n",
    "\n",
    "$$\n",
    "\\hat{C}_M = \\left(\\mathbf{G}^T C_D^{-1} \\mathbf{G} + C_M^{-1}\\right)^{-1}\n",
    "$$"
   ]
  },
  {
   "cell_type": "code",
   "execution_count": 5,
   "id": "7fc7e8e9-a18d-4f1b-9342-606fe9443ddb",
   "metadata": {},
   "outputs": [],
   "source": [
    "def getG(x, order):\n",
    "    \"\"\"Build design matrix, G for polynomial data fitting, at data points x up to order order.\"\"\"\n",
    "    return np.transpose([x ** (i) for i in range(order + 1)])"
   ]
  },
  {
   "cell_type": "markdown",
   "id": "69aa0205-863d-487c-9bb1-19cf413c1825",
   "metadata": {},
   "source": [
    "We generate some random samples from $y=3x/5+0.3$, add Gaussian random noise to them."
   ]
  },
  {
   "cell_type": "code",
   "execution_count": 6,
   "id": "0f3361af-e634-4a44-9bf2-ba5bc4892230",
   "metadata": {},
   "outputs": [],
   "source": [
    "np.random.seed(61254557)  # noqa: NPY002\n",
    "ndata, sigma = 20, 0.2\n",
    "xobs = np.sort(np.random.rand(ndata))  # noqa: NPY002 ; x values of data\n",
    "mtrue = np.array([0.3, 0.6])\n",
    "G = getG(xobs, 1)\n",
    "dobs = np.dot(G, mtrue) + np.random.normal(0, sigma, size=len(xobs))  # noqa: NPY002\n",
    "Cdinv = np.eye(ndata) / (sigma**2)"
   ]
  },
  {
   "cell_type": "markdown",
   "id": "40db6e8f-c36d-4130-9227-79f553107000",
   "metadata": {},
   "source": [
    "Set up prior for Evidence calculation."
   ]
  },
  {
   "cell_type": "code",
   "execution_count": 7,
   "id": "8e5e4e4a-18b7-46bb-b40c-7ca94628e226",
   "metadata": {},
   "outputs": [],
   "source": [
    "mls, Cmpost, G, Ev, maxorder = [], [], [], [], 3\n",
    "Cmprior = [20 * np.eye(i + 1) for i in np.arange(maxorder + 1)]\n",
    "Cmpriorinv = [0.05 * np.eye(i + 1) for i in np.arange(maxorder + 1)]\n",
    "muprior = [np.zeros(i + 1) for i in np.arange(maxorder + 1)]"
   ]
  },
  {
   "cell_type": "markdown",
   "id": "83759e9a-e40c-492f-872f-a44bcc588754",
   "metadata": {},
   "source": [
    "Solve least squares solution and calculate evidence for each model."
   ]
  },
  {
   "cell_type": "code",
   "execution_count": 8,
   "id": "274188a4-9a86-444b-b0be-8ab031e4218b",
   "metadata": {},
   "outputs": [],
   "source": [
    "for i in range(maxorder + 1):\n",
    "    Gp = getG(xobs, i)\n",
    "    solp, Cmp = solveLS(dobs, Gp, Cdinv)  # Maximum Likelihood solution\n",
    "    dpred = np.dot(Gp, solp)\n",
    "    mls.append(solp)\n",
    "    Cmpost.append(Cmp)\n",
    "    G.append(Gp)\n",
    "    solp2, Cmp2 = solveLS(\n",
    "        dobs, Gp, Cdinv, mu=muprior[i], Cmpriorinv=Cmpriorinv[i]\n",
    "    )  # MAP model and model covariance with Gaussian prior\n",
    "    Ev.append(\n",
    "        calcE(dpred, dobs, Cdinv, Cmp2, solp2, muprior[i], Cmpriorinv[i])\n",
    "    )  # Analytical evidence calculation\n",
    "Ev /= np.sum(Ev)"
   ]
  },
  {
   "cell_type": "markdown",
   "id": "3696a894-39bc-41b2-af63-f222af0d8d83",
   "metadata": {},
   "source": [
    "Plot solutions."
   ]
  },
  {
   "cell_type": "code",
   "execution_count": 9,
   "id": "fee0fba8-aed7-407a-b426-f76fb101321d",
   "metadata": {},
   "outputs": [
    {
     "data": {
      "image/png": "[encoded data removed]",
      "text/plain": [
       "<Figure size 800x600 with 1 Axes>"
      ]
     },
     "metadata": {},
     "output_type": "display_data"
    }
   ],
   "source": [
    "xplot = np.linspace(-0.25, 1.25, 100)\n",
    "Gplot = getG(xplot, 1)\n",
    "dplot = np.dot(Gplot, mtrue)\n",
    "#\n",
    "plt.figure(figsize=(8, 6))\n",
    "plt.errorbar(xobs, dobs, yerr=sigma, capsize=3, fmt=\"ko\", ecolor=\"grey\", lw=0.5)\n",
    "plt.plot(xplot, dplot, label=\"True\", color=\"k\", lw=0.8)\n",
    "for i in range(maxorder + 1):\n",
    "    Gplotp = getG(xplot, i)\n",
    "    dpred = np.dot(Gplotp, mls[i])\n",
    "    plt.plot(xplot, dpred, label=\"Best fit p=\" + str(i), lw=0.5)\n",
    "plt.xlabel(\"x\")\n",
    "plt.ylabel(\"y\")\n",
    "plt.ylim(-0.2, 1.3)\n",
    "plt.legend()\n",
    "plt.show()"
   ]
  },
  {
   "cell_type": "code",
   "execution_count": 10,
   "id": "acf67702-6226-46d1-bc9d-367926c03a86",
   "metadata": {},
   "outputs": [
    {
     "data": {
      "image/png": "[encoded data removed]",
      "text/plain": [
       "<Figure size 640x480 with 1 Axes>"
      ]
     },
     "metadata": {},
     "output_type": "display_data"
    }
   ],
   "source": [
    "# plot evidence values\n",
    "\n",
    "fig, ax = plt.subplots()\n",
    "\n",
    "fruits = [\n",
    "    r\"$y=m_o$\",\n",
    "    r\"$y=m_o + m_1x$\",\n",
    "    r\"$y = \\sum_{i=0}^2 m_ix^i$\",\n",
    "    r\"$y = \\sum_{i=0}^3 m_ix^i$\",\n",
    "]\n",
    "counts = [Ev[i] for i in range(maxorder + 1)]\n",
    "bar_labels = [\n",
    "    \"Order 0\",\n",
    "    \"Order 1\",\n",
    "    \"Order 2\",\n",
    "    \"Order 3\",\n",
    "]  # Define a list of labels, one for each bar\n",
    "\n",
    "bar_colors = [\n",
    "    \"skyblue\",\n",
    "    \"lightcoral\",\n",
    "    \"lightgreen\",\n",
    "    \"gold\",\n",
    "]  # Define a list of colors, one for each bar\n",
    "\n",
    "ax.bar(fruits, counts, label=bar_labels, width=0.5, color=bar_colors)\n",
    "\n",
    "ax.set_ylabel(\"Relative posterior evidence\")\n",
    "ax.set_title(\"Evidence estimate for each model\")\n",
    "ax.legend(title=\"Relative Evidence\")\n",
    "\n",
    "plt.show()"
   ]
  },
  {
   "cell_type": "code",
   "execution_count": 11,
   "id": "23a4bce3-6201-4076-b073-532aea1d6395",
   "metadata": {},
   "outputs": [
    {
     "data": {
      "text/plain": [
       "array([0.17163235, 0.64217786, 0.12414475, 0.06204504])"
      ]
     },
     "execution_count": 11,
     "metadata": {},
     "output_type": "execute_result"
    }
   ],
   "source": [
    "Ev"
   ]
  },
  {
   "cell_type": "markdown",
   "id": "4375a006-386f-4866-a08d-5ca450ab05a2",
   "metadata": {},
   "source": [
    "----------------"
   ]
  },
  {
   "cell_type": "markdown",
   "id": "96f529eb-993e-4fcd-a4f3-6c9174d2e0ea",
   "metadata": {},
   "source": [
    "Set some global control parameters."
   ]
  },
  {
   "cell_type": "code",
   "execution_count": 12,
   "id": "afd65bdc-56dd-4a9b-977e-f3c3b6b8bb41",
   "metadata": {},
   "outputs": [],
   "source": [
    "plotting = True  # Create some diagnostic displays of outputs\n",
    "parallel = False  # Use parallel computation for sampling"
   ]
  },
  {
   "cell_type": "markdown",
   "id": "7d2ba376-0b2b-40cc-9108-8de4a58b9379",
   "metadata": {},
   "source": [
    "### Log-posterior Likeihood, prior and PDF for each state"
   ]
  },
  {
   "cell_type": "code",
   "execution_count": 13,
   "id": "8669e5a3-af89-46a8-8bdc-fbe6470bbe55",
   "metadata": {},
   "outputs": [],
   "source": [
    "def _log_likelihood(x, state, dobs, G, Cdinv):\n",
    "    \"\"\"Calculate the log likelihood of the data given the model parameters.\"\"\"\n",
    "    dpred = np.dot(G[state], x)\n",
    "    misfit = 0.5 * (np.dot((dobs - dpred), np.dot(Cdinv, (dobs - dpred))))\n",
    "    f = np.sqrt(2 * np.pi) ** len(dpred)\n",
    "    detCdinv = np.linalg.det(Cdinv)\n",
    "    logL = -np.log(f) - misfit + np.log(detCdinv)\n",
    "    return logL\n",
    "\n",
    "\n",
    "log_likelihood = partial(_log_likelihood, dobs=dobs, G=G, Cdinv=Cdinv)"
   ]
  },
  {
   "cell_type": "code",
   "execution_count": 14,
   "id": "fcc8563b-c17a-4450-b057-3086d1df2d4f",
   "metadata": {},
   "outputs": [],
   "source": [
    "def _log_prior(x, state, muprior, Cmprior):\n",
    "    \"\"\"Calculate the log prior probability of the model parameters.\"\"\"\n",
    "    mu = muprior[state]\n",
    "    cov = Cmprior[state]\n",
    "    rv = stats.multivariate_normal(\n",
    "        mean=mu, cov=cov\n",
    "    )  # instance of multi-dimensional Gaussian\n",
    "    return rv.logpdf(x)\n",
    "\n",
    "\n",
    "log_prior = partial(_log_prior, muprior=muprior, Cmprior=Cmprior)"
   ]
  },
  {
   "cell_type": "code",
   "execution_count": 15,
   "id": "f4401462-302c-44e7-8fd7-b48f36d0ef44",
   "metadata": {},
   "outputs": [],
   "source": [
    "def log_posterior(x, state):\n",
    "    \"\"\"Multi-state log Posterior PDF evaluation (unormalised).\"\"\"\n",
    "    return log_likelihood(x, state) + log_prior(x, state)"
   ]
  },
  {
   "cell_type": "code",
   "execution_count": 16,
   "id": "539bdd85-f7de-4ce1-867d-49854381d2a6",
   "metadata": {},
   "outputs": [
    {
     "name": "stdout",
     "output_type": "stream",
     "text": [
      "Maximum likelihood estimates:\n",
      "x_ml  [0.58148024]\n",
      "x_ml  [0.37788932 0.48664354]\n",
      "x_ml  [ 0.31354801  0.95796058 -0.52400541]\n",
      "x_ml  [ 0.28548373  1.4395107  -1.83289387  0.89632873]\n"
     ]
    }
   ],
   "source": [
    "# first we optimize each state to find good starting point for all McMC samplers\n",
    "rng = np.random.default_rng(42)\n",
    "nstates = maxorder + 1  # Number of distinct states\n",
    "ndims = [1, 2, 3, 4]  # Number of model parameters in each stateif(True):\n",
    "nll = lambda *args: -log_posterior(*args)\n",
    "ml = []\n",
    "print(\"Maximum likelihood estimates:\")\n",
    "for i in range(nstates):\n",
    "    initial = 0.5 * np.ones(i + 1)\n",
    "    soln = minimize(nll, initial, args=(i,))\n",
    "    ml.append(soln.x)\n",
    "    print(\"x_ml \", soln.x)"
   ]
  },
  {
   "cell_type": "markdown",
   "id": "52e51c05-7cae-4799-9c3f-ec551f7afc21",
   "metadata": {},
   "source": [
    "## Trans-C samping across model states with the Ensemble resampler "
   ]
  },
  {
   "cell_type": "markdown",
   "id": "a73a8b15-6d77-4c70-8f8a-61a8d34806a3",
   "metadata": {},
   "source": [
    "Here we demonstrate use of the *Ensemble resampler*.\n",
    "\n",
    "This formulation is equivalent to the *State-jump sampler* with the pseudo-prior being an approximation of the posterior PDF in each state. \n",
    "\n",
    "This consists of the following steps:\n",
    "- Generate posterior ensembles in each state\n",
    "- Build a pseudo prior PDF from these ensembles, and evaluate its log for all models in the ensembles.\n",
    "- Sampler across the ensembles over the integer state label variable, $k$."
   ]
  },
  {
   "cell_type": "markdown",
   "id": "de380a98-cd6a-467d-8f39-20f3abac9592",
   "metadata": {},
   "source": [
    "Run Ensemble resampler in each state separately."
   ]
  },
  {
   "cell_type": "markdown",
   "id": "82941f68-f3b7-4bfc-9d05-ba2b6016199c",
   "metadata": {},
   "source": [
    "### Preliminaries "
   ]
  },
  {
   "cell_type": "markdown",
   "id": "65e6614c-ca74-4e39-9e71-b461a49b9030",
   "metadata": {},
   "source": [
    "First find good starting models in each state, and then run Ensemble resampler in each state separately."
   ]
  },
  {
   "cell_type": "code",
   "execution_count": 17,
   "id": "e88d3c36-d29d-42e2-b15e-1cca1a131260",
   "metadata": {},
   "outputs": [],
   "source": [
    "# setup of MCMC sampler\n",
    "nsamples_es = 4 * [50000]  # number of samples per chain for sampling of each state\n",
    "nwalkers_es = 4 * [32]  # number of mcmc chains to run in each state\n",
    "pos = []\n",
    "for i in range(nstates):  # generate starting points for each chain in each state\n",
    "    pos.append(\n",
    "        ml[i] + 1e-4 * rng.standard_normal((nwalkers_es[i], ndims[i]))\n",
    "    )  # add random perturbation to maximum Likelihood models"
   ]
  },
  {
   "cell_type": "code",
   "execution_count": 18,
   "id": "09b785b7-d598-480c-8890-20396c0fed8a",
   "metadata": {},
   "outputs": [
    {
     "name": "stdout",
     "output_type": "stream",
     "text": [
      "\n",
      "Running within-state sampler separately on each state\n",
      "\n",
      "Number of walkers               :  [32, 32, 32, 32]\n",
      "\n",
      "Number of states being sampled:  4\n",
      "Dimensions of each state:  [1, 2, 3, 4]\n"
     ]
    },
    {
     "name": "stderr",
     "output_type": "stream",
     "text": [
      " 47%|█████████████████████████████████████████▏                                             | 23656/50000 [00:48<00:53, 496.45it/s]Traceback (most recent call last):\n",
      "  File \"/Users/malcolm/transC/lib/python3.13/site-packages/emcee/ensemble.py\", line 640, in __call__\n",
      "    return self.f(x, *self.args, **self.kwargs)\n",
      "           ~~~~~~^^^^^^^^^^^^^^^^^^^^^^^^^^^^^^\n",
      "  File \"/var/folders/0t/ftbq8mb966l2b8ww0k8zqfbc0000gn/T/ipykernel_74760/3816221811.py\", line 3, in log_posterior\n",
      "    return log_likelihood(x, state) + log_prior(x, state)\n",
      "                                      ~~~~~~~~~^^^^^^^^^^\n",
      "  File \"/var/folders/0t/ftbq8mb966l2b8ww0k8zqfbc0000gn/T/ipykernel_74760/3642051595.py\", line 5, in _log_prior\n",
      "    rv = stats.multivariate_normal(\n",
      "        mean=mu, cov=cov\n",
      "    )  # instance of multi-dimensional Gaussian\n",
      "  File \"/Users/malcolm/transC/lib/python3.13/site-packages/scipy/stats/_multivariate.py\", line 401, in __call__\n",
      "    return multivariate_normal_frozen(mean, cov,\n",
      "                                      allow_singular=allow_singular,\n",
      "                                      seed=seed)\n",
      "  File \"/Users/malcolm/transC/lib/python3.13/site-packages/scipy/stats/_multivariate.py\", line 906, in __init__\n",
      "    self._dist = multivariate_normal_gen(seed)\n",
      "                 ~~~~~~~~~~~~~~~~~~~~~~~^^^^^^\n",
      "  File \"/Users/malcolm/transC/lib/python3.13/site-packages/scipy/stats/_multivariate.py\", line 394, in __init__\n",
      "    self.__doc__ = doccer.docformat(self.__doc__, mvn_docdict_params)\n",
      "                   ~~~~~~~~~~~~~~~~^^^^^^^^^^^^^^^^^^^^^^^^^^^^^^^^^^\n",
      "  File \"/Users/malcolm/transC/lib/python3.13/site-packages/scipy/_lib/doccer.py\", line 77, in docformat\n",
      "    lines = dstr.expandtabs().splitlines()\n",
      "            ~~~~~~~~~~~~~~~^^\n",
      "KeyboardInterrupt\n",
      " 47%|█████████████████████████████████████████▏                                             | 23674/50000 [00:48<00:53, 492.74it/s]\n"
     ]
    },
    {
     "name": "stdout",
     "output_type": "stream",
     "text": [
      "emcee: Exception while calling your likelihood function:\n",
      "  params: [0.58041476]\n",
      "  args: []\n",
      "  kwargs: {}\n",
      "  exception:\n"
     ]
    },
    {
     "ename": "KeyboardInterrupt",
     "evalue": "",
     "output_type": "error",
     "traceback": [
      "\u001b[31m---------------------------------------------------------------------------\u001b[39m",
      "\u001b[31mKeyboardInterrupt\u001b[39m                         Traceback (most recent call last)",
      "\u001b[36mCell\u001b[39m\u001b[36m \u001b[39m\u001b[32mIn[18]\u001b[39m\u001b[32m, line 3\u001b[39m\n\u001b[32m      1\u001b[39m \u001b[38;5;66;03m# run Ensemble sampler in each state\u001b[39;00m\n\u001b[32m      2\u001b[39m start_time = time.time()\n\u001b[32m----> \u001b[39m\u001b[32m3\u001b[39m ensemble_per_state, log_posterior_ens = \u001b[43mrun_mcmc_per_state\u001b[49m\u001b[43m(\u001b[49m\n\u001b[32m      4\u001b[39m \u001b[43m    \u001b[49m\u001b[43mnstates\u001b[49m\u001b[43m,\u001b[49m\u001b[43m  \u001b[49m\u001b[38;5;66;43;03m# number of states\u001b[39;49;00m\n\u001b[32m      5\u001b[39m \u001b[43m    \u001b[49m\u001b[43mndims\u001b[49m\u001b[43m,\u001b[49m\u001b[43m  \u001b[49m\u001b[38;5;66;43;03m# number of dimensions in each state\u001b[39;49;00m\n\u001b[32m      6\u001b[39m \u001b[43m    \u001b[49m\u001b[43mnwalkers_es\u001b[49m\u001b[43m,\u001b[49m\u001b[43m  \u001b[49m\u001b[38;5;66;43;03m# int or list containing number of walkers for each state\u001b[39;49;00m\n\u001b[32m      7\u001b[39m \u001b[43m    \u001b[49m\u001b[43mnsamples_es\u001b[49m\u001b[43m,\u001b[49m\u001b[43m  \u001b[49m\u001b[38;5;66;43;03m# number of chain steps per walker\u001b[39;49;00m\n\u001b[32m      8\u001b[39m \u001b[43m    \u001b[49m\u001b[43mpos\u001b[49m\u001b[43m,\u001b[49m\u001b[43m  \u001b[49m\u001b[38;5;66;43;03m# starting positions for walkers in each state\u001b[39;49;00m\n\u001b[32m      9\u001b[39m \u001b[43m    \u001b[49m\u001b[43mlog_posterior\u001b[49m\u001b[43m,\u001b[49m\u001b[43m  \u001b[49m\u001b[38;5;66;43;03m# log Likelihood x log_prior\u001b[39;49;00m\n\u001b[32m     10\u001b[39m \u001b[43m    \u001b[49m\u001b[43mdiscard\u001b[49m\u001b[43m=\u001b[49m\u001b[32;43m0\u001b[39;49m\u001b[43m,\u001b[49m\u001b[43m  \u001b[49m\u001b[38;5;66;43;03m# burnin number of chain steps to discard in eeach state\u001b[39;49;00m\n\u001b[32m     11\u001b[39m \u001b[43m    \u001b[49m\u001b[43mauto_thin\u001b[49m\u001b[43m=\u001b[49m\u001b[38;5;28;43;01mTrue\u001b[39;49;00m\u001b[43m,\u001b[49m\u001b[43m  \u001b[49m\u001b[38;5;66;43;03m# thinning value, save every `thin` models\u001b[39;49;00m\n\u001b[32m     12\u001b[39m \u001b[43m)\u001b[49m  \u001b[38;5;66;03m# show progress bar for each state\u001b[39;00m\n\u001b[32m     13\u001b[39m elapsed_time = time.time() - start_time\n\u001b[32m     15\u001b[39m \u001b[38;5;28mprint\u001b[39m(\n\u001b[32m     16\u001b[39m     \u001b[33m\"\u001b[39m\u001b[33m Elapsed time                                     :\u001b[39m\u001b[33m\"\u001b[39m,\n\u001b[32m     17\u001b[39m     np.round(elapsed_time, \u001b[32m2\u001b[39m),\n\u001b[32m     18\u001b[39m     \u001b[33m\"\u001b[39m\u001b[33ms \u001b[39m\u001b[38;5;130;01m\\n\u001b[39;00m\u001b[33m\"\u001b[39m,\n\u001b[32m     19\u001b[39m )\n",
      "\u001b[36mFile \u001b[39m\u001b[32m~/transC/lib/python3.13/site-packages/pytransc/samplers/per_state.py:249\u001b[39m, in \u001b[36mrun_mcmc_per_state\u001b[39m\u001b[34m(n_states, n_dims, n_walkers, n_steps, pos, log_posterior, discard, thin, auto_thin, seed, state_pool, emcee_pool, parallel, n_processors, n_state_processors, skip_initial_state_check, verbose, **kwargs)\u001b[39m\n\u001b[32m    247\u001b[39m             \u001b[38;5;28;01mdel\u001b[39;00m args[\u001b[33m'\u001b[39m\u001b[33memcee_pool_config\u001b[39m\u001b[33m'\u001b[39m]\n\u001b[32m    248\u001b[39m         args[\u001b[33m'\u001b[39m\u001b[33memcee_pool\u001b[39m\u001b[33m'\u001b[39m] = emcee_pool\n\u001b[32m--> \u001b[39m\u001b[32m249\u001b[39m     results = [\u001b[43m_process_single_state\u001b[49m\u001b[43m(\u001b[49m\u001b[43margs\u001b[49m\u001b[43m)\u001b[49m \u001b[38;5;28;01mfor\u001b[39;00m args \u001b[38;5;129;01min\u001b[39;00m state_args]\n\u001b[32m    251\u001b[39m \u001b[38;5;66;03m# Unpack results\u001b[39;00m\n\u001b[32m    252\u001b[39m samples = [result[\u001b[32m0\u001b[39m] \u001b[38;5;28;01mfor\u001b[39;00m result \u001b[38;5;129;01min\u001b[39;00m results]\n",
      "\u001b[36mFile \u001b[39m\u001b[32m~/transC/lib/python3.13/site-packages/pytransc/samplers/per_state.py:377\u001b[39m, in \u001b[36m_process_single_state\u001b[39m\u001b[34m(state_args)\u001b[39m\n\u001b[32m    373\u001b[39m process_kwargs = {k: v \u001b[38;5;28;01mfor\u001b[39;00m k, v \u001b[38;5;129;01min\u001b[39;00m state_args.items()\n\u001b[32m    374\u001b[39m                  \u001b[38;5;28;01mif\u001b[39;00m k \u001b[38;5;129;01mnot\u001b[39;00m \u001b[38;5;129;01min\u001b[39;00m [\u001b[33m'\u001b[39m\u001b[33mstate_idx\u001b[39m\u001b[33m'\u001b[39m, \u001b[33m'\u001b[39m\u001b[33mlog_posterior\u001b[39m\u001b[33m'\u001b[39m, \u001b[33m'\u001b[39m\u001b[33memcee_pool_config\u001b[39m\u001b[33m'\u001b[39m]}\n\u001b[32m    376\u001b[39m \u001b[38;5;28;01mtry\u001b[39;00m:\n\u001b[32m--> \u001b[39m\u001b[32m377\u001b[39m     result = \u001b[43mprocess_state\u001b[49m\u001b[43m(\u001b[49m\n\u001b[32m    378\u001b[39m \u001b[43m        \u001b[49m\u001b[43mlog_posterior\u001b[49m\u001b[43m=\u001b[49m\u001b[43m_log_posterior\u001b[49m\u001b[43m,\u001b[49m\n\u001b[32m    379\u001b[39m \u001b[43m        \u001b[49m\u001b[43mpool\u001b[49m\u001b[43m=\u001b[49m\u001b[43memcee_pool\u001b[49m\u001b[43m,\u001b[49m\n\u001b[32m    380\u001b[39m \u001b[43m        \u001b[49m\u001b[43m*\u001b[49m\u001b[43m*\u001b[49m\u001b[43mprocess_kwargs\u001b[49m\n\u001b[32m    381\u001b[39m \u001b[43m    \u001b[49m\u001b[43m)\u001b[49m\n\u001b[32m    382\u001b[39m \u001b[38;5;28;01mfinally\u001b[39;00m:\n\u001b[32m    383\u001b[39m     \u001b[38;5;66;03m# Clean up emcee pool if we created it\u001b[39;00m\n\u001b[32m    384\u001b[39m     \u001b[38;5;28;01mif\u001b[39;00m emcee_pool \u001b[38;5;129;01mis\u001b[39;00m \u001b[38;5;129;01mnot\u001b[39;00m \u001b[38;5;28;01mNone\u001b[39;00m \u001b[38;5;129;01mand\u001b[39;00m emcee_pool_config \u001b[38;5;129;01mis\u001b[39;00m \u001b[38;5;129;01mnot\u001b[39;00m \u001b[38;5;28;01mNone\u001b[39;00m:\n",
      "\u001b[36mFile \u001b[39m\u001b[32m~/transC/lib/python3.13/site-packages/pytransc/samplers/per_state.py:278\u001b[39m, in \u001b[36mprocess_state\u001b[39m\u001b[34m(log_posterior, n_walkers, pos, n_steps, discard, thin, parallel, n_processors, verbose, pool, **kwargs)\u001b[39m\n\u001b[32m    264\u001b[39m \u001b[38;5;28;01mdef\u001b[39;00m\u001b[38;5;250m \u001b[39m\u001b[34mprocess_state\u001b[39m(\n\u001b[32m    265\u001b[39m     log_posterior: Callable[[FloatArray], \u001b[38;5;28mfloat\u001b[39m],\n\u001b[32m    266\u001b[39m     n_walkers: \u001b[38;5;28mint\u001b[39m,\n\u001b[32m   (...)\u001b[39m\u001b[32m    275\u001b[39m     **kwargs: Any,\n\u001b[32m    276\u001b[39m ) -> \u001b[38;5;28mtuple\u001b[39m[FloatArray, FloatArray, FloatArray]:\n\u001b[32m    277\u001b[39m \u001b[38;5;250m    \u001b[39m\u001b[33;03m\"\"\"Get the posterior samples, log probabilities, and autocorrelation times for a single state.\"\"\"\u001b[39;00m\n\u001b[32m--> \u001b[39m\u001b[32m278\u001b[39m     sampler = \u001b[43mperform_sampling_with_emcee\u001b[49m\u001b[43m(\u001b[49m\n\u001b[32m    279\u001b[39m \u001b[43m        \u001b[49m\u001b[43mlog_prob_func\u001b[49m\u001b[43m=\u001b[49m\u001b[43mlog_posterior\u001b[49m\u001b[43m,\u001b[49m\n\u001b[32m    280\u001b[39m \u001b[43m        \u001b[49m\u001b[43mn_walkers\u001b[49m\u001b[43m=\u001b[49m\u001b[43mn_walkers\u001b[49m\u001b[43m,\u001b[49m\n\u001b[32m    281\u001b[39m \u001b[43m        \u001b[49m\u001b[43mn_steps\u001b[49m\u001b[43m=\u001b[49m\u001b[43mn_steps\u001b[49m\u001b[43m,\u001b[49m\n\u001b[32m    282\u001b[39m \u001b[43m        \u001b[49m\u001b[43minitial_state\u001b[49m\u001b[43m=\u001b[49m\u001b[43mpos\u001b[49m\u001b[43m,\u001b[49m\n\u001b[32m    283\u001b[39m \u001b[43m        \u001b[49m\u001b[43mpool\u001b[49m\u001b[43m=\u001b[49m\u001b[43mpool\u001b[49m\u001b[43m,\u001b[49m\n\u001b[32m    284\u001b[39m \u001b[43m        \u001b[49m\u001b[43mparallel\u001b[49m\u001b[43m=\u001b[49m\u001b[43mparallel\u001b[49m\u001b[43m,\u001b[49m\n\u001b[32m    285\u001b[39m \u001b[43m        \u001b[49m\u001b[43mn_processors\u001b[49m\u001b[43m=\u001b[49m\u001b[43mn_processors\u001b[49m\u001b[43m,\u001b[49m\n\u001b[32m    286\u001b[39m \u001b[43m        \u001b[49m\u001b[43mprogress\u001b[49m\u001b[43m=\u001b[49m\u001b[43mverbose\u001b[49m\u001b[43m,\u001b[49m\n\u001b[32m    287\u001b[39m \u001b[43m        \u001b[49m\u001b[43m*\u001b[49m\u001b[43m*\u001b[49m\u001b[43mkwargs\u001b[49m\u001b[43m,\u001b[49m\n\u001b[32m    288\u001b[39m \u001b[43m    \u001b[49m\u001b[43m)\u001b[49m\n\u001b[32m    289\u001b[39m     samples = sampler.get_chain(discard=discard, thin=thin, flat=\u001b[38;5;28;01mTrue\u001b[39;00m)\n\u001b[32m    290\u001b[39m     \u001b[38;5;28;01mif\u001b[39;00m samples \u001b[38;5;129;01mis\u001b[39;00m \u001b[38;5;28;01mNone\u001b[39;00m:\n",
      "\u001b[36mFile \u001b[39m\u001b[32m~/transC/lib/python3.13/site-packages/pytransc/samplers/_emcee.py:117\u001b[39m, in \u001b[36mperform_sampling_with_emcee\u001b[39m\u001b[34m(log_prob_func, n_walkers, n_steps, initial_state, pool, **kwargs)\u001b[39m\n\u001b[32m    109\u001b[39m     created_pool = \u001b[38;5;28;01mNone\u001b[39;00m\n\u001b[32m    111\u001b[39m sampler = EnsembleSampler(\n\u001b[32m    112\u001b[39m     nwalkers=n_walkers,\n\u001b[32m    113\u001b[39m     ndim=initial_state.shape[\u001b[32m1\u001b[39m],\n\u001b[32m    114\u001b[39m     log_prob_fn=log_prob_func,\n\u001b[32m    115\u001b[39m     **initialisation_kwargs,\n\u001b[32m    116\u001b[39m )\n\u001b[32m--> \u001b[39m\u001b[32m117\u001b[39m \u001b[43msampler\u001b[49m\u001b[43m.\u001b[49m\u001b[43mrun_mcmc\u001b[49m\u001b[43m(\u001b[49m\u001b[43minitial_state\u001b[49m\u001b[43m,\u001b[49m\u001b[43m \u001b[49m\u001b[43mn_steps\u001b[49m\u001b[43m,\u001b[49m\u001b[43m \u001b[49m\u001b[43m*\u001b[49m\u001b[43m*\u001b[49m\u001b[43mrun_kwargs\u001b[49m\u001b[43m)\u001b[49m\n\u001b[32m    119\u001b[39m \u001b[38;5;66;03m# Clean up internally created pool\u001b[39;00m\n\u001b[32m    120\u001b[39m \u001b[38;5;28;01mif\u001b[39;00m created_pool \u001b[38;5;129;01mis\u001b[39;00m \u001b[38;5;129;01mnot\u001b[39;00m \u001b[38;5;28;01mNone\u001b[39;00m:\n",
      "\u001b[36mFile \u001b[39m\u001b[32m~/transC/lib/python3.13/site-packages/emcee/ensemble.py:450\u001b[39m, in \u001b[36mEnsembleSampler.run_mcmc\u001b[39m\u001b[34m(self, initial_state, nsteps, **kwargs)\u001b[39m\n\u001b[32m    447\u001b[39m     initial_state = \u001b[38;5;28mself\u001b[39m._previous_state\n\u001b[32m    449\u001b[39m results = \u001b[38;5;28;01mNone\u001b[39;00m\n\u001b[32m--> \u001b[39m\u001b[32m450\u001b[39m \u001b[43m\u001b[49m\u001b[38;5;28;43;01mfor\u001b[39;49;00m\u001b[43m \u001b[49m\u001b[43mresults\u001b[49m\u001b[43m \u001b[49m\u001b[38;5;129;43;01min\u001b[39;49;00m\u001b[43m \u001b[49m\u001b[38;5;28;43mself\u001b[39;49m\u001b[43m.\u001b[49m\u001b[43msample\u001b[49m\u001b[43m(\u001b[49m\u001b[43minitial_state\u001b[49m\u001b[43m,\u001b[49m\u001b[43m \u001b[49m\u001b[43miterations\u001b[49m\u001b[43m=\u001b[49m\u001b[43mnsteps\u001b[49m\u001b[43m,\u001b[49m\u001b[43m \u001b[49m\u001b[43m*\u001b[49m\u001b[43m*\u001b[49m\u001b[43mkwargs\u001b[49m\u001b[43m)\u001b[49m\u001b[43m:\u001b[49m\n\u001b[32m    451\u001b[39m \u001b[43m    \u001b[49m\u001b[38;5;28;43;01mpass\u001b[39;49;00m\n\u001b[32m    453\u001b[39m \u001b[38;5;66;03m# Store so that the ``initial_state=None`` case will work\u001b[39;00m\n",
      "\u001b[36mFile \u001b[39m\u001b[32m~/transC/lib/python3.13/site-packages/emcee/ensemble.py:409\u001b[39m, in \u001b[36mEnsembleSampler.sample\u001b[39m\u001b[34m(self, initial_state, log_prob0, rstate0, blobs0, iterations, tune, skip_initial_state_check, thin_by, thin, store, progress, progress_kwargs)\u001b[39m\n\u001b[32m    406\u001b[39m move = \u001b[38;5;28mself\u001b[39m._random.choice(\u001b[38;5;28mself\u001b[39m._moves, p=\u001b[38;5;28mself\u001b[39m._weights)\n\u001b[32m    408\u001b[39m \u001b[38;5;66;03m# Propose\u001b[39;00m\n\u001b[32m--> \u001b[39m\u001b[32m409\u001b[39m state, accepted = \u001b[43mmove\u001b[49m\u001b[43m.\u001b[49m\u001b[43mpropose\u001b[49m\u001b[43m(\u001b[49m\u001b[43mmodel\u001b[49m\u001b[43m,\u001b[49m\u001b[43m \u001b[49m\u001b[43mstate\u001b[49m\u001b[43m)\u001b[49m\n\u001b[32m    410\u001b[39m state.random_state = \u001b[38;5;28mself\u001b[39m.random_state\n\u001b[32m    412\u001b[39m \u001b[38;5;28;01mif\u001b[39;00m tune:\n",
      "\u001b[36mFile \u001b[39m\u001b[32m~/transC/lib/python3.13/site-packages/emcee/moves/red_blue.py:93\u001b[39m, in \u001b[36mRedBlueMove.propose\u001b[39m\u001b[34m(self, model, state)\u001b[39m\n\u001b[32m     90\u001b[39m q, factors = \u001b[38;5;28mself\u001b[39m.get_proposal(s, c, model.random)\n\u001b[32m     92\u001b[39m \u001b[38;5;66;03m# Compute the lnprobs of the proposed position.\u001b[39;00m\n\u001b[32m---> \u001b[39m\u001b[32m93\u001b[39m new_log_probs, new_blobs = \u001b[43mmodel\u001b[49m\u001b[43m.\u001b[49m\u001b[43mcompute_log_prob_fn\u001b[49m\u001b[43m(\u001b[49m\u001b[43mq\u001b[49m\u001b[43m)\u001b[49m\n\u001b[32m     95\u001b[39m \u001b[38;5;66;03m# Loop over the walkers and update them accordingly.\u001b[39;00m\n\u001b[32m     96\u001b[39m \u001b[38;5;28;01mfor\u001b[39;00m i, (j, f, nlp) \u001b[38;5;129;01min\u001b[39;00m \u001b[38;5;28menumerate\u001b[39m(\n\u001b[32m     97\u001b[39m     \u001b[38;5;28mzip\u001b[39m(all_inds[S1], factors, new_log_probs)\n\u001b[32m     98\u001b[39m ):\n",
      "\u001b[36mFile \u001b[39m\u001b[32m~/transC/lib/python3.13/site-packages/emcee/ensemble.py:496\u001b[39m, in \u001b[36mEnsembleSampler.compute_log_prob\u001b[39m\u001b[34m(self, coords)\u001b[39m\n\u001b[32m    494\u001b[39m     \u001b[38;5;28;01melse\u001b[39;00m:\n\u001b[32m    495\u001b[39m         map_func = \u001b[38;5;28mmap\u001b[39m\n\u001b[32m--> \u001b[39m\u001b[32m496\u001b[39m     results = \u001b[38;5;28;43mlist\u001b[39;49m\u001b[43m(\u001b[49m\u001b[43mmap_func\u001b[49m\u001b[43m(\u001b[49m\u001b[38;5;28;43mself\u001b[39;49m\u001b[43m.\u001b[49m\u001b[43mlog_prob_fn\u001b[49m\u001b[43m,\u001b[49m\u001b[43m \u001b[49m\u001b[43mp\u001b[49m\u001b[43m)\u001b[49m\u001b[43m)\u001b[49m\n\u001b[32m    498\u001b[39m \u001b[38;5;28;01mtry\u001b[39;00m:\n\u001b[32m    499\u001b[39m     \u001b[38;5;66;03m# perhaps log_prob_fn returns blobs?\u001b[39;00m\n\u001b[32m    500\u001b[39m \n\u001b[32m   (...)\u001b[39m\u001b[32m    504\u001b[39m     \u001b[38;5;66;03m# l is a length-1 array, np.array([1.234]). In that case blob\u001b[39;00m\n\u001b[32m    505\u001b[39m     \u001b[38;5;66;03m# will become an empty list.\u001b[39;00m\n\u001b[32m    506\u001b[39m     blob = [l[\u001b[32m1\u001b[39m:] \u001b[38;5;28;01mfor\u001b[39;00m l \u001b[38;5;129;01min\u001b[39;00m results \u001b[38;5;28;01mif\u001b[39;00m \u001b[38;5;28mlen\u001b[39m(l) > \u001b[32m1\u001b[39m]\n",
      "\u001b[36mFile \u001b[39m\u001b[32m~/transC/lib/python3.13/site-packages/emcee/ensemble.py:640\u001b[39m, in \u001b[36m_FunctionWrapper.__call__\u001b[39m\u001b[34m(self, x)\u001b[39m\n\u001b[32m    638\u001b[39m \u001b[38;5;28;01mdef\u001b[39;00m\u001b[38;5;250m \u001b[39m\u001b[34m__call__\u001b[39m(\u001b[38;5;28mself\u001b[39m, x):\n\u001b[32m    639\u001b[39m     \u001b[38;5;28;01mtry\u001b[39;00m:\n\u001b[32m--> \u001b[39m\u001b[32m640\u001b[39m         \u001b[38;5;28;01mreturn\u001b[39;00m \u001b[38;5;28;43mself\u001b[39;49m\u001b[43m.\u001b[49m\u001b[43mf\u001b[49m\u001b[43m(\u001b[49m\u001b[43mx\u001b[49m\u001b[43m,\u001b[49m\u001b[43m \u001b[49m\u001b[43m*\u001b[49m\u001b[38;5;28;43mself\u001b[39;49m\u001b[43m.\u001b[49m\u001b[43margs\u001b[49m\u001b[43m,\u001b[49m\u001b[43m \u001b[49m\u001b[43m*\u001b[49m\u001b[43m*\u001b[49m\u001b[38;5;28;43mself\u001b[39;49m\u001b[43m.\u001b[49m\u001b[43mkwargs\u001b[49m\u001b[43m)\u001b[49m\n\u001b[32m    641\u001b[39m     \u001b[38;5;28;01mexcept\u001b[39;00m:  \u001b[38;5;66;03m# pragma: no cover\u001b[39;00m\n\u001b[32m    642\u001b[39m         \u001b[38;5;28;01mimport\u001b[39;00m\u001b[38;5;250m \u001b[39m\u001b[34;01mtraceback\u001b[39;00m\n",
      "\u001b[36mCell\u001b[39m\u001b[36m \u001b[39m\u001b[32mIn[15]\u001b[39m\u001b[32m, line 3\u001b[39m, in \u001b[36mlog_posterior\u001b[39m\u001b[34m(x, state)\u001b[39m\n\u001b[32m      1\u001b[39m \u001b[38;5;28;01mdef\u001b[39;00m\u001b[38;5;250m \u001b[39m\u001b[34mlog_posterior\u001b[39m(x, state):\n\u001b[32m      2\u001b[39m \u001b[38;5;250m    \u001b[39m\u001b[33;03m\"\"\"Multi-state log Posterior PDF evaluation (unormalised).\"\"\"\u001b[39;00m\n\u001b[32m----> \u001b[39m\u001b[32m3\u001b[39m     \u001b[38;5;28;01mreturn\u001b[39;00m log_likelihood(x, state) + \u001b[43mlog_prior\u001b[49m\u001b[43m(\u001b[49m\u001b[43mx\u001b[49m\u001b[43m,\u001b[49m\u001b[43m \u001b[49m\u001b[43mstate\u001b[49m\u001b[43m)\u001b[49m\n",
      "\u001b[36mCell\u001b[39m\u001b[36m \u001b[39m\u001b[32mIn[14]\u001b[39m\u001b[32m, line 5\u001b[39m, in \u001b[36m_log_prior\u001b[39m\u001b[34m(x, state, muprior, Cmprior)\u001b[39m\n\u001b[32m      3\u001b[39m mu = muprior[state]\n\u001b[32m      4\u001b[39m cov = Cmprior[state]\n\u001b[32m----> \u001b[39m\u001b[32m5\u001b[39m rv = \u001b[43mstats\u001b[49m\u001b[43m.\u001b[49m\u001b[43mmultivariate_normal\u001b[49m\u001b[43m(\u001b[49m\n\u001b[32m      6\u001b[39m \u001b[43m    \u001b[49m\u001b[43mmean\u001b[49m\u001b[43m=\u001b[49m\u001b[43mmu\u001b[49m\u001b[43m,\u001b[49m\u001b[43m \u001b[49m\u001b[43mcov\u001b[49m\u001b[43m=\u001b[49m\u001b[43mcov\u001b[49m\n\u001b[32m      7\u001b[39m \u001b[43m\u001b[49m\u001b[43m)\u001b[49m  \u001b[38;5;66;03m# instance of multi-dimensional Gaussian\u001b[39;00m\n\u001b[32m      8\u001b[39m \u001b[38;5;28;01mreturn\u001b[39;00m rv.logpdf(x)\n",
      "\u001b[36mFile \u001b[39m\u001b[32m~/transC/lib/python3.13/site-packages/scipy/stats/_multivariate.py:401\u001b[39m, in \u001b[36mmultivariate_normal_gen.__call__\u001b[39m\u001b[34m(self, mean, cov, allow_singular, seed)\u001b[39m\n\u001b[32m    396\u001b[39m \u001b[38;5;28;01mdef\u001b[39;00m\u001b[38;5;250m \u001b[39m\u001b[34m__call__\u001b[39m(\u001b[38;5;28mself\u001b[39m, mean=\u001b[38;5;28;01mNone\u001b[39;00m, cov=\u001b[32m1\u001b[39m, allow_singular=\u001b[38;5;28;01mFalse\u001b[39;00m, seed=\u001b[38;5;28;01mNone\u001b[39;00m):\n\u001b[32m    397\u001b[39m \u001b[38;5;250m    \u001b[39m\u001b[33;03m\"\"\"Create a frozen multivariate normal distribution.\u001b[39;00m\n\u001b[32m    398\u001b[39m \n\u001b[32m    399\u001b[39m \u001b[33;03m    See `multivariate_normal_frozen` for more information.\u001b[39;00m\n\u001b[32m    400\u001b[39m \u001b[33;03m    \"\"\"\u001b[39;00m\n\u001b[32m--> \u001b[39m\u001b[32m401\u001b[39m     \u001b[38;5;28;01mreturn\u001b[39;00m \u001b[43mmultivariate_normal_frozen\u001b[49m\u001b[43m(\u001b[49m\u001b[43mmean\u001b[49m\u001b[43m,\u001b[49m\u001b[43m \u001b[49m\u001b[43mcov\u001b[49m\u001b[43m,\u001b[49m\n\u001b[32m    402\u001b[39m \u001b[43m                                      \u001b[49m\u001b[43mallow_singular\u001b[49m\u001b[43m=\u001b[49m\u001b[43mallow_singular\u001b[49m\u001b[43m,\u001b[49m\n\u001b[32m    403\u001b[39m \u001b[43m                                      \u001b[49m\u001b[43mseed\u001b[49m\u001b[43m=\u001b[49m\u001b[43mseed\u001b[49m\u001b[43m)\u001b[49m\n",
      "\u001b[36mFile \u001b[39m\u001b[32m~/transC/lib/python3.13/site-packages/scipy/stats/_multivariate.py:906\u001b[39m, in \u001b[36mmultivariate_normal_frozen.__init__\u001b[39m\u001b[34m(self, mean, cov, allow_singular, seed, maxpts, abseps, releps)\u001b[39m\n\u001b[32m    863\u001b[39m \u001b[38;5;28;01mdef\u001b[39;00m\u001b[38;5;250m \u001b[39m\u001b[34m__init__\u001b[39m(\u001b[38;5;28mself\u001b[39m, mean=\u001b[38;5;28;01mNone\u001b[39;00m, cov=\u001b[32m1\u001b[39m, allow_singular=\u001b[38;5;28;01mFalse\u001b[39;00m, seed=\u001b[38;5;28;01mNone\u001b[39;00m,\n\u001b[32m    864\u001b[39m              maxpts=\u001b[38;5;28;01mNone\u001b[39;00m, abseps=\u001b[32m1e-5\u001b[39m, releps=\u001b[32m1e-5\u001b[39m):\n\u001b[32m    865\u001b[39m \u001b[38;5;250m    \u001b[39m\u001b[33;03m\"\"\"Create a frozen multivariate normal distribution.\u001b[39;00m\n\u001b[32m    866\u001b[39m \n\u001b[32m    867\u001b[39m \u001b[33;03m    Parameters\u001b[39;00m\n\u001b[32m   (...)\u001b[39m\u001b[32m    904\u001b[39m \n\u001b[32m    905\u001b[39m \u001b[33;03m    \"\"\"\u001b[39;00m \u001b[38;5;66;03m# numpy/numpydoc#87  # noqa: E501\u001b[39;00m\n\u001b[32m--> \u001b[39m\u001b[32m906\u001b[39m     \u001b[38;5;28mself\u001b[39m._dist = \u001b[43mmultivariate_normal_gen\u001b[49m\u001b[43m(\u001b[49m\u001b[43mseed\u001b[49m\u001b[43m)\u001b[49m\n\u001b[32m    907\u001b[39m     \u001b[38;5;28mself\u001b[39m.dim, \u001b[38;5;28mself\u001b[39m.mean, \u001b[38;5;28mself\u001b[39m.cov_object = (\n\u001b[32m    908\u001b[39m         \u001b[38;5;28mself\u001b[39m._dist._process_parameters(mean, cov, allow_singular))\n\u001b[32m    909\u001b[39m     \u001b[38;5;28mself\u001b[39m.allow_singular = allow_singular \u001b[38;5;129;01mor\u001b[39;00m \u001b[38;5;28mself\u001b[39m.cov_object._allow_singular\n",
      "\u001b[36mFile \u001b[39m\u001b[32m~/transC/lib/python3.13/site-packages/scipy/stats/_multivariate.py:394\u001b[39m, in \u001b[36mmultivariate_normal_gen.__init__\u001b[39m\u001b[34m(self, seed)\u001b[39m\n\u001b[32m    392\u001b[39m \u001b[38;5;28;01mdef\u001b[39;00m\u001b[38;5;250m \u001b[39m\u001b[34m__init__\u001b[39m(\u001b[38;5;28mself\u001b[39m, seed=\u001b[38;5;28;01mNone\u001b[39;00m):\n\u001b[32m    393\u001b[39m     \u001b[38;5;28msuper\u001b[39m().\u001b[34m__init__\u001b[39m(seed)\n\u001b[32m--> \u001b[39m\u001b[32m394\u001b[39m     \u001b[38;5;28mself\u001b[39m.\u001b[34m__doc__\u001b[39m = \u001b[43mdoccer\u001b[49m\u001b[43m.\u001b[49m\u001b[43mdocformat\u001b[49m\u001b[43m(\u001b[49m\u001b[38;5;28;43mself\u001b[39;49m\u001b[43m.\u001b[49m\u001b[34;43m__doc__\u001b[39;49m\u001b[43m,\u001b[49m\u001b[43m \u001b[49m\u001b[43mmvn_docdict_params\u001b[49m\u001b[43m)\u001b[49m\n",
      "\u001b[36mFile \u001b[39m\u001b[32m~/transC/lib/python3.13/site-packages/scipy/_lib/doccer.py:77\u001b[39m, in \u001b[36mdocformat\u001b[39m\u001b[34m(docstring, docdict)\u001b[39m\n\u001b[32m     75\u001b[39m indented = {}\n\u001b[32m     76\u001b[39m \u001b[38;5;28;01mfor\u001b[39;00m name, dstr \u001b[38;5;129;01min\u001b[39;00m docdict.items():\n\u001b[32m---> \u001b[39m\u001b[32m77\u001b[39m     lines = \u001b[43mdstr\u001b[49m\u001b[43m.\u001b[49m\u001b[43mexpandtabs\u001b[49m\u001b[43m(\u001b[49m\u001b[43m)\u001b[49m.splitlines()\n\u001b[32m     78\u001b[39m     \u001b[38;5;28;01mtry\u001b[39;00m:\n\u001b[32m     79\u001b[39m         newlines = [lines[\u001b[32m0\u001b[39m]]\n",
      "\u001b[31mKeyboardInterrupt\u001b[39m: "
     ]
    }
   ],
   "source": [
    "# run Ensemble sampler in each state\n",
    "start_time = time.time()\n",
    "ensemble_per_state, log_posterior_ens = run_mcmc_per_state(\n",
    "    nstates,  # number of states\n",
    "    ndims,  # number of dimensions in each state\n",
    "    nwalkers_es,  # int or list containing number of walkers for each state\n",
    "    nsamples_es,  # number of chain steps per walker\n",
    "    pos,  # starting positions for walkers in each state\n",
    "    log_posterior,  # log Likelihood x log_prior\n",
    "    discard=0,  # burnin number of chain steps to discard in eeach state\n",
    "    auto_thin=True,  # thinning value, save every `thin` models\n",
    ")  # show progress bar for each state\n",
    "elapsed_time = time.time() - start_time\n",
    "\n",
    "print(\n",
    "    \" Elapsed time                                     :\",\n",
    "    np.round(elapsed_time, 2),\n",
    "    \"s \\n\",\n",
    ")\n",
    "print(\n",
    "    \" Number of samples in each state                  :\",\n",
    "    *[len(ensemble_per_state[i]) for i in range(nstates)],\n",
    ")"
   ]
  },
  {
   "cell_type": "code",
   "execution_count": null,
   "id": "714d452f-24e8-4095-8edc-f0b00a29edf1",
   "metadata": {},
   "outputs": [],
   "source": [
    "n_state_procs=4\n",
    "with ProcessPoolExecutor(max_workers=n_state_procs) as state_pool:\n",
    "        ensemble_per_state_A, log_posterior_ens_A = run_mcmc_per_state(\n",
    "            nstates,\n",
    "            ndims,\n",
    "            nwalkers_es,\n",
    "            nsamples_es,\n",
    "            pos,\n",
    "            log_posterior,\n",
    "            discard=0,\n",
    "            state_pool=state_pool,\n",
    "            auto_thin=True\n",
    "        )"
   ]
  },
  {
   "cell_type": "code",
   "execution_count": null,
   "id": "c3704469-1e12-4404-87ce-f20ab5148a5f",
   "metadata": {},
   "outputs": [],
   "source": [
    "n_state_procs=4\n",
    "n_walker_procs=8\n",
    "with ProcessPoolExecutor(max_workers=n_state_procs) as state_pool, \\\n",
    "     ProcessPoolExecutor(max_workers=n_walker_procs) as walker_pool:\n",
    "    \n",
    "    ensemble_per_state_B, log_posterior_ens_B = run_mcmc_per_state(\n",
    "        nstates,\n",
    "        ndims,\n",
    "        nwalkers_es,\n",
    "        nsamples_es,\n",
    "        pos,\n",
    "        log_posterior=log_posterior,\n",
    "        state_pool=state_pool,\n",
    "        emcee_pool=walker_pool,\n",
    "    )"
   ]
  },
  {
   "cell_type": "code",
   "execution_count": null,
   "id": "40fbda66-ebdb-4dda-85c4-941f5bca2bdf",
   "metadata": {},
   "outputs": [],
   "source": [
    "# corner plots to check sampling within each state (if desired)\n",
    "if False:\n",
    "    contour_kwargs = {\"linewidths\": 0.5}\n",
    "    data_kwargs = {\"color\": \"darkblue\"}\n",
    "    data_kwargs = {\"color\": \"slateblue\"}\n",
    "    for i in range(1, nstates):\n",
    "        string = \"Order \" + str(i)\n",
    "        print(\" State; \", i, \" in \", ndims[i], \" dimensions\")\n",
    "        fig = corner.corner(\n",
    "            ensemble_per_state[i],\n",
    "            truths=ml[i],\n",
    "            title=string,\n",
    "            bins=40,\n",
    "            hist_bin_factor=2,\n",
    "            smooth=True,\n",
    "            contour_kwargs=contour_kwargs,\n",
    "            data_kwargs=data_kwargs,\n",
    "        )"
   ]
  },
  {
   "cell_type": "markdown",
   "id": "d2d2bbde-0c82-4541-960e-1b13d83c47ae",
   "metadata": {},
   "source": [
    "#### Build pseudo priors by fitting a Gaussian mixture to posterior ensembles in each state\n",
    "\n",
    "Fit a mixture model in each state to create an automatic pseudo prior, and then evaluate that pseudo_prior for all points in the ensembles. This uses the posterior ensembles `ensemble_per_state[s],s=1,...,nstates` and produces an ensemble of log-pseudo-prior values which are placed in `log_pseudo_prior_ens[s],s=1,...,nstates`. These are then provided to the ensemble resampler `run_ensemble_resampler`."
   ]
  },
  {
   "cell_type": "code",
   "execution_count": null,
   "id": "c8f7ba67-d2f5-464a-85be-c65e016b628b",
   "metadata": {},
   "outputs": [],
   "source": [
    "log_pseudo_prior = build_auto_pseudo_prior(ensemble_per_state=ensemble_per_state)\n",
    "log_pseudo_prior_ens = []\n",
    "for i, ens in enumerate(ensemble_per_state):\n",
    "    log_pseudo_prior_ens.append(np.array([log_pseudo_prior(x, i) for x in ens]))"
   ]
  },
  {
   "cell_type": "code",
   "execution_count": null,
   "id": "458d81b7-1c87-4d10-8b49-db4d2e28cf1d",
   "metadata": {},
   "outputs": [],
   "source": [
    "# Calculate marginal Likelihoods using ensembles for each state\n",
    "nwalkers_er = 32  # number of independent random walkers across ensembles\n",
    "nsteps_er = 100000  # number of chain steps for each walker\n",
    "start_time = time.time()\n",
    "resampler_chains = run_ensemble_resampler(\n",
    "    nwalkers_er,\n",
    "    nsteps_er,\n",
    "    nstates,\n",
    "    ndims,\n",
    "    log_posterior_ens=log_posterior_ens,\n",
    "    log_pseudo_prior_ens=log_pseudo_prior_ens,\n",
    "    parallel=parallel,\n",
    "    progress=True,\n",
    ")  # run mcmc sampler over ensembles to get marginal Likelihoods between states\n",
    "elapsed_time = time.time() - start_time\n",
    "\n",
    "alg = \"TransC-ensemble-resampler\"\n",
    "state_chain_tot = np.swapaxes(resampler_chains.state_chain_tot, 0, 1)\n",
    "state_chain = resampler_chains.state_chain.T\n",
    "accept_within_per_walker = 1.0 * np.ones(nwalkers_er)\n",
    "accept_between_per_walker = resampler_chains.n_accepted / nsteps_er\n",
    "accept_within = 100 * np.mean(accept_within_per_walker)\n",
    "accept_between = 100 * np.mean(accept_between_per_walker)\n",
    "nsamples = [len(a) for a in log_posterior_ens]"
   ]
  },
  {
   "cell_type": "code",
   "execution_count": null,
   "id": "979be064-ed3b-45bd-95ef-f81cd4fc76ed",
   "metadata": {},
   "outputs": [],
   "source": [
    "# print some diagnostics\n",
    "print(\"\\n Algorithm type                                      :\", alg)\n",
    "print(\n",
    "    \" Average % acceptance rate for within states         :\",\n",
    "    np.round(accept_within, 2),\n",
    ")\n",
    "print(\n",
    "    \" Average % acceptance rate for between states        :\",\n",
    "    np.round(accept_between, 2),\n",
    ")\n",
    "\n",
    "# extract trans-D samples and chains\n",
    "discard = 0  # chain burnin\n",
    "thin = 15  # chain thinning\n",
    "visits, states_chain = get_visits_to_states(\n",
    "    transc_sampler=resampler_chains,\n",
    "    discard=discard,\n",
    "    thin=thin,\n",
    "    normalize=True,\n",
    ")\n",
    "visits = visits.swapaxes(0, 1)  # (n_steps, n_walkers, n_states)\n",
    "states_chain = states_chain.swapaxes(0, 1)  # (n_steps, n_walkers)\n",
    "\n",
    "state_changes_per_walker = count_state_changes(\n",
    "    resampler_chains.state_chain, discard=discard, thin=thin\n",
    ")\n",
    "total_state_changes = count_total_state_changes(\n",
    "    resampler_chains.state_chain, discard=discard, thin=thin\n",
    ")\n",
    "acceptance_rate_between_states = get_acceptance_rate_between_states(\n",
    "    resampler_chains, discard=discard, thin=thin\n",
    ")\n",
    "autocorr_time_for_between_state_jumps = get_autocorr_between_state_jumps(\n",
    "    resampler_chains.state_chain\n",
    ")\n",
    "relative_marginal_likelihoods = get_relative_marginal_likelihoods(\n",
    "    resampler_chains.state_chain_tot[:, -1, :]\n",
    ")\n",
    "\n",
    "print(\n",
    "    \" Auto correlation time for between state sampling    :\",\n",
    "    np.round(autocorr_time_for_between_state_jumps, 3),\n",
    ")\n",
    "print(\" Total number of state changes for all walkers       :\", total_state_changes)\n",
    "print(\n",
    "    \" Number of state changes for each walker             :\\n\",\n",
    "    *state_changes_per_walker,\n",
    ")\n",
    "print(\" Analytic relative marginal Likelihoods              :\", *np.round(Ev, 5))\n",
    "print(\n",
    "    \" Estimated relative evidences                        :\",\n",
    "    *np.round((relative_marginal_likelihoods), 5),\n",
    ")\n",
    "print(\n",
    "    \" Elapsed time                                        :\",\n",
    "    np.round(elapsed_time, 2),\n",
    "    \"s \\n\",\n",
    ")"
   ]
  },
  {
   "cell_type": "code",
   "execution_count": null,
   "id": "fff1d44c-db2a-4009-957b-a192188999d4",
   "metadata": {},
   "outputs": [],
   "source": [
    "# plot relative number of visit to each state along the chain\n",
    "if plotting:\n",
    "    fig, axes = plt.subplots(figsize=(8, 6))\n",
    "    if visits.ndim == 3:  # plot chains for each state and walker\n",
    "        plt.semilogx(visits.reshape(np.shape(visits)[0], -1), lw=0.75)\n",
    "    elif visits.ndim == 2:  # plot chains for each state average over walkers\n",
    "        plt.semilogx(\n",
    "            visits.reshape(np.shape(visits)[0], -1),\n",
    "            lw=0.75,\n",
    "            label=[\"State 1\", \"State 2\", \"State 3\"],\n",
    "        )\n",
    "        plt.legend()\n",
    "    plt.xlabel(\"Chain step\")\n",
    "    plt.ylabel(\"Relative Evidence\")\n",
    "    plt.plot(len(visits) * 1.3, Ev[0], \"bo\")\n",
    "    plt.plot(len(visits) * 1.3, Ev[1], \"o\", color=\"orange\")\n",
    "    plt.plot(len(visits) * 1.3, Ev[2], \"go\")\n",
    "    plt.plot(len(visits) * 1.3, Ev[3], \"mo\")\n",
    "    plt.title(\" Convergence of \" + alg)\n",
    "    plt.ylim(-0.05, 1.0)\n",
    "    # plt.savefig('ER_chains.pdf')\n",
    "\n",
    "    plt.show()"
   ]
  },
  {
   "cell_type": "markdown",
   "id": "122e7624-52a7-44bd-bc48-683e309f4113",
   "metadata": {},
   "source": [
    "Coloured dots show the true relative normalization constants for each Gaussian. As you can see the chains are \n",
    "converging, and visiting each state in proportion to the correct normalization constant. "
   ]
  },
  {
   "cell_type": "code",
   "execution_count": null,
   "id": "f224c11b-f33e-49ac-bdd6-35727753794b",
   "metadata": {},
   "outputs": [],
   "source": [
    "# Count visits to each state by Trans-D mcmc\n",
    "if plotting:\n",
    "    h = np.zeros(nstates)\n",
    "    h[list(Counter(states_chain.reshape(-1)).keys())] = list(\n",
    "        Counter(states_chain.reshape(-1)).values()\n",
    "    )\n",
    "    h /= np.sum(h)\n",
    "    # plot histogram of frequency of visits to each state\n",
    "\n",
    "    labels = [\n",
    "        r\"$y=m_o$\",\n",
    "        r\"$y=m_o + m_1x$\",\n",
    "        r\"$y = \\sum_{i=0}^2 m_ix^i$\",\n",
    "        r\"$y = \\sum_{i=0}^3 m_ix^i$\",\n",
    "    ]\n",
    "    x = np.arange(nstates)  # the label locations\n",
    "    width = 0.25  # the width of the bars\n",
    "    multiplier = 0\n",
    "\n",
    "    fig, ax = plt.subplots(layout=\"constrained\")\n",
    "    offset = width * multiplier\n",
    "    rects = ax.bar(x + offset, np.round(h, 3), width, label=alg, color=\"skyblue\")\n",
    "    ax.bar_label(rects, padding=3)\n",
    "    multiplier += 1\n",
    "    offset = width * multiplier + 0.05\n",
    "    rects = ax.bar(\n",
    "        x + offset, np.round(counts, 3), width, label=\"Analytical\", color=\"lightcoral\"\n",
    "    )\n",
    "    ax.bar_label(rects, padding=3)\n",
    "    multiplier += 1\n",
    "    # Add some text for labels, title and custom x-axis tick labels, etc.\n",
    "    ax.set_ylabel(\" Proportion of visits to each state\")\n",
    "    ax.set_title(\"Relative Evidence\")\n",
    "    ax.set_xticks(x + width / 2, labels)\n",
    "    ax.legend(loc=\"upper right\")\n",
    "    # plt.savefig('ER_relative_evidences.pdf')\n",
    "    plt.show()"
   ]
  },
  {
   "cell_type": "code",
   "execution_count": null,
   "id": "e8d341a5-e307-4061-b174-30e006097183",
   "metadata": {},
   "outputs": [],
   "source": [
    "# corner plots to check sampling within each state\n",
    "if plotting:\n",
    "    muplot = mls.copy()\n",
    "    muplot[1] = mtrue\n",
    "    # collect trans samples\n",
    "    transc_ensemble = resample_ensembles(\n",
    "        ensemble_per_state,\n",
    "        relative_marginal_likelihoods,\n",
    "        100_000,\n",
    "    )\n",
    "    contour_kwargs = {\"linewidths\": 0.5}\n",
    "    data_kwargs = {\"color\": \"slateblue\"}\n",
    "    for i in range(1, nstates):\n",
    "        string = \"Order \" + str(i)\n",
    "        print(\" State; \", i, \" in \", ndims[i], \" dimensions\")\n",
    "        fig = corner.corner(\n",
    "            transc_ensemble[i],\n",
    "            truths=muplot[i],\n",
    "            title=string,\n",
    "            bins=40,\n",
    "            hist_bin_factor=2,\n",
    "            smooth=True,\n",
    "            contour_kwargs=contour_kwargs,\n",
    "            data_kwargs=data_kwargs,\n",
    "        )\n",
    "# fig.savefig('ER_corner_'+str(i)+'.pdf')"
   ]
  },
  {
   "cell_type": "code",
   "execution_count": null,
   "id": "6683b7c2-17f5-464b-ae45-78f910f0c236",
   "metadata": {},
   "outputs": [],
   "source": [
    "print(\n",
    "    f\" Here is the Trans-C ensemble with\\n {len(transc_ensemble[0])} samples in state 1\\n {len(transc_ensemble[1])} samples in state 2\\n {len(transc_ensemble[2])} samples in state 3\\n\",\n",
    "    \"\\n\",\n",
    "    transc_ensemble,\n",
    ")"
   ]
  },
  {
   "cell_type": "markdown",
   "id": "d68ec310-9576-4bb7-8ddf-7e4ddbe75cdd",
   "metadata": {},
   "source": [
    "---------"
   ]
  }
 ],
 "metadata": {
  "kernelspec": {
   "display_name": "Python 3 (ipykernel)",
   "language": "python",
   "name": "python3"
  },
  "language_info": {
   "codemirror_mode": {
    "name": "ipython",
    "version": 3
   },
   "file_extension": ".py",
   "mimetype": "text/x-python",
   "name": "python",
   "nbconvert_exporter": "python",
   "pygments_lexer": "ipython3",
   "version": "3.13.1"
  }
 },
 "nbformat": 4,
 "nbformat_minor": 5
}
