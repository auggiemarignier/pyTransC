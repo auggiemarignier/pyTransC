{
 "cells": [
  {
   "cell_type": "markdown",
   "id": "2be3125f-03e9-4c1a-91e4-98d8677ae19c",
   "metadata": {},
   "source": [
    "## Example of Trans-C sampling across independent model states: State-Jump Sampler with Walker Pool Parallelization\n",
    "\n",
    "This notebook demonstrates Bayesian sampling of a linear polynomial regression problem using the State-Jump sampler with walker pool parallelization. It includes performance scaling analysis and correctness validation comparing serial vs parallel execution."
   ]
  },
  {
   "cell_type": "code",
   "execution_count": 1,
   "id": "a0c36aa4-4cc4-4ca2-b984-26cfde5d068a",
   "metadata": {},
   "outputs": [],
   "source": [
    "# general python utility packages\n",
    "import time\n",
    "from collections import Counter\n",
    "from functools import partial\n",
    "from concurrent.futures import ProcessPoolExecutor\n",
    "import multiprocessing\n",
    "\n",
    "import corner\n",
    "import matplotlib.pyplot as plt\n",
    "import numpy as np\n",
    "import scipy.stats as stats\n",
    "from scipy.optimize import minimize\n",
    "\n",
    "%matplotlib inline"
   ]
  },
  {
   "cell_type": "code",
   "execution_count": 2,
   "id": "b54a941c-6cc0-4b01-8fbd-bfd338f01e58",
   "metadata": {},
   "outputs": [],
   "source": [
    "from pytransc.analysis.samples import get_transc_samples\n",
    "from pytransc.analysis.visits import (\n",
    "    count_state_changes,\n",
    "    count_total_state_changes,\n",
    "    get_acceptance_rate_between_states,\n",
    "    get_autocorr_between_state_jumps,\n",
    "    get_relative_marginal_likelihoods,\n",
    "    get_visits_to_states,\n",
    ")\n",
    "from pytransc.samplers import run_state_jump_sampler\n",
    "from pytransc.utils.auto_pseudo import PseudoPriorBuilders, build_auto_pseudo_prior"
   ]
  },
  {
   "cell_type": "code",
   "execution_count": 3,
   "id": "a3cbf0fd-e567-49d9-b1e0-829c1662f6e3",
   "metadata": {},
   "outputs": [],
   "source": [
    "def solveLS(d, G, Cdinv, mu=None, Cmpriorinv=None):  # Least squares solver\n",
    "    \"\"\"Solve the least squares problem given data, design matrix, and covariance matrices.\"\"\"\n",
    "    A = np.dot(np.transpose(G), Cdinv)  # Find solution\n",
    "    GtG = np.dot(A, G)  # G^T C_inv G^T\n",
    "    if (Cmpriorinv is not None) and (mu is not None):\n",
    "        GtG += Cmpriorinv\n",
    "    GtGinv = np.linalg.inv(GtG)  # Inverse of G^TC_inv G\n",
    "    B = np.dot(A, d)\n",
    "    if (Cmpriorinv is not None) and (mu is not None):\n",
    "        B += np.dot(Cmpriorinv, mu)\n",
    "    mls = np.dot(GtGinv, B)\n",
    "    return mls, GtGinv"
   ]
  },
  {
   "cell_type": "code",
   "execution_count": 4,
   "id": "a6290310-fe58-49f1-98cc-8da741d57f3e",
   "metadata": {},
   "outputs": [],
   "source": [
    "def calcE(dp, dobs, Cdinv, Cmpost, m, muprior, Cmpriorinv):\n",
    "    \"\"\"Calculate the evidence for the model given data, prior, and posterior covariances.\"\"\"\n",
    "    misfit = 0.5 * (np.dot((dobs - dp), np.dot(Cdinv, (dobs - dp))))\n",
    "    misfit += 0.5 * (np.dot((muprior - m), np.dot(Cmpriorinv, (muprior - m))))\n",
    "    f = np.sqrt(2 * np.pi) ** len(dp)\n",
    "    detCdinv = np.linalg.det(Cdinv)\n",
    "    detCmpost = np.linalg.det(Cmpost)\n",
    "    detCmpriorinv = np.linalg.det(Cmpriorinv)\n",
    "    E = np.sqrt(detCmpost * detCdinv * detCmpriorinv) * np.exp(-misfit) / f\n",
    "    return E"
   ]
  },
  {
   "cell_type": "markdown",
   "id": "c5c43725-4269-412e-809b-9848cc3c79a1",
   "metadata": {},
   "source": [
    "--------"
   ]
  },
  {
   "cell_type": "markdown",
   "id": "b411a522-0f82-4fc1-84fe-4807e8a8fb2e",
   "metadata": {},
   "source": [
    "## Polynomial regression theory\n",
    "\n",
    "Here we set up a problem of polynomial regression fitting a set of x,y data with up to a 4th order polynomial."
   ]
  },
  {
   "cell_type": "markdown",
   "id": "fa3616da-7904-4a98-bd34-ec56d47d3fa6",
   "metadata": {},
   "source": [
    "To begin with, we will work with polynomial curves, $$y(x) = \\sum_{n=0}^N m_n x^n\\,.$$\n",
    "Here, $N$ is the 'order' of the polynomial: if $N=1$ we have a straight line, if $N=2$ it will be a quadratic, and so on. The $m_n$ are the 'model coefficients'.\n",
    "\n",
    "To compute $y(x)$ for multiple $x$-values simultaneously, we  write $$ \\left(\\begin{array}{c}y_1\\\\y_2\\\\\\vdots\\\\y_N\\end{array}\\right) = \\left(\\begin{array}{ccc}1&x_1&x_1^2\\\\1&x_2&x_2^2\\\\\\vdots&\\vdots&\\vdots\\\\1&x_N&x_N^2\\end{array}\\right)\\left(\\begin{array}{c}m_0\\\\m_1\\\\m_2\\end{array}\\right)$$This has the general form, $\\mathbf{d=Gm}$, and so the best-fitting model can be identified using a least-squares algorithm.\n",
    "\n",
    "The maximum Likelihood solution for this problem is the model which minimizes\n",
    "\n",
    "$$\n",
    "\\phi(\\mathbf{m}) = \\frac{1}{2} (\\mathbf{d-Gm})^TC_D^{-1} (\\mathbf{d-Gm}),\n",
    "$$\n",
    "which leads to\n",
    "\n",
    "$$\n",
    "{\\bf m}_{LS} = \\left(\\mathbf{G}^T C_D^{-1} \\mathbf{G}\\right)^{-1}\\mathbf{G}^T  C_D^{-1} \\mathbf{d}.\n",
    "$$\n",
    "\n",
    "The *MAP* model, $\\hat{{\\bf m}}$, for this problem minimizes of the sum of the negative log-Likelihood and log-Gaussian prior \n",
    "\n",
    "$$\n",
    "\\phi(\\mathbf{m}) = \\frac{1}{2} (\\mathbf{d-Gm})^TC_D^{-1} (\\mathbf{d-Gm}) + \\frac{1}{2} (\\mathbf{m - m_o})^TC_M^{-1} (\\mathbf{m - m_o})\n",
    "$$\n",
    "\n",
    "which leads to\n",
    "\n",
    "$$\n",
    "\\hat{{\\bf m}} = \\left(\\mathbf{G}^T C_D^{-1} \\mathbf{G} + C_M^{-1}\\right)^{-1}(\\mathbf{G}^T  C_D^{-1} \\mathbf{d} + C_M^{-1}\\mathbf{m_o}).\n",
    "$$"
   ]
  },
  {
   "cell_type": "markdown",
   "id": "7e99a078-e476-43ea-ba95-3de2bc0fc72a",
   "metadata": {},
   "source": [
    "For Gaussian Likelihood and prior the evidence is a known analytical expression.\n",
    "\n",
    "$$\n",
    "p{({\\bf d}) = \\frac{e^{-\\phi(\\hat{{\\bf m}})}}{(2\\pi)^{N/2}} \\left[ \\frac{|\\hat{C}_M|}{|C_D||C_M|}\\right]^{1/2}.\n",
    "$$\n",
    "where $\\hat{C}_M$ is the posterior model covariance, \n",
    "\n",
    "$$\n",
    "\\hat{C}_M = \\left(\\mathbf{G}^T C_D^{-1} \\mathbf{G} + C_M^{-1}\\right)^{-1}\n",
    "$$"
   ]
  },
  {
   "cell_type": "code",
   "execution_count": 5,
   "id": "7fc7e8e9-a18d-4f1b-9342-606fe9443ddb",
   "metadata": {},
   "outputs": [],
   "source": [
    "def getG(x, order):\n",
    "    \"\"\"Build design matrix, G for polynomial data fitting, at data points x up to order order.\"\"\"\n",
    "    return np.transpose([x ** (i) for i in range(order + 1)])"
   ]
  },
  {
   "cell_type": "markdown",
   "id": "69aa0205-863d-487c-9bb1-19cf413c1825",
   "metadata": {},
   "source": [
    "We generate some random samples from $y=3x/5+0.3$, add Gaussian random noise to them."
   ]
  },
  {
   "cell_type": "code",
   "execution_count": 6,
   "id": "0f3361af-e634-4a44-9bf2-ba5bc4892230",
   "metadata": {},
   "outputs": [],
   "source": [
    "np.random.seed(61254557)  # noqa: NPY002\n",
    "ndata, sigma = 20, 0.2\n",
    "xobs = np.sort(np.random.rand(ndata))  # noqa: NPY002 ; x values of data\n",
    "mtrue = np.array([0.3, 0.6])\n",
    "G = getG(xobs, 1)\n",
    "dobs = np.dot(G, mtrue) + np.random.normal(0, sigma, size=len(xobs))  # noqa: NPY002\n",
    "Cdinv = np.eye(ndata) / (sigma**2)"
   ]
  },
  {
   "cell_type": "markdown",
   "id": "40db6e8f-c36d-4130-9227-79f553107000",
   "metadata": {},
   "source": [
    "Set up prior for Evidence calculation."
   ]
  },
  {
   "cell_type": "code",
   "execution_count": 7,
   "id": "8e5e4e4a-18b7-46bb-b40c-7ca94628e226",
   "metadata": {},
   "outputs": [],
   "source": [
    "mls = []\n",
    "Cmpost = []\n",
    "G = []\n",
    "Ev = []\n",
    "maxorder = 3\n",
    "Cmprior = [20 * np.eye(i + 1) for i in np.arange(maxorder + 1)]\n",
    "Cmpriorinv = [0.05 * np.eye(i + 1) for i in np.arange(maxorder + 1)]\n",
    "muprior = [np.zeros(i + 1) for i in np.arange(maxorder + 1)]"
   ]
  },
  {
   "cell_type": "markdown",
   "id": "83759e9a-e40c-492f-872f-a44bcc588754",
   "metadata": {},
   "source": [
    "Solve least squares solution and calculate evidence for each model."
   ]
  },
  {
   "cell_type": "code",
   "execution_count": 8,
   "id": "274188a4-9a86-444b-b0be-8ab031e4218b",
   "metadata": {},
   "outputs": [],
   "source": [
    "for i in range(maxorder + 1):\n",
    "    Gp = getG(xobs, i)\n",
    "    solp, Cmp = solveLS(dobs, Gp, Cdinv)  # Maximum Likelihood solution\n",
    "    dpred = np.dot(Gp, solp)\n",
    "    mls.append(solp)\n",
    "    Cmpost.append(Cmp)\n",
    "    G.append(Gp)\n",
    "    solp2, Cmp2 = solveLS(\n",
    "        dobs, Gp, Cdinv, mu=muprior[i], Cmpriorinv=Cmpriorinv[i]\n",
    "    )  # MAP model and model covariance with Gaussian prior\n",
    "    dpred2 = np.dot(Gp, solp2)\n",
    "    Ev.append(\n",
    "        calcE(dpred2, dobs, Cdinv, Cmp2, solp2, muprior[i], Cmpriorinv[i])\n",
    "    )  # Analytical evidence calculation\n",
    "Ev /= np.sum(Ev)"
   ]
  },
  {
   "cell_type": "markdown",
   "id": "3696a894-39bc-41b2-af63-f222af0d8d83",
   "metadata": {},
   "source": [
    "Plot solutions."
   ]
  },
  {
   "cell_type": "code",
   "execution_count": 9,
   "id": "fee0fba8-aed7-407a-b426-f76fb101321d",
   "metadata": {},
   "outputs": [
    {
     "data": {
      "image/png": "[encoded data removed]",
      "text/plain": [
       "<Figure size 800x600 with 1 Axes>"
      ]
     },
     "metadata": {},
     "output_type": "display_data"
    }
   ],
   "source": [
    "xplot = np.linspace(-0.25, 1.25, 100)\n",
    "Gplot = getG(xplot, 1)\n",
    "dplot = np.dot(Gplot, mtrue)\n",
    "#\n",
    "plt.figure(figsize=(8, 6))\n",
    "plt.errorbar(xobs, dobs, yerr=sigma, capsize=3, fmt=\"ko\", ecolor=\"grey\", lw=0.5)\n",
    "plt.plot(xplot, dplot, label=\"True\", color=\"k\", lw=0.8)\n",
    "for i in range(maxorder + 1):\n",
    "    Gplotp = getG(xplot, i)\n",
    "    dpred = np.dot(Gplotp, mls[i])\n",
    "    plt.plot(xplot, dpred, label=\"Best fit p=\" + str(i), lw=0.5)\n",
    "plt.xlabel(\"x\")\n",
    "plt.ylabel(\"y\")\n",
    "plt.ylim(-0.2, 1.3)\n",
    "# plt.savefig('ML_solutions.pdf')\n",
    "plt.legend()\n",
    "plt.show()"
   ]
  },
  {
   "cell_type": "code",
   "execution_count": 10,
   "id": "acf67702-6226-46d1-bc9d-367926c03a86",
   "metadata": {},
   "outputs": [
    {
     "data": {
      "image/png": "[encoded data removed]",
      "text/plain": [
       "<Figure size 640x480 with 1 Axes>"
      ]
     },
     "metadata": {},
     "output_type": "display_data"
    }
   ],
   "source": [
    "# plot evidence values\n",
    "\n",
    "fig, ax = plt.subplots()\n",
    "\n",
    "fruits = [\n",
    "    r\"$y=m_o$\",\n",
    "    r\"$y=m_o + m_1x$\",\n",
    "    r\"$y = \\sum_{i=0}^2 m_ix^i$\",\n",
    "    r\"$y = \\sum_{i=0}^3 m_ix^i$\",\n",
    "]\n",
    "counts = [Ev[i] for i in range(maxorder + 1)]\n",
    "bar_labels = [\n",
    "    \"Order 0\",\n",
    "    \"Order 1\",\n",
    "    \"Order 2\",\n",
    "    \"Order 3\",\n",
    "]  # Define a list of labels, one for each bar\n",
    "\n",
    "bar_colors = [\n",
    "    \"skyblue\",\n",
    "    \"lightcoral\",\n",
    "    \"lightgreen\",\n",
    "    \"gold\",\n",
    "]  # Define a list of colors, one for each bar\n",
    "\n",
    "ax.bar(fruits, counts, label=bar_labels, width=0.5, color=bar_colors)\n",
    "\n",
    "ax.set_ylabel(\"Relative posterior evidence\")\n",
    "ax.set_title(\"Evidence estimate for each model\")\n",
    "ax.legend(title=\"Relative Evidence\")\n",
    "# plt.savefig('Anal_evidence.pdf')\n",
    "\n",
    "plt.show()"
   ]
  },
  {
   "cell_type": "code",
   "execution_count": 11,
   "id": "23a4bce3-6201-4076-b073-532aea1d6395",
   "metadata": {},
   "outputs": [
    {
     "data": {
      "text/plain": [
       "array([0.17305995, 0.64751747, 0.12509365, 0.05432893])"
      ]
     },
     "execution_count": 11,
     "metadata": {},
     "output_type": "execute_result"
    }
   ],
   "source": [
    "Ev"
   ]
  },
  {
   "cell_type": "markdown",
   "id": "4375a006-386f-4866-a08d-5ca450ab05a2",
   "metadata": {},
   "source": [
    "----------------"
   ]
  },
  {
   "cell_type": "markdown",
   "id": "7d2ba376-0b2b-40cc-9108-8de4a58b9379",
   "metadata": {},
   "source": [
    "### Log-posterior Likelihood, prior and PDF for each state"
   ]
  },
  {
   "cell_type": "code",
   "execution_count": 12,
   "id": "8669e5a3-af89-46a8-8bdc-fbe6470bbe55",
   "metadata": {},
   "outputs": [],
   "source": [
    "def _log_likelihood(x, state, dobs, G, Cdinv):\n",
    "    \"\"\"Calculate the log likelihood of the data given the model parameters.\"\"\"\n",
    "    dpred = np.dot(G[state], x)\n",
    "    misfit = 0.5 * (np.dot((dobs - dpred), np.dot(Cdinv, (dobs - dpred))))\n",
    "    f = np.sqrt(2 * np.pi) ** len(dpred)\n",
    "    detCdinv = np.linalg.det(Cdinv)\n",
    "    logL = -np.log(f) - misfit + np.log(detCdinv)\n",
    "    return logL\n",
    "\n",
    "\n",
    "log_likelihood = partial(_log_likelihood, dobs=dobs, G=G, Cdinv=Cdinv)"
   ]
  },
  {
   "cell_type": "code",
   "execution_count": 13,
   "id": "fcc8563b-c17a-4450-b057-3086d1df2d4f",
   "metadata": {},
   "outputs": [],
   "source": [
    "def _log_prior(x, state, muprior, Cmprior):\n",
    "    \"\"\"Calculate the log prior probability of the model parameters.\"\"\"\n",
    "    mu = muprior[state]\n",
    "    cov = Cmprior[state]\n",
    "    rv = stats.multivariate_normal(\n",
    "        mean=mu, cov=cov\n",
    "    )  # instance of multi-dimensional Gaussian\n",
    "    return rv.logpdf(x)\n",
    "\n",
    "\n",
    "log_prior = partial(_log_prior, muprior=muprior, Cmprior=Cmprior)"
   ]
  },
  {
   "cell_type": "code",
   "execution_count": 14,
   "id": "f4401462-302c-44e7-8fd7-b48f36d0ef44",
   "metadata": {},
   "outputs": [],
   "source": [
    "def log_posterior(x, state):\n",
    "    \"\"\"Multi-state log Posterior PDF evaluation (unormalised).\"\"\"\n",
    "    return log_likelihood(x, state) + log_prior(x, state)"
   ]
  },
  {
   "cell_type": "markdown",
   "id": "073bca04-5bb7-4426-98a2-218bea14b119",
   "metadata": {},
   "source": [
    "### Starting points for MCMC samplers in each state"
   ]
  },
  {
   "cell_type": "code",
   "execution_count": 15,
   "id": "539bdd85-f7de-4ce1-867d-49854381d2a6",
   "metadata": {},
   "outputs": [
    {
     "name": "stdout",
     "output_type": "stream",
     "text": [
      "Maximum likelihood estimates:\n",
      "x_ml  [0.58148024]\n",
      "x_ml  [0.37788932 0.48664354]\n",
      "x_ml  [ 0.31354801  0.95796058 -0.52400541]\n",
      "x_ml  [ 0.28548373  1.4395107  -1.83289387  0.89632873]\n"
     ]
    }
   ],
   "source": [
    "# first we optimize each state to find good starting point for all McMC samplers\n",
    "rng = np.random.default_rng(42)\n",
    "nstates = maxorder + 1  # Number of distinct states\n",
    "ndims = [1, 2, 3, 4]  # Number of model parameters in each state\n",
    "nll = lambda *args: -log_posterior(*args)\n",
    "ml = []\n",
    "print(\"Maximum likelihood estimates:\")\n",
    "for i in range(nstates):\n",
    "    initial = 0.5 * np.ones(i + 1)\n",
    "    soln = minimize(nll, initial, args=(i,))\n",
    "    ml.append(soln.x)\n",
    "    print(\"x_ml \", soln.x)"
   ]
  },
  {
   "cell_type": "markdown",
   "id": "83c8d9e7-9f03-4784-92e8-cec9f73297ac",
   "metadata": {},
   "source": [
    "### Pseudo-prior for each state"
   ]
  },
  {
   "cell_type": "markdown",
   "id": "d7dbc9dd-cbf8-4a41-811c-9b56a676f24a",
   "metadata": {},
   "source": [
    "Here we use an automatic pseudo prior for each state which corresponds to a best fit multi-dimensional Gaussian to posterior ensembles in each state.\n",
    "\n",
    "This is built using the function `build_auto_pseudo_prior()` which returns a function which we'll call `log_pseudo_prior()`. \n",
    "\n",
    "`build_auto_pseudo_prior()` will conduct some quick initial sampling in each state, and fit a Gaussian Mixture to these samples."
   ]
  },
  {
   "cell_type": "code",
   "execution_count": 16,
   "id": "56e69cf5-0124-435a-976f-57d986a12c28",
   "metadata": {},
   "outputs": [],
   "source": [
    "# This generates posterior samples in each state and fits a Gaussian to them to become the pseudo prior\n",
    "nwalkers_auto = 32  # Number of walkers for auto pseudo prior fitting\n",
    "nsteps_auto = 1000  # Number of chain steps for auto pseudo prior fitting\n",
    "autothin = True  # Thin internally generated within state posterior ensembles by their auto-correlation\n",
    "# (This can take additional compute time, and is not necessary if input ensembles are already independent.)\n",
    "pos = []\n",
    "for i in range(nstates):  # generate starting points for each chain in each state\n",
    "    pos.append(\n",
    "        ml[i] + 1e-4 * rng.standard_normal((nwalkers_auto, ndims[i]))\n",
    "    )  # add random perturbation to maximum Likelihood models\n",
    "\n",
    "sampling_args = {\n",
    "    \"n_states\": nstates,\n",
    "    \"n_dims\": ndims,\n",
    "    \"n_walkers\": nwalkers_auto,\n",
    "    \"n_steps\": nsteps_auto,\n",
    "    \"pos\": pos,\n",
    "    \"auto_thin\": autothin,\n",
    "    \"verbose\": False,\n",
    "}\n",
    "\n",
    "log_pseudo_prior = build_auto_pseudo_prior(  # noqa: F811\n",
    "    PseudoPriorBuilders.GAUSSIAN_MIXTURE,\n",
    "    log_posterior=log_posterior,\n",
    "    sampling_args=sampling_args,\n",
    ")"
   ]
  },
  {
   "cell_type": "markdown",
   "id": "ec44d92d-d3ce-4a51-8554-9d6247fb7710",
   "metadata": {},
   "source": [
    "-----------"
   ]
  },
  {
   "cell_type": "markdown",
   "id": "8f5a37bf-8505-4527-a00e-ae6ab1ec5151",
   "metadata": {},
   "source": [
    "Now we are ready to apply the State-Jump sampler with walker pool parallelization."
   ]
  },
  {
   "cell_type": "markdown",
   "id": "52e51c05-7cae-4799-9c3f-ec551f7afc21",
   "metadata": {},
   "source": [
    "## Trans-C sampling across model states with the State-Jump sampler and Walker Pool Parallelization"
   ]
  },
  {
   "cell_type": "markdown",
   "id": "a73a8b15-6d77-4c70-8f8a-61a8d34806a3",
   "metadata": {},
   "source": [
    "Here we demonstrate use of the *State-jump sampler* with walker pool parallelization.\n",
    "\n",
    "This formulation is equivalent to the *Product-space sampler* with the proposal for the other state variables equal to the pseudo prior, for which moves are then accepted with probability one. As a consequence  the only pair of model states that need be considered are the $k$ and $k^{\\prime}$ states (i.e. same as in Reversible-Jump). \n",
    "\n",
    "- For within-state moves the acceptance is the usual M-H condition with proposal = to users choice for that state, defined by routine `log_proposal`\n",
    "  This can be any perturbative proposal PDF designed by the user, or an automatic one found by fitting a Gaussian mixture model to some trial samples.\n",
    "\n",
    "- For between-state moves we assume that only the state index changes, $k \\rightarrow k^{\\prime}$ , and hence the model in state $k^{\\prime}$ must be a draw from the pseduo prior for that state. The acceptance term then only involves the likelihood ratio and the pseudo prior ratio for the two states.\n",
    "\n",
    "**Walker Pool Parallelization**: Each walker runs independently and can be parallelized across multiple processors using either a user-provided pool or internal ProcessPoolExecutor."
   ]
  },
  {
   "cell_type": "code",
   "execution_count": 17,
   "id": "d1e7c7a9-22a6-451b-94d3-565b00b50d02",
   "metadata": {},
   "outputs": [],
   "source": [
    "# define model proposal for within state moves\n",
    "\n",
    "\n",
    "class IsotropicGaussianProposal:\n",
    "    \"\"\"Class for isotropic Gaussian proposal for state jump sampler.\"\"\"\n",
    "\n",
    "    def __init__(self):\n",
    "        self.std = [\n",
    "            [0.01],\n",
    "            [0.04, 0.05],\n",
    "            [0.04, 0.2, 0.2],\n",
    "            [0.05, 0.5, 1.0, 1.0],\n",
    "        ]  # Proposal variance for each parameter in state\n",
    "\n",
    "    def __call__(self, x: np.ndarray, state: int) -> float:\n",
    "        \"\"\"Call method to generate proposal.\"\"\"\n",
    "        return 0.0  # log ratio for symmetric proposal\n",
    "\n",
    "    def propose(self, x: np.ndarray, state: int) -> np.ndarray:\n",
    "        \"\"\"Propose from the proposal distribution.\"\"\"\n",
    "        i = rng.choice(np.arange(len(x)))\n",
    "        var = self.std[state][i] ** 2\n",
    "        _x = np.copy(x)\n",
    "        _x[i] += stats.multivariate_normal.rvs(mean=0.0, cov=var)\n",
    "        if not isinstance(_x, np.ndarray):\n",
    "            _x = np.array([_x])  # deal with 1D case which returns a scalar\n",
    "        return _x\n",
    "\n",
    "\n",
    "log_proposal = IsotropicGaussianProposal()"
   ]
  },
  {
   "cell_type": "code",
   "execution_count": 18,
   "id": "21f156a0-c48b-47b1-90c9-5ffea627218f",
   "metadata": {},
   "outputs": [],
   "source": [
    "# starting points of MCMC chains\n",
    "nwalkers_sj = 32  # Number of walkers\n",
    "nsteps_sj = 10000  # Number of chain steps\n",
    "pos_states = rng.choice(\n",
    "    np.arange(nstates), nwalkers_sj\n",
    ")  # Initial states of each walker\n",
    "pos = []\n",
    "for i in range(nwalkers_sj):  # generate starting points for each walker\n",
    "    pos.append(\n",
    "        ml[pos_states[i]] + 1e-4 * rng.standard_normal(ndims[pos_states[i]])\n",
    "    )  # add random perturbation to maximum Likelihood models"
   ]
  },
  {
   "cell_type": "markdown",
   "id": "perf-analysis",
   "metadata": {},
   "source": [
    "## Performance Scaling Analysis\n",
    "\n",
    "We'll test the performance scaling with different numbers of workers (1, 2, 4, 8) and compare with serial execution."
   ]
  },
  {
   "cell_type": "code",
   "execution_count": 19,
   "id": "perf-test",
   "metadata": {},
   "outputs": [
    {
     "name": "stdout",
     "output_type": "stream",
     "text": [
      "Available CPUs: 12\n",
      "Testing worker counts: [1, 2, 4, 8]\n"
     ]
    }
   ],
   "source": [
    "# Test different worker counts for performance analysis\n",
    "worker_counts = [1, 2, 4, 8]\n",
    "max_workers = min(8, multiprocessing.cpu_count())  # Don't exceed available CPUs\n",
    "worker_counts = [w for w in worker_counts if w <= max_workers]\n",
    "\n",
    "print(f\"Available CPUs: {multiprocessing.cpu_count()}\")\n",
    "print(f\"Testing worker counts: {worker_counts}\")\n",
    "\n",
    "# Storage for timing results\n",
    "timing_results = {\n",
    "    'serial': None,\n",
    "    'parallel': {}\n",
    "}"
   ]
  },
  {
   "cell_type": "markdown",
   "id": "serial-test",
   "metadata": {},
   "source": [
    "### Serial Execution Baseline"
   ]
  },
  {
   "cell_type": "code",
   "execution_count": 20,
   "id": "serial-exec",
   "metadata": {},
   "outputs": [
    {
     "name": "stderr",
     "output_type": "stream",
     "text": [
      "2025-09-22 18:48:12 [INFO] pytransc.samplers.state_jump: Running state-jump trans-C sampler\n",
      "2025-09-22 18:48:12 [INFO] pytransc.samplers.state_jump: Number of walkers: 32\n",
      "2025-09-22 18:48:12 [INFO] pytransc.samplers.state_jump: Number of states being sampled: 4\n",
      "2025-09-22 18:48:12 [INFO] pytransc.samplers.state_jump: Dimensions of each state: [1, 2, 3, 4]\n"
     ]
    },
    {
     "name": "stdout",
     "output_type": "stream",
     "text": [
      "\n",
      "=== SERIAL EXECUTION ===\n"
     ]
    },
    {
     "name": "stderr",
     "output_type": "stream",
     "text": [
      "100%|████████████████████████████████████████████████████████████████████████████████████████████████████████| 32/32 [01:31<00:00,  2.86s/it]"
     ]
    },
    {
     "name": "stdout",
     "output_type": "stream",
     "text": [
      "Serial execution time: 91.65 seconds\n"
     ]
    },
    {
     "name": "stderr",
     "output_type": "stream",
     "text": [
      "\n"
     ]
    }
   ],
   "source": [
    "# Serial execution for baseline\n",
    "print(\"\\n=== SERIAL EXECUTION ===\")\n",
    "start_time = time.time()\n",
    "state_jump_chains_serial = run_state_jump_sampler(\n",
    "    nwalkers_sj,\n",
    "    nsteps_sj,\n",
    "    nstates,\n",
    "    ndims,\n",
    "    pos,\n",
    "    pos_states,\n",
    "    log_posterior,\n",
    "    log_pseudo_prior,\n",
    "    log_proposal,\n",
    "    parallel=False,  # Serial execution\n",
    "    progress=True,\n",
    ")\n",
    "serial_time = time.time() - start_time\n",
    "timing_results['serial'] = serial_time\n",
    "\n",
    "print(f\"Serial execution time: {serial_time:.2f} seconds\")"
   ]
  },
  {
   "cell_type": "markdown",
   "id": "parallel-test",
   "metadata": {},
   "source": [
    "### Parallel Execution with Different Worker Counts"
   ]
  },
  {
   "cell_type": "code",
   "execution_count": 21,
   "id": "parallel-exec",
   "metadata": {},
   "outputs": [
    {
     "name": "stderr",
     "output_type": "stream",
     "text": [
      "2025-09-22 18:49:44 [INFO] pytransc.samplers.state_jump: Running state-jump trans-C sampler\n",
      "2025-09-22 18:49:44 [INFO] pytransc.samplers.state_jump: Number of walkers: 32\n",
      "2025-09-22 18:49:44 [INFO] pytransc.samplers.state_jump: Number of states being sampled: 4\n",
      "2025-09-22 18:49:44 [INFO] pytransc.samplers.state_jump: Dimensions of each state: [1, 2, 3, 4]\n"
     ]
    },
    {
     "name": "stdout",
     "output_type": "stream",
     "text": [
      "\n",
      "=== PARALLEL EXECUTION WITH 1 WORKERS ===\n"
     ]
    },
    {
     "name": "stderr",
     "output_type": "stream",
     "text": [
      "100%|████████████████████████████████████████████████████████████████████████████████████████████████████████| 32/32 [01:32<00:00,  2.90s/it]\n",
      "2025-09-22 18:51:17 [INFO] pytransc.samplers.state_jump: Running state-jump trans-C sampler\n",
      "2025-09-22 18:51:17 [INFO] pytransc.samplers.state_jump: Number of walkers: 32\n",
      "2025-09-22 18:51:17 [INFO] pytransc.samplers.state_jump: Number of states being sampled: 4\n",
      "2025-09-22 18:51:17 [INFO] pytransc.samplers.state_jump: Dimensions of each state: [1, 2, 3, 4]\n"
     ]
    },
    {
     "name": "stdout",
     "output_type": "stream",
     "text": [
      "Parallel execution time (1 workers): 92.82 seconds\n",
      "Speedup: 0.99x\n",
      "Efficiency: 98.7%\n",
      "\n",
      "=== PARALLEL EXECUTION WITH 2 WORKERS ===\n"
     ]
    },
    {
     "name": "stderr",
     "output_type": "stream",
     "text": [
      "100%|████████████████████████████████████████████████████████████████████████████████████████████████████████| 32/32 [00:46<00:00,  1.44s/it]\n",
      "2025-09-22 18:52:03 [INFO] pytransc.samplers.state_jump: Running state-jump trans-C sampler\n",
      "2025-09-22 18:52:03 [INFO] pytransc.samplers.state_jump: Number of walkers: 32\n",
      "2025-09-22 18:52:03 [INFO] pytransc.samplers.state_jump: Number of states being sampled: 4\n",
      "2025-09-22 18:52:03 [INFO] pytransc.samplers.state_jump: Dimensions of each state: [1, 2, 3, 4]\n"
     ]
    },
    {
     "name": "stdout",
     "output_type": "stream",
     "text": [
      "Parallel execution time (2 workers): 46.20 seconds\n",
      "Speedup: 1.98x\n",
      "Efficiency: 99.2%\n",
      "\n",
      "=== PARALLEL EXECUTION WITH 4 WORKERS ===\n"
     ]
    },
    {
     "name": "stderr",
     "output_type": "stream",
     "text": [
      "100%|████████████████████████████████████████████████████████████████████████████████████████████████████████| 32/32 [00:23<00:00,  1.39it/s]\n",
      "2025-09-22 18:52:26 [INFO] pytransc.samplers.state_jump: Running state-jump trans-C sampler\n",
      "2025-09-22 18:52:26 [INFO] pytransc.samplers.state_jump: Number of walkers: 32\n",
      "2025-09-22 18:52:26 [INFO] pytransc.samplers.state_jump: Number of states being sampled: 4\n",
      "2025-09-22 18:52:26 [INFO] pytransc.samplers.state_jump: Dimensions of each state: [1, 2, 3, 4]\n"
     ]
    },
    {
     "name": "stdout",
     "output_type": "stream",
     "text": [
      "Parallel execution time (4 workers): 23.12 seconds\n",
      "Speedup: 3.96x\n",
      "Efficiency: 99.1%\n",
      "\n",
      "=== PARALLEL EXECUTION WITH 8 WORKERS ===\n"
     ]
    },
    {
     "name": "stderr",
     "output_type": "stream",
     "text": [
      "100%|████████████████████████████████████████████████████████████████████████████████████████████████████████| 32/32 [00:11<00:00,  2.73it/s]"
     ]
    },
    {
     "name": "stdout",
     "output_type": "stream",
     "text": [
      "Parallel execution time (8 workers): 11.75 seconds\n",
      "Speedup: 7.80x\n",
      "Efficiency: 97.5%\n"
     ]
    },
    {
     "name": "stderr",
     "output_type": "stream",
     "text": [
      "\n"
     ]
    }
   ],
   "source": [
    "# Parallel execution with different worker counts\n",
    "parallel_results = {}\n",
    "\n",
    "for n_workers in worker_counts:\n",
    "    print(f\"\\n=== PARALLEL EXECUTION WITH {n_workers} WORKERS ===\")\n",
    "    \n",
    "    # Using user-provided pool\n",
    "    start_time = time.time()\n",
    "    with ProcessPoolExecutor(max_workers=n_workers) as walker_pool:\n",
    "        state_jump_chains_parallel = run_state_jump_sampler(\n",
    "            nwalkers_sj,\n",
    "            nsteps_sj,\n",
    "            nstates,\n",
    "            ndims,\n",
    "            pos,\n",
    "            pos_states,\n",
    "            log_posterior,\n",
    "            log_pseudo_prior,\n",
    "            log_proposal,\n",
    "            walker_pool=walker_pool,  # User-provided pool\n",
    "            progress=True,\n",
    "        )\n",
    "    parallel_time = time.time() - start_time\n",
    "    timing_results['parallel'][n_workers] = parallel_time\n",
    "    parallel_results[n_workers] = state_jump_chains_parallel\n",
    "    \n",
    "    speedup = serial_time / parallel_time if parallel_time > 0 else 0\n",
    "    efficiency = speedup / n_workers * 100 if n_workers > 0 else 0\n",
    "    \n",
    "    print(f\"Parallel execution time ({n_workers} workers): {parallel_time:.2f} seconds\")\n",
    "    print(f\"Speedup: {speedup:.2f}x\")\n",
    "    print(f\"Efficiency: {efficiency:.1f}%\")"
   ]
  },
  {
   "cell_type": "markdown",
   "id": "internal-pool-test",
   "metadata": {},
   "source": [
    "### Internal Pool Creation Test"
   ]
  },
  {
   "cell_type": "code",
   "execution_count": 22,
   "id": "internal-pool",
   "metadata": {},
   "outputs": [
    {
     "name": "stderr",
     "output_type": "stream",
     "text": [
      "2025-09-22 18:52:38 [INFO] pytransc.samplers.state_jump: Running state-jump trans-C sampler\n",
      "2025-09-22 18:52:38 [INFO] pytransc.samplers.state_jump: Number of walkers: 32\n",
      "2025-09-22 18:52:38 [INFO] pytransc.samplers.state_jump: Number of states being sampled: 4\n",
      "2025-09-22 18:52:38 [INFO] pytransc.samplers.state_jump: Dimensions of each state: [1, 2, 3, 4]\n"
     ]
    },
    {
     "name": "stdout",
     "output_type": "stream",
     "text": [
      "\n",
      "=== INTERNAL POOL CREATION (parallel=True) ===\n"
     ]
    },
    {
     "name": "stderr",
     "output_type": "stream",
     "text": [
      "100%|████████████████████████████████████████████████████████████████████████████████████████████████████████| 32/32 [00:23<00:00,  1.37it/s]"
     ]
    },
    {
     "name": "stdout",
     "output_type": "stream",
     "text": [
      "Internal pool execution time: 23.32 seconds\n",
      "Speedup: 3.93x\n"
     ]
    },
    {
     "name": "stderr",
     "output_type": "stream",
     "text": [
      "\n"
     ]
    }
   ],
   "source": [
    "# Test internal pool creation (parallel=True, walker_pool=None)\n",
    "print(f\"\\n=== INTERNAL POOL CREATION (parallel=True) ===\")\n",
    "start_time = time.time()\n",
    "state_jump_chains_internal = run_state_jump_sampler(\n",
    "    nwalkers_sj,\n",
    "    nsteps_sj,\n",
    "    nstates,\n",
    "    ndims,\n",
    "    pos,\n",
    "    pos_states,\n",
    "    log_posterior,\n",
    "    log_pseudo_prior,\n",
    "    log_proposal,\n",
    "    parallel=True,  # Use internal pool creation\n",
    "    n_processors=4,\n",
    "    progress=True,\n",
    ")\n",
    "internal_time = time.time() - start_time\n",
    "speedup_internal = serial_time / internal_time if internal_time > 0 else 0\n",
    "\n",
    "print(f\"Internal pool execution time: {internal_time:.2f} seconds\")\n",
    "print(f\"Speedup: {speedup_internal:.2f}x\")"
   ]
  },
  {
   "cell_type": "markdown",
   "id": "performance-plot",
   "metadata": {},
   "source": [
    "### Performance Scaling Plot"
   ]
  },
  {
   "cell_type": "code",
   "execution_count": 23,
   "id": "plot-perf",
   "metadata": {},
   "outputs": [
    {
     "data": {
      "image/png": "[encoded data removed]",
      "text/plain": [
       "<Figure size 1500x600 with 2 Axes>"
      ]
     },
     "metadata": {},
     "output_type": "display_data"
    },
    {
     "name": "stdout",
     "output_type": "stream",
     "text": [
      "\n",
      "=== PERFORMANCE SUMMARY ===\n",
      "Workers  Time (s)   Speedup    Efficiency (%) \n",
      "--------------------------------------------------\n",
      "Serial   91.65      1.00       100.0          \n",
      "1        92.82      0.99       98.7           \n",
      "2        46.20      1.98       99.2           \n",
      "4        23.12      3.96       99.1           \n",
      "8        11.75      7.80       97.5           \n"
     ]
    }
   ],
   "source": [
    "# Plot performance scaling\n",
    "fig, (ax1, ax2) = plt.subplots(1, 2, figsize=(15, 6))\n",
    "\n",
    "# Execution time plot\n",
    "workers = [0] + worker_counts  # 0 for serial\n",
    "times = [serial_time] + [timing_results['parallel'][w] for w in worker_counts]\n",
    "\n",
    "ax1.plot(workers, times, 'bo-', linewidth=2, markersize=8)\n",
    "ax1.set_xlabel('Number of Workers (0 = Serial)')\n",
    "ax1.set_ylabel('Execution Time (seconds)')\n",
    "ax1.set_title('Execution Time vs Number of Workers')\n",
    "ax1.grid(True, alpha=0.3)\n",
    "ax1.set_xticks(workers)\n",
    "\n",
    "# Speedup plot\n",
    "speedups = [serial_time / timing_results['parallel'][w] for w in worker_counts]\n",
    "ideal_speedup = worker_counts  # Ideal linear speedup\n",
    "\n",
    "ax2.plot(worker_counts, speedups, 'ro-', linewidth=2, markersize=8, label='Actual Speedup')\n",
    "ax2.plot(worker_counts, ideal_speedup, 'k--', linewidth=2, label='Ideal Speedup')\n",
    "ax2.set_xlabel('Number of Workers')\n",
    "ax2.set_ylabel('Speedup Factor')\n",
    "ax2.set_title('Speedup vs Number of Workers')\n",
    "ax2.grid(True, alpha=0.3)\n",
    "ax2.legend()\n",
    "ax2.set_xticks(worker_counts)\n",
    "\n",
    "plt.tight_layout()\n",
    "plt.show()\n",
    "\n",
    "# Print efficiency table\n",
    "print(\"\\n=== PERFORMANCE SUMMARY ===\")\n",
    "print(f\"{'Workers':<8} {'Time (s)':<10} {'Speedup':<10} {'Efficiency (%)':<15}\")\n",
    "print(\"-\" * 50)\n",
    "print(f\"{'Serial':<8} {serial_time:<10.2f} {'1.00':<10} {'100.0':<15}\")\n",
    "for w in worker_counts:\n",
    "    t = timing_results['parallel'][w]\n",
    "    speedup = serial_time / t\n",
    "    efficiency = speedup / w * 100\n",
    "    print(f\"{w:<8} {t:<10.2f} {speedup:<10.2f} {efficiency:<15.1f}\")"
   ]
  },
  {
   "cell_type": "markdown",
   "id": "correctness-test",
   "metadata": {},
   "source": [
    "## Correctness Validation: Serial vs Parallel\n",
    "\n",
    "We'll verify that parallel execution produces statistically equivalent results to serial execution."
   ]
  },
  {
   "cell_type": "code",
   "execution_count": 24,
   "id": "correctness-check",
   "metadata": {},
   "outputs": [
    {
     "name": "stdout",
     "output_type": "stream",
     "text": [
      "\n",
      "=== CORRECTNESS VALIDATION ===\n",
      "Analytical relative evidences: [0.17306 0.64752 0.12509 0.05433]\n",
      "\n",
      "Serial Results:\n",
      "  Average % acceptance rate within states:  75.63\n",
      "  Average % acceptance rate between states: 38.63\n",
      "  Estimated relative evidences: [0.17498 0.64817 0.1224  0.05445]\n",
      "  Total state changes: 6353\n",
      "  Autocorr time for between state jumps: 19.418\n",
      "\n",
      "Parallel (4 workers) Results:\n",
      "  Average % acceptance rate within states:  75.77\n",
      "  Average % acceptance rate between states: 38.61\n",
      "  Estimated relative evidences: [0.1723  0.65191 0.1251  0.05069]\n",
      "  Total state changes: 6309\n",
      "  Autocorr time for between state jumps: 17.687\n",
      "\n",
      "Differences (Serial vs Parallel):\n",
      "  Max evidence difference: 0.00376\n",
      "  Within-state acceptance difference: 0.14%\n",
      "  Between-state acceptance difference: 0.02%\n",
      "\n",
      "Validation Results:\n",
      "  Evidence estimates within tolerance (0.01): ✓\n",
      "  Acceptance rates within tolerance (2.0%): ✓\n",
      "  Overall validation: ✓ PASSED\n"
     ]
    }
   ],
   "source": [
    "def analyze_chains(chains, name):\n",
    "    \"\"\"Analyze chain results and return summary statistics.\"\"\"\n",
    "    # Calculate acceptance rates\n",
    "    accept_within_per_walker = chains.accept_within / chains.prop_within\n",
    "    accept_between_per_walker = chains.accept_between / chains.prop_between\n",
    "    accept_within = 100 * np.mean(accept_within_per_walker)\n",
    "    accept_between = 100 * np.mean(accept_between_per_walker)\n",
    "    \n",
    "    # Calculate state visit statistics\n",
    "    discard = 0\n",
    "    thin = 20\n",
    "    relative_marginal_likelihoods = get_relative_marginal_likelihoods(\n",
    "        chains.state_chain_tot[:, -1, :]\n",
    "    )\n",
    "    \n",
    "    total_state_changes = count_total_state_changes(\n",
    "        chains.state_chain, discard=discard, thin=thin\n",
    "    )\n",
    "    \n",
    "    autocorr_time_for_between_state_jumps = get_autocorr_between_state_jumps(\n",
    "        chains.state_chain\n",
    "    )\n",
    "    \n",
    "    results = {\n",
    "        'name': name,\n",
    "        'accept_within': accept_within,\n",
    "        'accept_between': accept_between,\n",
    "        'relative_evidences': relative_marginal_likelihoods,\n",
    "        'total_state_changes': total_state_changes,\n",
    "        'autocorr_time': autocorr_time_for_between_state_jumps\n",
    "    }\n",
    "    \n",
    "    return results\n",
    "\n",
    "# Analyze serial and parallel results\n",
    "serial_analysis = analyze_chains(state_jump_chains_serial, \"Serial\")\n",
    "parallel_analysis = analyze_chains(parallel_results[4], \"Parallel (4 workers)\")  # Use 4 workers for comparison\n",
    "\n",
    "print(\"\\n=== CORRECTNESS VALIDATION ===\")\n",
    "print(f\"Analytical relative evidences: {np.round(Ev, 5)}\")\n",
    "print()\n",
    "\n",
    "for analysis in [serial_analysis, parallel_analysis]:\n",
    "    print(f\"{analysis['name']} Results:\")\n",
    "    print(f\"  Average % acceptance rate within states:  {analysis['accept_within']:.2f}\")\n",
    "    print(f\"  Average % acceptance rate between states: {analysis['accept_between']:.2f}\")\n",
    "    print(f\"  Estimated relative evidences: {np.round(analysis['relative_evidences'], 5)}\")\n",
    "    print(f\"  Total state changes: {analysis['total_state_changes']}\")\n",
    "    print(f\"  Autocorr time for between state jumps: {analysis['autocorr_time']:.3f}\")\n",
    "    print()\n",
    "\n",
    "# Calculate differences\n",
    "evidence_diff = np.abs(serial_analysis['relative_evidences'] - parallel_analysis['relative_evidences'])\n",
    "acceptance_within_diff = abs(serial_analysis['accept_within'] - parallel_analysis['accept_within'])\n",
    "acceptance_between_diff = abs(serial_analysis['accept_between'] - parallel_analysis['accept_between'])\n",
    "\n",
    "print(\"Differences (Serial vs Parallel):\")\n",
    "print(f\"  Max evidence difference: {np.max(evidence_diff):.5f}\")\n",
    "print(f\"  Within-state acceptance difference: {acceptance_within_diff:.2f}%\")\n",
    "print(f\"  Between-state acceptance difference: {acceptance_between_diff:.2f}%\")\n",
    "\n",
    "# Tolerance check\n",
    "evidence_tolerance = 0.01  # 1% tolerance\n",
    "acceptance_tolerance = 2.0  # 2% tolerance\n",
    "\n",
    "evidence_ok = np.all(evidence_diff < evidence_tolerance)\n",
    "acceptance_ok = (acceptance_within_diff < acceptance_tolerance and \n",
    "                acceptance_between_diff < acceptance_tolerance)\n",
    "\n",
    "print(f\"\\nValidation Results:\")\n",
    "print(f\"  Evidence estimates within tolerance ({evidence_tolerance}): {'✓' if evidence_ok else '✗'}\")\n",
    "print(f\"  Acceptance rates within tolerance ({acceptance_tolerance}%): {'✓' if acceptance_ok else '✗'}\")\n",
    "print(f\"  Overall validation: {'✓ PASSED' if evidence_ok and acceptance_ok else '✗ FAILED'}\")"
   ]
  },
  {
   "cell_type": "markdown",
   "id": "evidence-comparison",
   "metadata": {},
   "source": [
    "### Evidence Comparison Plot"
   ]
  },
  {
   "cell_type": "code",
   "execution_count": 25,
   "id": "plot-evidence",
   "metadata": {},
   "outputs": [
    {
     "data": {
      "image/png": "[encoded data removed]",
      "text/plain": [
       "<Figure size 1200x800 with 1 Axes>"
      ]
     },
     "metadata": {},
     "output_type": "display_data"
    }
   ],
   "source": [
    "# Plot evidence comparison\n",
    "labels = [r\"$y=m_o$\", r\"$y=m_o + m_1x$\", r\"$y = \\sum_{i=0}^2 m_ix^i$\", r\"$y = \\sum_{i=0}^3 m_ix^i$\"]\n",
    "x = np.arange(nstates)\n",
    "width = 0.25\n",
    "\n",
    "fig, ax = plt.subplots(figsize=(12, 8))\n",
    "\n",
    "# Plot bars\n",
    "analytical_bars = ax.bar(x - width, Ev, width, label='Analytical', color='lightcoral', alpha=0.8)\n",
    "serial_bars = ax.bar(x, serial_analysis['relative_evidences'], width, label='Serial', color='skyblue', alpha=0.8)\n",
    "parallel_bars = ax.bar(x + width, parallel_analysis['relative_evidences'], width, label='Parallel (4 workers)', color='lightgreen', alpha=0.8)\n",
    "\n",
    "# Add value labels on bars\n",
    "def add_value_labels(bars, values):\n",
    "    for bar, value in zip(bars, values):\n",
    "        height = bar.get_height()\n",
    "        ax.text(bar.get_x() + bar.get_width()/2., height + 0.01,\n",
    "                f'{value:.3f}', ha='center', va='bottom', fontsize=9)\n",
    "\n",
    "add_value_labels(analytical_bars, Ev)\n",
    "add_value_labels(serial_bars, serial_analysis['relative_evidences'])\n",
    "add_value_labels(parallel_bars, parallel_analysis['relative_evidences'])\n",
    "\n",
    "ax.set_ylabel('Relative Evidence')\n",
    "ax.set_title('Evidence Estimates: Analytical vs Serial vs Parallel')\n",
    "ax.set_xticks(x)\n",
    "ax.set_xticklabels(labels)\n",
    "ax.legend()\n",
    "ax.grid(True, alpha=0.3)\n",
    "\n",
    "plt.tight_layout()\n",
    "plt.show()"
   ]
  },
  {
   "cell_type": "markdown",
   "id": "conclusion",
   "metadata": {},
   "source": [
    "## Conclusion\n",
    "\n",
    "This notebook demonstrates the walker pool parallelization feature of the State-Jump sampler:\n",
    "\n",
    "1. **Performance Scaling**: Shows how execution time decreases with increasing number of workers\n",
    "2. **Correctness Validation**: Verifies that parallel execution produces statistically equivalent results to serial execution\n",
    "3. **Usage Patterns**: Demonstrates both user-provided pools and internal pool creation\n",
    "\n",
    "The parallelization provides significant speedup while maintaining the accuracy and statistical properties of the serial implementation."
   ]
  }
 ],
 "metadata": {
  "kernelspec": {
   "display_name": "Python 3 (ipykernel)",
   "language": "python",
   "name": "python3"
  },
  "language_info": {
   "codemirror_mode": {
    "name": "ipython",
    "version": 3
   },
   "file_extension": ".py",
   "mimetype": "text/x-python",
   "name": "python",
   "nbconvert_exporter": "python",
   "pygments_lexer": "ipython3",
   "version": "3.13.7"
  }
 },
 "nbformat": 4,
 "nbformat_minor": 5
}
