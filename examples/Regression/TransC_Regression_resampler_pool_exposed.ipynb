{
 "cells": [
  {
   "cell_type": "markdown",
   "metadata": {},
   "source": [
    "## Example of Trans-C sampling with Pool Parameter Exposure: Regression\n",
    "\n",
    "This notebook demonstrates the new `pool` parameter functionality for Bayesian sampling\n",
    "using the Ensemble resampler with custom pool configurations (e.g., schwimmbad)."
   ]
  },
  {
   "cell_type": "code",
   "execution_count": 1,
   "metadata": {},
   "outputs": [],
   "source": [
    "import multiprocessing\n",
    "\n",
    "# Only run this once\n",
    "\n",
    "# On linux fork is the the default start method while on Mac OSX it is spawn. \n",
    "# Setting the start method to \"fork\" epxlictiliy on MacOS X seems to alleviate \n",
    "# the need to pickle as needed by spawn which causes issues with how the \n",
    "# log posterior is defined...\n",
    "\n",
    "# Set the start method to 'fork' \n",
    "multiprocessing.set_start_method('fork')"
   ]
  },
  {
   "cell_type": "code",
   "execution_count": 2,
   "metadata": {},
   "outputs": [],
   "source": [
    "# general python utility packages\n",
    "import time\n",
    "from collections import Counter\n",
    "from functools import partial\n",
    "from multiprocessing import Pool\n",
    "\n",
    "import corner\n",
    "import matplotlib.pyplot as plt\n",
    "import numpy as np\n",
    "import scipy.stats as stats\n",
    "from scipy.optimize import minimize"
   ]
  },
  {
   "cell_type": "code",
   "execution_count": 3,
   "metadata": {},
   "outputs": [],
   "source": [
    "import pytransc"
   ]
  },
  {
   "cell_type": "code",
   "execution_count": 4,
   "metadata": {},
   "outputs": [],
   "source": [
    "from pytransc.analysis.samples import resample_ensembles\n",
    "from pytransc.analysis.visits import (\n",
    "    count_state_changes,\n",
    "    count_total_state_changes,\n",
    "    get_acceptance_rate_between_states,\n",
    "    get_autocorr_between_state_jumps,\n",
    "    get_relative_marginal_likelihoods,\n",
    "    get_visits_to_states,\n",
    ")\n",
    "from pytransc.samplers import run_ensemble_resampler, run_mcmc_per_state\n",
    "from pytransc.utils.auto_pseudo import build_auto_pseudo_prior"
   ]
  },
  {
   "cell_type": "code",
   "execution_count": 5,
   "metadata": {},
   "outputs": [
    {
     "name": "stdout",
     "output_type": "stream",
     "text": [
      "✓ schwimmbad available - will demonstrate MPI and multiprocessing pools\n"
     ]
    }
   ],
   "source": [
    "# Try to import schwimmbad for demonstration\n",
    "try:\n",
    "    from schwimmbad import MPIPool, MultiPool\n",
    "    SCHWIMMBAD_AVAILABLE = True\n",
    "    print(\"✓ schwimmbad available - will demonstrate MPI and multiprocessing pools\")\n",
    "except ImportError:\n",
    "    SCHWIMMBAD_AVAILABLE = False\n",
    "    print(\"⚠ schwimmbad not available - will use standard multiprocessing only\")"
   ]
  },
  {
   "cell_type": "markdown",
   "metadata": {},
   "source": [
    "### Setup regression problem (same as original example)"
   ]
  },
  {
   "cell_type": "code",
   "execution_count": 6,
   "metadata": {},
   "outputs": [],
   "source": [
    "def solveLS(d, G, Cdinv, mu=None, Cmpriorinv=None):\n",
    "    \"\"\"Solve the least squares problem given data, design matrix, and covariance matrices.\"\"\"\n",
    "    A = np.dot(np.transpose(G), Cdinv)\n",
    "    GtG = np.dot(A, G)\n",
    "    if (Cmpriorinv is not None) and (mu is not None):\n",
    "        GtG += Cmpriorinv\n",
    "    GtGinv = np.linalg.inv(GtG)\n",
    "    B = np.dot(A, d)\n",
    "    if (Cmpriorinv is not None) and (mu is not None):\n",
    "        B += np.dot(Cmpriorinv, mu)\n",
    "    mls = np.dot(GtGinv, B)\n",
    "    return mls, GtGinv\n",
    "\n",
    "def getG(x, order):\n",
    "    \"\"\"Build design matrix, G for polynomial data fitting.\"\"\"\n",
    "    return np.transpose([x ** (i) for i in range(order + 1)])"
   ]
  },
  {
   "cell_type": "code",
   "execution_count": 7,
   "metadata": {},
   "outputs": [],
   "source": [
    "# Generate synthetic data\n",
    "np.random.seed(61254557)\n",
    "ndata, sigma = 20, 0.2\n",
    "xobs = np.sort(np.random.rand(ndata))\n",
    "mtrue = np.array([0.3, 0.6])\n",
    "G = getG(xobs, 1)\n",
    "dobs = np.dot(G, mtrue) + np.random.normal(0, sigma, size=len(xobs))\n",
    "Cdinv = np.eye(ndata) / (sigma**2)\n",
    "\n",
    "# Setup problem parameters\n",
    "maxorder = 3\n",
    "nstates = maxorder + 1\n",
    "ndims = [1, 2, 3, 4]\n",
    "Cmprior = [20 * np.eye(i + 1) for i in np.arange(maxorder + 1)]\n",
    "muprior = [np.zeros(i + 1) for i in np.arange(maxorder + 1)]"
   ]
  },
  {
   "cell_type": "code",
   "execution_count": 8,
   "metadata": {},
   "outputs": [],
   "source": [
    "# Define log-posterior functions\n",
    "def _log_likelihood(x, state, dobs, G, Cdinv):\n",
    "    dpred = np.dot(G[state], x)\n",
    "    misfit = 0.5 * (np.dot((dobs - dpred), np.dot(Cdinv, (dobs - dpred))))\n",
    "    f = np.sqrt(2 * np.pi) ** len(dpred)\n",
    "    detCdinv = np.linalg.det(Cdinv)\n",
    "    logL = -np.log(f) - misfit + np.log(detCdinv)\n",
    "    return logL\n",
    "\n",
    "def _log_prior(x, state, muprior, Cmprior):\n",
    "    mu = muprior[state]\n",
    "    cov = Cmprior[state]\n",
    "    rv = stats.multivariate_normal(mean=mu, cov=cov)\n",
    "    return rv.logpdf(x)\n",
    "\n",
    "# Create partial functions\n",
    "Gp = [getG(xobs, i) for i in range(maxorder + 1)]\n",
    "log_likelihood = partial(_log_likelihood, dobs=dobs, G=Gp, Cdinv=Cdinv)\n",
    "log_prior = partial(_log_prior, muprior=muprior, Cmprior=Cmprior)\n",
    "\n",
    "def log_posterior(x, state):\n",
    "    return log_likelihood(x, state) + log_prior(x, state)"
   ]
  },
  {
   "cell_type": "code",
   "execution_count": 9,
   "metadata": {},
   "outputs": [],
   "source": [
    "# Find ML estimates for starting points\n",
    "rng = np.random.default_rng(42)\n",
    "nll = lambda *args: -log_posterior(*args)\n",
    "ml = []\n",
    "for i in range(nstates):\n",
    "    initial = 0.5 * np.ones(i + 1)\n",
    "    soln = minimize(nll, initial, args=(i,))\n",
    "    ml.append(soln.x)\n",
    "\n",
    "# Setup MCMC parameters\n",
    "nsamples_es = 4 * [20000]  # Reduced for demo\n",
    "nwalkers_es = 4 * [16]     # Reduced for demo\n",
    "pos = []\n",
    "for i in range(nstates):\n",
    "    pos.append(ml[i] + 1e-4 * rng.standard_normal((nwalkers_es[i], ndims[i])))"
   ]
  },
  {
   "cell_type": "markdown",
   "metadata": {},
   "source": [
    "## Pool Parameter Demonstration\n",
    "\n",
    "The new `pool` parameter allows you to provide custom parallelization strategies:"
   ]
  },
  {
   "cell_type": "markdown",
   "metadata": {},
   "source": [
    "### Method 1: Standard multiprocessing.Pool (user-managed)"
   ]
  },
  {
   "cell_type": "code",
   "execution_count": null,
   "metadata": {},
   "outputs": [
    {
     "name": "stdout",
     "output_type": "stream",
     "text": [
      "=== Method 1: User-managed multiprocessing.Pool ===\n",
      "\n",
      "Running within-state sampler separately on each state\n",
      "\n",
      "Number of walkers               :  [16, 16, 16, 16]\n",
      "\n",
      "Number of states being sampled:  4\n",
      "Dimensions of each state:  [1, 2, 3, 4]\n"
     ]
    },
    {
     "name": "stderr",
     "output_type": "stream",
     "text": [
      " 99%|█████████████████████████████████████████████████████████████████████████████████████████████████████████████████████████████████████████████████████████████████████████████████████████████████████████▍ | 19849/20000 [00:23<00:00, 850.87it/s]"
     ]
    }
   ],
   "source": [
    "print(\"=== Method 1: User-managed multiprocessing.Pool ===\")\n",
    "start_time = time.time()\n",
    "\n",
    "# User creates and manages the pool\n",
    "\n",
    "user_pool=Pool(processes=4)\n",
    "    \n",
    "ensemble_per_state_1, log_posterior_ens_1 = run_mcmc_per_state(\n",
    "    nstates,\n",
    "    ndims,\n",
    "    nwalkers_es,\n",
    "    nsamples_es,\n",
    "    pos,\n",
    "    log_posterior,\n",
    "    pool=user_pool,  # ← NEW: Pass user-managed pool\n",
    "    discard=0,\n",
    "    auto_thin=True,\n",
    "    verbose=True)\n",
    "\n",
    "\n",
    "elapsed_1 = time.time() - start_time\n",
    "print(f\"✓ Completed with user-managed pool in {elapsed_1:.1f}s\")\n",
    "print(f\"Samples per state: {[len(ens) for ens in ensemble_per_state_1]}\")"
   ]
  },
  {
   "cell_type": "markdown",
   "metadata": {},
   "source": [
    "### Method 2: schwimmbad MultiPool (if available)"
   ]
  },
  {
   "cell_type": "code",
   "execution_count": null,
   "metadata": {},
   "outputs": [],
   "source": [
    "if SCHWIMMBAD_AVAILABLE:\n",
    "    print(\"=== Method 2: schwimmbad MultiPool ===\")\n",
    "    start_time = time.time()\n",
    "    \n",
    "    with MultiPool(processes=4) as schwimm_pool:\n",
    "        ensemble_per_state_2, log_posterior_ens_2 = run_mcmc_per_state(\n",
    "            nstates,\n",
    "            ndims,\n",
    "            nwalkers_es,\n",
    "            nsamples_es,\n",
    "            pos,\n",
    "            log_posterior,\n",
    "            pool=schwimm_pool,  # ← NEW: Pass schwimmbad pool\n",
    "            discard=0,\n",
    "            auto_thin=True,\n",
    "            verbose=True,\n",
    "        )\n",
    "    \n",
    "    elapsed_2 = time.time() - start_time\n",
    "    print(f\"✓ Completed with schwimmbad MultiPool in {elapsed_2:.1f}s\")\n",
    "    print(f\"Samples per state: {[len(ens) for ens in ensemble_per_state_2]}\")\n",
    "else:\n",
    "    print(\"⚠ Skipping schwimmbad example (not available)\")\n",
    "    ensemble_per_state_2 = ensemble_per_state_1\n",
    "    log_posterior_ens_2 = log_posterior_ens_1"
   ]
  },
  {
   "cell_type": "markdown",
   "metadata": {},
   "source": [
    "### Method 3: Library-managed (backward compatibility)"
   ]
  },
  {
   "cell_type": "code",
   "execution_count": null,
   "metadata": {},
   "outputs": [],
   "source": [
    "print(\"=== Method 3: Library-managed (existing behavior) ===\")\n",
    "start_time = time.time()\n",
    "\n",
    "ensemble_per_state_3, log_posterior_ens_3 = run_mcmc_per_state(\n",
    "    nstates,\n",
    "    ndims,\n",
    "    nwalkers_es,\n",
    "    nsamples_es,\n",
    "    pos,\n",
    "    log_posterior,\n",
    "    # pool=None,  # ← Default behavior (pool not specified)\n",
    "    parallel=True,      # ← Library creates pool internally\n",
    "    n_processors=4,\n",
    "    discard=0,\n",
    "    auto_thin=True,\n",
    "    verbose=True,\n",
    ")\n",
    "\n",
    "elapsed_3 = time.time() - start_time\n",
    "print(f\"✓ Completed with library-managed pool in {elapsed_3:.1f}s\")\n",
    "print(f\"Samples per state: {[len(ens) for ens in ensemble_per_state_3]}\")"
   ]
  },
  {
   "cell_type": "markdown",
   "metadata": {},
   "source": [
    "### Run ensemble resampler with pool parameter"
   ]
  },
  {
   "cell_type": "code",
   "execution_count": null,
   "metadata": {},
   "outputs": [],
   "source": [
    "# Use the first method's results for ensemble resampling\n",
    "ensemble_per_state = ensemble_per_state_1\n",
    "log_posterior_ens = log_posterior_ens_1\n",
    "\n",
    "# Build pseudo priors\n",
    "log_pseudo_prior = build_auto_pseudo_prior(ensemble_per_state=ensemble_per_state)\n",
    "log_pseudo_prior_ens = []\n",
    "for i, ens in enumerate(ensemble_per_state):\n",
    "    log_pseudo_prior_ens.append(np.array([log_pseudo_prior(x, i) for x in ens]))"
   ]
  },
  {
   "cell_type": "code",
   "execution_count": null,
   "metadata": {},
   "outputs": [],
   "source": [
    "print(\"=== Ensemble Resampler with Pool Parameter ===\")\n",
    "\n",
    "nwalkers_er = 16\n",
    "nsteps_er = 50000\n",
    "start_time = time.time()\n",
    "\n",
    "# Demonstrate pool parameter in ensemble resampler\n",
    "with Pool(processes=4) as resampler_pool:\n",
    "    resampler_chains = run_ensemble_resampler(\n",
    "        nwalkers_er,\n",
    "        nsteps_er,\n",
    "        nstates,\n",
    "        ndims,\n",
    "        log_posterior_ens=log_posterior_ens,\n",
    "        log_pseudo_prior_ens=log_pseudo_prior_ens,\n",
    "        pool=resampler_pool,  # ← NEW: Pass pool to ensemble resampler\n",
    "        progress=True,\n",
    "    )\n",
    "\n",
    "elapsed_ensemble = time.time() - start_time\n",
    "print(f\"✓ Ensemble resampler completed in {elapsed_ensemble:.1f}s\")"
   ]
  },
  {
   "cell_type": "markdown",
   "metadata": {},
   "source": [
    "### Results and comparison"
   ]
  },
  {
   "cell_type": "code",
   "execution_count": null,
   "metadata": {},
   "outputs": [],
   "source": [
    "# Extract results\n",
    "from pytransc.analysis.visits import get_relative_marginal_likelihoods\n",
    "\n",
    "relative_marginal_likelihoods = get_relative_marginal_likelihoods(\n",
    "    resampler_chains.state_chain_tot[:, -1, :]\n",
    ")\n",
    "\n",
    "print(\"\\n=== Results Summary ===\")\n",
    "print(f\"Estimated relative evidences: {np.round(relative_marginal_likelihoods, 4)}\")\n",
    "print(\"\\n=== Pool Parameter Benefits ===\")\n",
    "print(\"✓ User controls pool lifecycle (creation/cleanup)\")\n",
    "print(\"✓ Can use schwimmbad for MPI, cluster computing\")\n",
    "print(\"✓ Backward compatible - existing code unchanged\")\n",
    "print(\"✓ Avoids memory leaks from unclosed pools\")"
   ]
  },
  {
   "cell_type": "markdown",
   "metadata": {},
   "source": [
    "## MPI Example (conceptual)\n",
    "\n",
    "For cluster/MPI usage with schwimmbad:"
   ]
  },
  {
   "cell_type": "code",
   "execution_count": null,
   "metadata": {},
   "outputs": [],
   "source": [
    "# Example of MPI usage (requires mpirun to actually work)\n",
    "print(\"\\n=== MPI Example (conceptual) ===\")\n",
    "print(\"\"\"\n",
    "# For MPI execution:\n",
    "from schwimmbad import MPIPool\n",
    "\n",
    "# Run with: mpirun -n 8 python your_script.py\n",
    "with MPIPool() as mpi_pool:\n",
    "    ensemble_per_state, log_posterior_ens = run_mcmc_per_state(\n",
    "        nstates, ndims, nwalkers_es, nsamples_es, pos, log_posterior,\n",
    "        pool=mpi_pool,  # Uses MPI across cluster nodes\n",
    "        discard=0, auto_thin=True\n",
    "    )\n",
    "\"\"\")\n",
    "\n",
    "if SCHWIMMBAD_AVAILABLE:\n",
    "    print(\"✓ schwimmbad available - MPI example would work\")\n",
    "else:\n",
    "    print(\"⚠ Install schwimmbad for MPI support: pip install schwimmbad\")"
   ]
  },
  {
   "cell_type": "markdown",
   "metadata": {},
   "source": [
    "## Key Implementation Notes\n",
    "\n",
    "1. **Pool Parameter Precedence**: When `pool` is provided, it takes precedence over `parallel` and `n_processors`\n",
    "2. **Memory Management**: User-provided pools are not closed by the library - user manages lifecycle\n",
    "3. **Backward Compatibility**: All existing code continues to work unchanged\n",
    "4. **Type Flexibility**: `pool: Any | None = None` accepts any pool-like object with a `map()` method"
   ]
  }
 ],
 "metadata": {
  "kernelspec": {
   "display_name": "Python 3 (ipykernel)",
   "language": "python",
   "name": "python3"
  },
  "language_info": {
   "codemirror_mode": {
    "name": "ipython",
    "version": 3
   },
   "file_extension": ".py",
   "mimetype": "text/x-python",
   "name": "python",
   "nbconvert_exporter": "python",
   "pygments_lexer": "ipython3",
   "version": "3.13.7"
  }
 },
 "nbformat": 4,
 "nbformat_minor": 4
}
