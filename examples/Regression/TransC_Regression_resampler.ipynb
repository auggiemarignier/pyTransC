{
 "cells": [
  {
   "cell_type": "markdown",
   "id": "2be3125f-03e9-4c1a-91e4-98d8677ae19c",
   "metadata": {},
   "source": [
    "## Example of Trans-C sampling across independent model states: Regression\n",
    "\n",
    "This notebook demonstrates Bayesian sampling of a linear polynomial regression problem\n",
    "using the Ensemble resampler."
   ]
  },
  {
   "cell_type": "code",
   "execution_count": 10,
   "id": "a0c36aa4-4cc4-4ca2-b984-26cfde5d068a",
   "metadata": {},
   "outputs": [],
   "source": [
    "# general python utility packages\n",
    "import time\n",
    "from collections import Counter\n",
    "from functools import partial\n",
    "\n",
    "import corner\n",
    "import matplotlib.pyplot as plt\n",
    "import numpy as np\n",
    "import scipy.stats as stats\n",
    "from scipy.optimize import minimize\n",
    "from concurrent.futures import ProcessPoolExecutor, ThreadPoolExecutor"
   ]
  },
  {
   "cell_type": "code",
   "execution_count": 11,
   "id": "b54a941c-6cc0-4b01-8fbd-bfd338f01e58",
   "metadata": {},
   "outputs": [],
   "source": [
    "from pytransc.analysis.samples import resample_ensembles\n",
    "from pytransc.analysis.visits import (\n",
    "    count_state_changes,\n",
    "    count_total_state_changes,\n",
    "    get_acceptance_rate_between_states,\n",
    "    get_autocorr_between_state_jumps,\n",
    "    get_relative_marginal_likelihoods,\n",
    "    get_visits_to_states,\n",
    ")\n",
    "from pytransc.samplers import run_ensemble_resampler, run_mcmc_per_state\n",
    "from pytransc.utils.auto_pseudo import build_auto_pseudo_prior"
   ]
  },
  {
   "cell_type": "code",
   "execution_count": 12,
   "id": "a3cbf0fd-e567-49d9-b1e0-829c1662f6e3",
   "metadata": {},
   "outputs": [],
   "source": [
    "def solveLS(d, G, Cdinv, mu=None, Cmpriorinv=None):  # Least squares solver\n",
    "    \"\"\"Solve the least squares problem given data, design matrix, and covariance matrices.\"\"\"\n",
    "    A = np.dot(np.transpose(G), Cdinv)  # Find solution\n",
    "    GtG = np.dot(A, G)  # G^T C_inv G^T\n",
    "    if (Cmpriorinv is not None) and (mu is not None):\n",
    "        GtG += Cmpriorinv\n",
    "    GtGinv = np.linalg.inv(GtG)  # Inverse of G^TC_inv G\n",
    "    B = np.dot(A, d)\n",
    "    if (Cmpriorinv is not None) and (mu is not None):\n",
    "        B += np.dot(Cmpriorinv, mu)\n",
    "    mls = np.dot(GtGinv, B)\n",
    "    return mls, GtGinv"
   ]
  },
  {
   "cell_type": "code",
   "execution_count": 13,
   "id": "14290f04-a952-4655-bc0c-97a0a172b245",
   "metadata": {},
   "outputs": [],
   "source": [
    "def solveLS(d, G, Cdinv, mu=None, Cmpriorinv=None):  # Least squares solver\n",
    "    \"\"\"Solve the least squares problem given data, design matrix, and covariance matrices.\"\"\"\n",
    "    A = np.dot(np.transpose(G), Cdinv)  # Find solution\n",
    "    GtG = np.dot(A, G)  # G^T C_inv G^T\n",
    "    if (Cmpriorinv is not None) and (mu is not None):\n",
    "        GtG += Cmpriorinv\n",
    "    GtGinv = np.linalg.inv(GtG)  # Inverse of G^TC_inv G\n",
    "    B = np.dot(A, d)\n",
    "    if (Cmpriorinv is not None) and (mu is not None):\n",
    "        B += np.dot(Cmpriorinv, mu)\n",
    "    mls = np.dot(GtGinv, B)\n",
    "    return mls, GtGinv"
   ]
  },
  {
   "cell_type": "code",
   "execution_count": 14,
   "id": "a6290310-fe58-49f1-98cc-8da741d57f3e",
   "metadata": {},
   "outputs": [],
   "source": [
    "def calcE(dp, dobs, Cdinv, Cmpost, m, muprior, Cmpriorinv):\n",
    "    \"\"\"Calculate the evidence for the model given data, prior, and posterior covariances.\"\"\"\n",
    "    misfit = 0.5 * (np.dot((dobs - dp), np.dot(Cdinv, (dobs - dp))))\n",
    "    misfit += 0.5 * (np.dot((muprior - m), np.dot(Cmpriorinv, (muprior - m))))\n",
    "    f = np.sqrt(2 * np.pi) ** len(dp)\n",
    "    detCdinv = np.linalg.det(Cdinv)\n",
    "    detCmpost = np.linalg.det(Cmpost)\n",
    "    detCmpriorinv = np.linalg.det(Cmpriorinv)\n",
    "    E = np.sqrt(detCmpost * detCdinv * detCmpriorinv) * np.exp(-misfit) / f\n",
    "    return E"
   ]
  },
  {
   "cell_type": "markdown",
   "id": "c5c43725-4269-412e-809b-9848cc3c79a1",
   "metadata": {},
   "source": [
    "--------"
   ]
  },
  {
   "cell_type": "markdown",
   "id": "b411a522-0f82-4fc1-84fe-4807e8a8fb2e",
   "metadata": {},
   "source": [
    "## Polynomial regression theory\n",
    "\n",
    "Here we set up a problem of polynomial regression fitting a set of x,y data with up to a 4th order polynomial."
   ]
  },
  {
   "cell_type": "markdown",
   "id": "fa3616da-7904-4a98-bd34-ec56d47d3fa6",
   "metadata": {},
   "source": [
    "To begin with, we will work with polynomial curves, $$y(x) = \\sum_{n=0}^N m_n x^n\\,.$$\n",
    "Here, $N$ is the 'order' of the polynomial: if $N=1$ we have a straight line, if $N=2$ it will be a quadratic, and so on. The $m_n$ are the 'model coefficients'.\n",
    "\n",
    "To compute $y(x)$ for multiple $x$-values simultaneously, we  write $$ \\left(\\begin{array}{c}y_1\\\\y_2\\\\\\vdots\\\\y_N\\end{array}\\right) = \\left(\\begin{array}{ccc}1&x_1&x_1^2\\\\1&x_2&x_2^2\\\\\\vdots&\\vdots&\\vdots\\\\1&x_N&x_N^2\\end{array}\\right)\\left(\\begin{array}{c}m_0\\\\m_1\\\\m_2\\end{array}\\right)$$This has the general form, $\\mathbf{d=Gm}$, and so the best-fitting model can be identified using a least-squares algorithm.\n",
    "\n",
    "The maximum Likelihood solution for this problem is the model which minimizes\n",
    "\n",
    "$$\n",
    "\\phi(\\mathbf{m}) = \\frac{1}{2} (\\mathbf{d-Gm})^TC_D^{-1} (\\mathbf{d-Gm}),\n",
    "$$\n",
    "which leads to\n",
    "\n",
    "$$\n",
    "{\\bf m}_{LS} = \\left(\\mathbf{G}^T C_D^{-1} \\mathbf{G}\\right)^{-1}\\mathbf{G}^T  C_D^{-1} \\mathbf{d}.\n",
    "$$\n",
    "\n",
    "The *MAP* model, $\\hat{{\\bf m}}$, for this problem minimizes of the sum of the negative log-Likelihood and log-Gaussian prior \n",
    "\n",
    "$$\n",
    "\\phi(\\mathbf{m}) = \\frac{1}{2} (\\mathbf{d-Gm})^TC_D^{-1} (\\mathbf{d-Gm}) + \\frac{1}{2} (\\mathbf{m - m_o})^TC_M^{-1} (\\mathbf{m - m_o})\n",
    "$$\n",
    "\n",
    "which leads to\n",
    "\n",
    "$$\n",
    "\\hat{{\\bf m}} = \\left(\\mathbf{G}^T C_D^{-1} \\mathbf{G} + C_M^{-1}\\right)^{-1}(\\mathbf{G}^T  C_D^{-1} \\mathbf{d} + C_M^{-1}\\mathbf{m_o}).\n",
    "$$"
   ]
  },
  {
   "cell_type": "markdown",
   "id": "7e99a078-e476-43ea-ba95-3de2bc0fc72a",
   "metadata": {},
   "source": [
    "For Gaussian Likelihood and prior the evidence is a known analytical expression.\n",
    "\n",
    "$$\n",
    "p{(\\bf d}) = \\frac{e^{-\\phi(\\hat{{\\bf m}})}}{(2\\pi)^{N/2}} \\left[ \\frac{|\\hat{C}_M|}{|C_D||C_M|}\\right]^{1/2}.\n",
    "$$\n",
    "where $\\hat{C}_M$ is the posterior model covariance, \n",
    "\n",
    "$$\n",
    "\\hat{C}_M = \\left(\\mathbf{G}^T C_D^{-1} \\mathbf{G} + C_M^{-1}\\right)^{-1}\n",
    "$$"
   ]
  },
  {
   "cell_type": "code",
   "execution_count": 15,
   "id": "7fc7e8e9-a18d-4f1b-9342-606fe9443ddb",
   "metadata": {},
   "outputs": [],
   "source": [
    "def getG(x, order):\n",
    "    \"\"\"Build design matrix, G for polynomial data fitting, at data points x up to order order.\"\"\"\n",
    "    return np.transpose([x ** (i) for i in range(order + 1)])"
   ]
  },
  {
   "cell_type": "markdown",
   "id": "69aa0205-863d-487c-9bb1-19cf413c1825",
   "metadata": {},
   "source": [
    "We generate some random samples from $y=3x/5+0.3$, add Gaussian random noise to them."
   ]
  },
  {
   "cell_type": "code",
   "execution_count": 16,
   "id": "0f3361af-e634-4a44-9bf2-ba5bc4892230",
   "metadata": {},
   "outputs": [],
   "source": [
    "np.random.seed(61254557)  # noqa: NPY002\n",
    "ndata, sigma = 20, 0.2\n",
    "xobs = np.sort(np.random.rand(ndata))  # noqa: NPY002 ; x values of data\n",
    "mtrue = np.array([0.3, 0.6])\n",
    "G = getG(xobs, 1)\n",
    "dobs = np.dot(G, mtrue) + np.random.normal(0, sigma, size=len(xobs))  # noqa: NPY002\n",
    "Cdinv = np.eye(ndata) / (sigma**2)"
   ]
  },
  {
   "cell_type": "markdown",
   "id": "40db6e8f-c36d-4130-9227-79f553107000",
   "metadata": {},
   "source": [
    "Set up prior for Evidence calculation."
   ]
  },
  {
   "cell_type": "code",
   "execution_count": 17,
   "id": "8e5e4e4a-18b7-46bb-b40c-7ca94628e226",
   "metadata": {},
   "outputs": [],
   "source": [
    "mls, Cmpost, G, Ev, maxorder = [], [], [], [], 3\n",
    "Cmprior = [20 * np.eye(i + 1) for i in np.arange(maxorder + 1)]\n",
    "Cmpriorinv = [0.05 * np.eye(i + 1) for i in np.arange(maxorder + 1)]\n",
    "muprior = [np.zeros(i + 1) for i in np.arange(maxorder + 1)]"
   ]
  },
  {
   "cell_type": "markdown",
   "id": "83759e9a-e40c-492f-872f-a44bcc588754",
   "metadata": {},
   "source": [
    "Solve least squares solution and calculate evidence for each model."
   ]
  },
  {
   "cell_type": "code",
   "execution_count": 18,
   "id": "274188a4-9a86-444b-b0be-8ab031e4218b",
   "metadata": {},
   "outputs": [],
   "source": [
    "for i in range(maxorder + 1):\n",
    "    Gp = getG(xobs, i)\n",
    "    solp, Cmp = solveLS(dobs, Gp, Cdinv)  # Maximum Likelihood solution\n",
    "    dpred = np.dot(Gp, solp)\n",
    "    mls.append(solp)\n",
    "    Cmpost.append(Cmp)\n",
    "    G.append(Gp)\n",
    "    solp2, Cmp2 = solveLS(\n",
    "        dobs, Gp, Cdinv, mu=muprior[i], Cmpriorinv=Cmpriorinv[i]\n",
    "    )  # MAP model and model covariance with Gaussian prior\n",
    "    dpred2 = np.dot(Gp, solp2)\n",
    "    Ev.append(\n",
    "        calcE(dpred2, dobs, Cdinv, Cmp2, solp2, muprior[i], Cmpriorinv[i])\n",
    "    )  # Analytical evidence calculation\n",
    "Ev /= np.sum(Ev)"
   ]
  },
  {
   "cell_type": "code",
   "execution_count": 19,
   "id": "1083c165-b47a-45e5-b571-848ee9706c84",
   "metadata": {},
   "outputs": [
    {
     "data": {
      "text/plain": [
       "array([0.17305995, 0.64751747, 0.12509365, 0.05432893])"
      ]
     },
     "execution_count": 19,
     "metadata": {},
     "output_type": "execute_result"
    }
   ],
   "source": [
    "Ev"
   ]
  },
  {
   "cell_type": "markdown",
   "id": "3696a894-39bc-41b2-af63-f222af0d8d83",
   "metadata": {},
   "source": [
    "Plot solutions."
   ]
  },
  {
   "cell_type": "code",
   "execution_count": 20,
   "id": "fee0fba8-aed7-407a-b426-f76fb101321d",
   "metadata": {},
   "outputs": [
    {
     "data": {
      "image/png": "[encoded data removed]",
      "text/plain": [
       "<Figure size 800x600 with 1 Axes>"
      ]
     },
     "metadata": {},
     "output_type": "display_data"
    }
   ],
   "source": [
    "xplot = np.linspace(-0.25, 1.25, 100)\n",
    "Gplot = getG(xplot, 1)\n",
    "dplot = np.dot(Gplot, mtrue)\n",
    "#\n",
    "plt.figure(figsize=(8, 6))\n",
    "plt.errorbar(xobs, dobs, yerr=sigma, capsize=3, fmt=\"ko\", ecolor=\"grey\", lw=0.5)\n",
    "plt.plot(xplot, dplot, label=\"True\", color=\"k\", lw=0.8)\n",
    "for i in range(maxorder + 1):\n",
    "    Gplotp = getG(xplot, i)\n",
    "    dpred = np.dot(Gplotp, mls[i])\n",
    "    plt.plot(xplot, dpred, label=\"Best fit p=\" + str(i), lw=0.5)\n",
    "plt.xlabel(\"x\")\n",
    "plt.ylabel(\"y\")\n",
    "plt.ylim(-0.2, 1.3)\n",
    "plt.legend()\n",
    "plt.show()"
   ]
  },
  {
   "cell_type": "code",
   "execution_count": 21,
   "id": "acf67702-6226-46d1-bc9d-367926c03a86",
   "metadata": {},
   "outputs": [
    {
     "data": {
      "image/png": "[encoded data removed]",
      "text/plain": [
       "<Figure size 640x480 with 1 Axes>"
      ]
     },
     "metadata": {},
     "output_type": "display_data"
    }
   ],
   "source": [
    "# plot evidence values\n",
    "\n",
    "fig, ax = plt.subplots()\n",
    "\n",
    "fruits = [\n",
    "    r\"$y=m_o$\",\n",
    "    r\"$y=m_o + m_1x$\",\n",
    "    r\"$y = \\sum_{i=0}^2 m_ix^i$\",\n",
    "    r\"$y = \\sum_{i=0}^3 m_ix^i$\",\n",
    "]\n",
    "counts = [Ev[i] for i in range(maxorder + 1)]\n",
    "bar_labels = [\n",
    "    \"Order 0\",\n",
    "    \"Order 1\",\n",
    "    \"Order 2\",\n",
    "    \"Order 3\",\n",
    "]  # Define a list of labels, one for each bar\n",
    "\n",
    "bar_colors = [\n",
    "    \"skyblue\",\n",
    "    \"lightcoral\",\n",
    "    \"lightgreen\",\n",
    "    \"gold\",\n",
    "]  # Define a list of colors, one for each bar\n",
    "\n",
    "ax.bar(fruits, counts, label=bar_labels, width=0.5, color=bar_colors)\n",
    "\n",
    "ax.set_ylabel(\"Relative posterior evidence\")\n",
    "ax.set_title(\"Evidence estimate for each model\")\n",
    "ax.legend(title=\"Relative Evidence\")\n",
    "\n",
    "plt.show()"
   ]
  },
  {
   "cell_type": "markdown",
   "id": "4375a006-386f-4866-a08d-5ca450ab05a2",
   "metadata": {},
   "source": [
    "----------------"
   ]
  },
  {
   "cell_type": "markdown",
   "id": "96f529eb-993e-4fcd-a4f3-6c9174d2e0ea",
   "metadata": {},
   "source": [
    "Set some global control parameters."
   ]
  },
  {
   "cell_type": "code",
   "execution_count": 22,
   "id": "afd65bdc-56dd-4a9b-977e-f3c3b6b8bb41",
   "metadata": {},
   "outputs": [],
   "source": [
    "plotting = True  # Create some diagnostic displays of outputs\n",
    "parallel = False  # Use parallel computation for sampling"
   ]
  },
  {
   "cell_type": "markdown",
   "id": "7d2ba376-0b2b-40cc-9108-8de4a58b9379",
   "metadata": {},
   "source": [
    "### Log-posterior Likeihood, prior and PDF for each state"
   ]
  },
  {
   "cell_type": "code",
   "execution_count": 23,
   "id": "8669e5a3-af89-46a8-8bdc-fbe6470bbe55",
   "metadata": {},
   "outputs": [],
   "source": [
    "def _log_likelihood(x, state, dobs, G, Cdinv):\n",
    "    \"\"\"Calculate the log likelihood of the data given the model parameters.\"\"\"\n",
    "    dpred = np.dot(G[state], x)\n",
    "    misfit = 0.5 * (np.dot((dobs - dpred), np.dot(Cdinv, (dobs - dpred))))\n",
    "    f = np.sqrt(2 * np.pi) ** len(dpred)\n",
    "    detCdinv = np.linalg.det(Cdinv)\n",
    "    logL = -np.log(f) - misfit + np.log(detCdinv)\n",
    "    return logL\n",
    "\n",
    "\n",
    "log_likelihood = partial(_log_likelihood, dobs=dobs, G=G, Cdinv=Cdinv)"
   ]
  },
  {
   "cell_type": "code",
   "execution_count": 24,
   "id": "fcc8563b-c17a-4450-b057-3086d1df2d4f",
   "metadata": {},
   "outputs": [],
   "source": [
    "def _log_prior(x, state, muprior, Cmprior):\n",
    "    \"\"\"Calculate the log prior probability of the model parameters.\"\"\"\n",
    "    mu = muprior[state]\n",
    "    cov = Cmprior[state]\n",
    "    rv = stats.multivariate_normal(\n",
    "        mean=mu, cov=cov\n",
    "    )  # instance of multi-dimensional Gaussian\n",
    "    return rv.logpdf(x)\n",
    "\n",
    "\n",
    "log_prior = partial(_log_prior, muprior=muprior, Cmprior=Cmprior)"
   ]
  },
  {
   "cell_type": "code",
   "execution_count": 25,
   "id": "f4401462-302c-44e7-8fd7-b48f36d0ef44",
   "metadata": {},
   "outputs": [],
   "source": [
    "def log_posterior(x, state):\n",
    "    \"\"\"Multi-state log Posterior PDF evaluation (unormalised).\"\"\"\n",
    "    return log_likelihood(x, state) + log_prior(x, state)"
   ]
  },
  {
   "cell_type": "code",
   "execution_count": 26,
   "id": "539bdd85-f7de-4ce1-867d-49854381d2a6",
   "metadata": {},
   "outputs": [
    {
     "name": "stdout",
     "output_type": "stream",
     "text": [
      "Maximum likelihood estimates:\n",
      "x_ml  [0.58148024]\n",
      "x_ml  [0.37788932 0.48664354]\n",
      "x_ml  [ 0.31354801  0.95796058 -0.52400541]\n",
      "x_ml  [ 0.28548373  1.4395107  -1.83289387  0.89632873]\n"
     ]
    }
   ],
   "source": [
    "# first we optimize each state to find good starting point for all McMC samplers\n",
    "rng = np.random.default_rng(42)\n",
    "nstates = maxorder + 1  # Number of distinct states\n",
    "ndims = [1, 2, 3, 4]  # Number of model parameters in each stateif(True):\n",
    "nll = lambda *args: -log_posterior(*args)\n",
    "ml = []\n",
    "print(\"Maximum likelihood estimates:\")\n",
    "for i in range(nstates):\n",
    "    initial = 0.5 * np.ones(i + 1)\n",
    "    soln = minimize(nll, initial, args=(i,))\n",
    "    ml.append(soln.x)\n",
    "    print(\"x_ml \", soln.x)"
   ]
  },
  {
   "cell_type": "markdown",
   "id": "52e51c05-7cae-4799-9c3f-ec551f7afc21",
   "metadata": {},
   "source": [
    "## Trans-C samping across model states with the Ensemble resampler "
   ]
  },
  {
   "cell_type": "markdown",
   "id": "a73a8b15-6d77-4c70-8f8a-61a8d34806a3",
   "metadata": {},
   "source": [
    "Here we demonstrate use of the *Ensemble resampler*.\n",
    "\n",
    "This formulation is equivalent to the *State-jump sampler* with the pseudo-prior being an approximation of the posterior PDF in each state. \n",
    "\n",
    "This consists of the following steps:\n",
    "- Generate posterior ensembles in each state\n",
    "- Build a pseudo prior PDF from these ensembles, and evaluate its log for all models in the ensembles.\n",
    "- Sampler across the ensembles over the integer state label variable, $k$."
   ]
  },
  {
   "cell_type": "markdown",
   "id": "de380a98-cd6a-467d-8f39-20f3abac9592",
   "metadata": {},
   "source": [
    "Run Ensemble resampler in each state separately."
   ]
  },
  {
   "cell_type": "markdown",
   "id": "82941f68-f3b7-4bfc-9d05-ba2b6016199c",
   "metadata": {},
   "source": [
    "### Preliminaries "
   ]
  },
  {
   "cell_type": "markdown",
   "id": "65e6614c-ca74-4e39-9e71-b461a49b9030",
   "metadata": {},
   "source": [
    "First find good starting models in each state, and then run Ensemble resampler in each state separately."
   ]
  },
  {
   "cell_type": "code",
   "execution_count": 27,
   "id": "e88d3c36-d29d-42e2-b15e-1cca1a131260",
   "metadata": {},
   "outputs": [],
   "source": [
    "# setup of MCMC sampler\n",
    "nsamples_es = 4 * [50000]  # number of samples per chain for sampling of each state\n",
    "nwalkers_es = 4 * [32]  # number of mcmc chains to run in each state\n",
    "pos = []\n",
    "for i in range(nstates):  # generate starting points for each chain in each state\n",
    "    pos.append(\n",
    "        ml[i] + 1e-4 * rng.standard_normal((nwalkers_es[i], ndims[i]))\n",
    "    )  # add random perturbation to maximum Likelihood models"
   ]
  },
  {
   "cell_type": "markdown",
   "id": "6c73b541-c3c7-4abf-9dbb-3c3e92c4772c",
   "metadata": {},
   "source": [
    "#### Parallelisation\n",
    "`run_mcmc_per_state` performs posterior sampling within each state using MCMC. Since this process is *embarrisingly parallel* over states, and may separately be parallelized across chains within each state, we expose two pools that the user may define. One over states and one over walkers. Both may be used simultaneously. This is implemented using the following options:\n",
    "\n",
    "- `parallel_mode = 0` :Sequential execution (no pool).\n",
    "- `parallel_mode = 1` :Parallel across states only. Set `n_state_procs` to a factor of the number of states.\n",
    "- `parallel_mode = 2` :Parallel across states and walkers within each state. Set `n_state_procs` to a factor of the number of states and  `n_walker_procs` to a factor of the number of walkers within each state.\n",
    "\n",
    "For a more detailed examination of how performance varies with these choices see the notebook `TransC_Regression_parallel.ipynb`."
   ]
  },
  {
   "cell_type": "code",
   "execution_count": 28,
   "id": "e3815bcb-5adf-4032-97f5-af4982687077",
   "metadata": {},
   "outputs": [],
   "source": [
    "parallel_mode = 1      # Implement choice of Parallel mode\n",
    "if (parallel_mode == 1):\n",
    "    n_state_procs = 4  # Number of processes used in state mode. Suggest set equal to number of states if possible.\n",
    "elif(parallel_mode == 2):\n",
    "    n_state_procs = 4  # Number of processes over states. Suggest set equal to number of states if possible.\n",
    "    n_walker_procs = 8 # Number of processes used over walkers within each state"
   ]
  },
  {
   "cell_type": "code",
   "execution_count": 29,
   "id": "0e527672-0b0d-4504-b7f4-ec47dcb9046d",
   "metadata": {},
   "outputs": [
    {
     "name": "stdout",
     "output_type": "stream",
     "text": [
      "\n",
      "Running within-state sampler separately on each state\n",
      "\n",
      "Number of walkers               :  [32, 32, 32, 32]\n",
      "\n",
      "Number of states being sampled:  4\n",
      "Dimensions of each state:  [1, 2, 3, 4]\n",
      "Using state-level parallelism\n"
     ]
    },
    {
     "name": "stderr",
     "output_type": "stream",
     "text": [
      "100%|███████████████████████████████████████████████████████████████████████████████████████| 50000/50000 [01:44<00:00, 477.95it/s]\n",
      "100%|███████████████████████████████████████████████████████████████████████████████████████| 50000/50000 [01:45<00:00, 472.49it/s]\n",
      "100%|███████████████████████████████████████████████████████████████████████████████████████| 50000/50000 [01:46<00:00, 468.38it/s]\n",
      "100%|███████████████████████████████████████████████████████████████████████████████████████| 50000/50000 [01:46<00:00, 467.87it/s]\n"
     ]
    },
    {
     "name": "stdout",
     "output_type": "stream",
     "text": [
      "Performing auto thinning of ensemble...\n",
      " Elapsed time                                     : 107.4 s \n",
      "\n",
      " Number of samples in each state                  : 114282 94114 79996 63996\n"
     ]
    }
   ],
   "source": [
    "# run Ensemble sampler in each state\n",
    "start_time = time.time()\n",
    "if(parallel_mode == 0): # No parallelisation\n",
    "    ensemble_per_state, log_posterior_ens = run_mcmc_per_state(\n",
    "        nstates,  # number of states\n",
    "        ndims,  # number of dimensions in each state\n",
    "        nwalkers_es,  # int or list containing number of walkers for each state\n",
    "        nsamples_es,  # number of chain steps per walker\n",
    "        pos,  # starting positions for walkers in each state\n",
    "        log_posterior,  # log Likelihood x log_prior\n",
    "        discard=0,  # burnin number of chain steps to discard in eeach state\n",
    "        auto_thin=True,  # thinning value, save every `thin` models\n",
    "        verbose=True)  # show progress bar for each state\n",
    "\n",
    "elif(parallel_mode == 1): # Parallel over states only\n",
    "    with ProcessPoolExecutor(max_workers=n_state_procs) as state_pool:\n",
    "            ensemble_per_state, log_posterior_ens = run_mcmc_per_state(\n",
    "                nstates,\n",
    "                ndims,\n",
    "                nwalkers_es,\n",
    "                nsamples_es,\n",
    "                pos,\n",
    "                log_posterior,\n",
    "                discard=0,\n",
    "                state_pool=state_pool,\n",
    "                auto_thin=True\n",
    "            )\n",
    "elif(parallel_mode == 2): # Parallel over states and walkers\n",
    "    with ProcessPoolExecutor(max_workers=n_state_procs) as state_pool, \\\n",
    "         ProcessPoolExecutor(max_workers=n_walker_procs) as walker_pool:\n",
    "    \n",
    "        ensemble_per_state, log_posterior_ens = run_mcmc_per_state(\n",
    "            nstates,\n",
    "            ndims,\n",
    "            nwalkers_es,\n",
    "            nsamples_es,\n",
    "            pos,\n",
    "            log_posterior=log_posterior,\n",
    "            state_pool=state_pool,\n",
    "            emcee_pool=walker_pool,\n",
    "        )\n",
    "\n",
    "elapsed_time = time.time() - start_time\n",
    "print(\n",
    "    \" Elapsed time                                     :\",\n",
    "    np.round(elapsed_time, 2),\n",
    "    \"s \\n\",\n",
    ")\n",
    "print(\n",
    "    \" Number of samples in each state                  :\",\n",
    "    *[len(ensemble_per_state[i]) for i in range(nstates)],\n",
    ")"
   ]
  },
  {
   "cell_type": "markdown",
   "id": "6c25ed46-f48d-4722-ba36-b329b42b31da",
   "metadata": {},
   "source": [
    "#### Run times in each mode\n",
    "\n",
    "| Mode | Elapsed time (s) | Nproc_state |Nproc_walkers| N state 1 |N state 2| N state 3|N state 4|\n",
    "|:-------------|-------------:|:--------------:|:--------------:|:----------:|:----------:|:----------:|:----------:|\n",
    "| Sequential   | 447.0        | -           |-           |114282| 94114| 79996| 63996|\n",
    "| State parallel | 117.9      | 4          |-           |114282| 94114| 79996| 63996|\n",
    "| State-Walker parallel | 251.9     | 4          |8           |114282| 94114| 79996| 63996|\n",
    "\n",
    "Relative execution times may be dependent on the cost of a Likelihood evaluation, which is quite fast here."
   ]
  },
  {
   "cell_type": "code",
   "execution_count": 30,
   "id": "40fbda66-ebdb-4dda-85c4-941f5bca2bdf",
   "metadata": {},
   "outputs": [],
   "source": [
    "# corner plots to check sampling within each state (if desired)\n",
    "if False:\n",
    "    contour_kwargs = {\"linewidths\": 0.5}\n",
    "    data_kwargs = {\"color\": \"darkblue\"}\n",
    "    data_kwargs = {\"color\": \"slateblue\"}\n",
    "    for i in range(1, nstates):\n",
    "        string = \"Order \" + str(i)\n",
    "        print(\" State; \", i, \" in \", ndims[i], \" dimensions\")\n",
    "        fig = corner.corner(\n",
    "            ensemble_per_state[i],\n",
    "            truths=ml[i],\n",
    "            title=string,\n",
    "            bins=40,\n",
    "            hist_bin_factor=2,\n",
    "            smooth=True,\n",
    "            contour_kwargs=contour_kwargs,\n",
    "            data_kwargs=data_kwargs,\n",
    "        )"
   ]
  },
  {
   "cell_type": "markdown",
   "id": "d2d2bbde-0c82-4541-960e-1b13d83c47ae",
   "metadata": {},
   "source": [
    "#### Build pseudo priors by fitting a Gaussian mixture to posterior ensembles in each state\n",
    "\n",
    "Fit a mixture model in each state to create an automatic pseudo prior, and then evaluate that pseudo_prior for all points in the ensembles. This uses the posterior ensembles `ensemble_per_state[s],s=1,...,nstates` and produces an ensemble of log-pseudo-prior values which are placed in `log_pseudo_prior_ens[s],s=1,...,nstates`. These are then provided to the ensemble resampler `run_ensemble_resampler`."
   ]
  },
  {
   "cell_type": "code",
   "execution_count": null,
   "id": "c8f7ba67-d2f5-464a-85be-c65e016b628b",
   "metadata": {},
   "outputs": [],
   "source": [
    "log_pseudo_prior = build_auto_pseudo_prior(ensemble_per_state=ensemble_per_state)\n",
    "log_pseudo_prior_ens = []\n",
    "for i, ens in enumerate(ensemble_per_state):\n",
    "    log_pseudo_prior_ens.append(np.array([log_pseudo_prior(x, i) for x in ens]))"
   ]
  },
  {
   "cell_type": "code",
   "execution_count": null,
   "id": "458d81b7-1c87-4d10-8b49-db4d2e28cf1d",
   "metadata": {},
   "outputs": [],
   "source": [
    "# Calculate marginal Likelihoods using ensembles for each state\n",
    "nwalkers_er = 32  # number of independent random walkers across ensembles\n",
    "nsteps_er = 100000  # number of chain steps for each walker\n",
    "start_time = time.time()\n",
    "resampler_chains = run_ensemble_resampler(\n",
    "    nwalkers_er,\n",
    "    nsteps_er,\n",
    "    nstates,\n",
    "    ndims,\n",
    "    log_posterior_ens=log_posterior_ens,\n",
    "    log_pseudo_prior_ens=log_pseudo_prior_ens,\n",
    "    parallel=parallel,\n",
    "    progress=True,\n",
    ")  # run mcmc sampler over ensembles to get marginal Likelihoods between states\n",
    "elapsed_time = time.time() - start_time\n",
    "\n",
    "alg = \"TransC-ensemble-resampler\"\n",
    "state_chain_tot = np.swapaxes(resampler_chains.state_chain_tot, 0, 1)\n",
    "state_chain = resampler_chains.state_chain.T\n",
    "accept_within_per_walker = 1.0 * np.ones(nwalkers_er)\n",
    "accept_between_per_walker = resampler_chains.n_accepted / nsteps_er\n",
    "accept_within = 100 * np.mean(accept_within_per_walker)\n",
    "accept_between = 100 * np.mean(accept_between_per_walker)\n",
    "nsamples = [len(a) for a in log_posterior_ens]"
   ]
  },
  {
   "cell_type": "code",
   "execution_count": null,
   "id": "979be064-ed3b-45bd-95ef-f81cd4fc76ed",
   "metadata": {},
   "outputs": [],
   "source": [
    "# print some diagnostics\n",
    "print(\"\\n Algorithm type                                      :\", alg)\n",
    "print(\n",
    "    \" Average % acceptance rate for within states         :\",\n",
    "    np.round(accept_within, 2),\n",
    ")\n",
    "print(\n",
    "    \" Average % acceptance rate for between states        :\",\n",
    "    np.round(accept_between, 2),\n",
    ")\n",
    "\n",
    "# extract trans-D samples and chains\n",
    "discard = 0  # chain burnin\n",
    "thin = 15  # chain thinning\n",
    "visits, states_chain = get_visits_to_states(\n",
    "    transc_sampler=resampler_chains,\n",
    "    discard=discard,\n",
    "    thin=thin,\n",
    "    normalize=True,\n",
    ")\n",
    "visits = visits.swapaxes(0, 1)  # (n_steps, n_walkers, n_states)\n",
    "states_chain = states_chain.swapaxes(0, 1)  # (n_steps, n_walkers)\n",
    "\n",
    "state_changes_per_walker = count_state_changes(\n",
    "    resampler_chains.state_chain, discard=discard, thin=thin\n",
    ")\n",
    "total_state_changes = count_total_state_changes(\n",
    "    resampler_chains.state_chain, discard=discard, thin=thin\n",
    ")\n",
    "acceptance_rate_between_states = get_acceptance_rate_between_states(\n",
    "    resampler_chains, discard=discard, thin=thin\n",
    ")\n",
    "autocorr_time_for_between_state_jumps = get_autocorr_between_state_jumps(\n",
    "    resampler_chains.state_chain\n",
    ")\n",
    "relative_marginal_likelihoods = get_relative_marginal_likelihoods(\n",
    "    resampler_chains.state_chain_tot[:, -1, :]\n",
    ")\n",
    "\n",
    "print(\n",
    "    \" Auto correlation time for between state sampling    :\",\n",
    "    np.round(autocorr_time_for_between_state_jumps, 3),\n",
    ")\n",
    "print(\" Total number of state changes for all walkers       :\", total_state_changes)\n",
    "print(\n",
    "    \" Number of state changes for each walker             :\\n\",\n",
    "    *state_changes_per_walker,\n",
    ")\n",
    "print(\" Analytic relative marginal Likelihoods              :\", *np.round(Ev, 5))\n",
    "print(\n",
    "    \" Estimated relative evidences                        :\",\n",
    "    *np.round((relative_marginal_likelihoods), 5),\n",
    ")\n",
    "print(\n",
    "    \" Elapsed time                                        :\",\n",
    "    np.round(elapsed_time, 2),\n",
    "    \"s \\n\",\n",
    ")"
   ]
  },
  {
   "cell_type": "code",
   "execution_count": null,
   "id": "fff1d44c-db2a-4009-957b-a192188999d4",
   "metadata": {},
   "outputs": [],
   "source": [
    "# plot relative number of visit to each state along the chain\n",
    "if plotting:\n",
    "    fig, axes = plt.subplots(figsize=(8, 6))\n",
    "    if visits.ndim == 3:  # plot chains for each state and walker\n",
    "        plt.semilogx(visits.reshape(np.shape(visits)[0], -1), lw=0.75)\n",
    "    elif visits.ndim == 2:  # plot chains for each state average over walkers\n",
    "        plt.semilogx(\n",
    "            visits.reshape(np.shape(visits)[0], -1),\n",
    "            lw=0.75,\n",
    "            label=[\"State 1\", \"State 2\", \"State 3\"],\n",
    "        )\n",
    "        plt.legend()\n",
    "    plt.xlabel(\"Chain step\")\n",
    "    plt.ylabel(\"Relative Evidence\")\n",
    "    plt.plot(len(visits) * 1.3, Ev[0], \"bo\")\n",
    "    plt.plot(len(visits) * 1.3, Ev[1], \"o\", color=\"orange\")\n",
    "    plt.plot(len(visits) * 1.3, Ev[2], \"go\")\n",
    "    plt.plot(len(visits) * 1.3, Ev[3], \"mo\")\n",
    "    plt.title(\" Convergence of \" + alg)\n",
    "    plt.ylim(-0.05, 1.0)\n",
    "    # plt.savefig('ER_chains.pdf')\n",
    "\n",
    "    plt.show()"
   ]
  },
  {
   "cell_type": "markdown",
   "id": "122e7624-52a7-44bd-bc48-683e309f4113",
   "metadata": {},
   "source": [
    "Coloured dots show the true relative normalization constants for each Gaussian. As you can see the chains are \n",
    "converging, and visiting each state in proportion to the correct normalization constant. "
   ]
  },
  {
   "cell_type": "code",
   "execution_count": null,
   "id": "f224c11b-f33e-49ac-bdd6-35727753794b",
   "metadata": {},
   "outputs": [],
   "source": [
    "# Count visits to each state by Trans-D mcmc\n",
    "if plotting:\n",
    "    h = np.zeros(nstates)\n",
    "    h[list(Counter(states_chain.reshape(-1)).keys())] = list(\n",
    "        Counter(states_chain.reshape(-1)).values()\n",
    "    )\n",
    "    h /= np.sum(h)\n",
    "    # plot histogram of frequency of visits to each state\n",
    "\n",
    "    labels = [\n",
    "        r\"$y=m_o$\",\n",
    "        r\"$y=m_o + m_1x$\",\n",
    "        r\"$y = \\sum_{i=0}^2 m_ix^i$\",\n",
    "        r\"$y = \\sum_{i=0}^3 m_ix^i$\",\n",
    "    ]\n",
    "    x = np.arange(nstates)  # the label locations\n",
    "    width = 0.25  # the width of the bars\n",
    "    multiplier = 0\n",
    "\n",
    "    fig, ax = plt.subplots(layout=\"constrained\")\n",
    "    offset = width * multiplier\n",
    "    rects = ax.bar(x + offset, np.round(h, 3), width, label=alg, color=\"skyblue\")\n",
    "    ax.bar_label(rects, padding=3)\n",
    "    multiplier += 1\n",
    "    offset = width * multiplier + 0.05\n",
    "    rects = ax.bar(\n",
    "        x + offset, np.round(counts, 3), width, label=\"Analytical\", color=\"lightcoral\"\n",
    "    )\n",
    "    ax.bar_label(rects, padding=3)\n",
    "    multiplier += 1\n",
    "    # Add some text for labels, title and custom x-axis tick labels, etc.\n",
    "    ax.set_ylabel(\" Proportion of visits to each state\")\n",
    "    ax.set_title(\"Relative Evidence\")\n",
    "    ax.set_xticks(x + width / 2, labels)\n",
    "    ax.legend(loc=\"upper right\")\n",
    "    # plt.savefig('ER_relative_evidences.pdf')\n",
    "    plt.show()"
   ]
  },
  {
   "cell_type": "code",
   "execution_count": null,
   "id": "e8d341a5-e307-4061-b174-30e006097183",
   "metadata": {},
   "outputs": [],
   "source": [
    "# corner plots to check sampling within each state\n",
    "if plotting:\n",
    "    muplot = mls.copy()\n",
    "    muplot[1] = mtrue\n",
    "    # collect trans samples\n",
    "    transc_ensemble = resample_ensembles(\n",
    "        ensemble_per_state,\n",
    "        relative_marginal_likelihoods,\n",
    "        100_000,\n",
    "    )\n",
    "    contour_kwargs = {\"linewidths\": 0.5}\n",
    "    data_kwargs = {\"color\": \"slateblue\"}\n",
    "    for i in range(1, nstates):\n",
    "        string = \"Order \" + str(i)\n",
    "        print(\" State; \", i, \" in \", ndims[i], \" dimensions\")\n",
    "        fig = corner.corner(\n",
    "            transc_ensemble[i],\n",
    "            truths=muplot[i],\n",
    "            title=string,\n",
    "            bins=40,\n",
    "            hist_bin_factor=2,\n",
    "            smooth=True,\n",
    "            contour_kwargs=contour_kwargs,\n",
    "            data_kwargs=data_kwargs,\n",
    "        )\n",
    "# fig.savefig('ER_corner_'+str(i)+'.pdf')"
   ]
  },
  {
   "cell_type": "code",
   "execution_count": null,
   "id": "6683b7c2-17f5-464b-ae45-78f910f0c236",
   "metadata": {},
   "outputs": [],
   "source": [
    "print(\n",
    "    f\" Here is the Trans-C ensemble with\\n {len(transc_ensemble[0])} samples in state 1\\n {len(transc_ensemble[1])} samples in state 2\\n {len(transc_ensemble[2])} samples in state 3\\n\",\n",
    "    \"\\n\",\n",
    "    transc_ensemble,\n",
    ")"
   ]
  },
  {
   "cell_type": "markdown",
   "id": "d68ec310-9576-4bb7-8ddf-7e4ddbe75cdd",
   "metadata": {},
   "source": [
    "---------"
   ]
  }
 ],
 "metadata": {
  "kernelspec": {
   "display_name": "Python 3 (ipykernel)",
   "language": "python",
   "name": "python3"
  },
  "language_info": {
   "codemirror_mode": {
    "name": "ipython",
    "version": 3
   },
   "file_extension": ".py",
   "mimetype": "text/x-python",
   "name": "python",
   "nbconvert_exporter": "python",
   "pygments_lexer": "ipython3",
   "version": "3.13.1"
  }
 },
 "nbformat": 4,
 "nbformat_minor": 5
}
