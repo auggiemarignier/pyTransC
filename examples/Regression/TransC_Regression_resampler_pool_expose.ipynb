{
 "cells": [
  {
   "cell_type": "markdown",
   "metadata": {},
   "source": [
    "## Example of Trans-C sampling with Pool Parameter Exposure: Regression\n",
    "\n",
    "This notebook demonstrates the new `pool` parameter functionality for Bayesian sampling\n",
    "using the Ensemble resampler with custom pool configurations (e.g., schwimmbad)."
   ]
  },
  {
   "cell_type": "code",
   "execution_count": 1,
   "metadata": {},
   "outputs": [],
   "source": [
    "# general python utility packages\n",
    "import time\n",
    "from collections import Counter\n",
    "from functools import partial\n",
    "from multiprocessing import Pool\n",
    "\n",
    "import corner\n",
    "import matplotlib.pyplot as plt\n",
    "import numpy as np\n",
    "import scipy.stats as stats\n",
    "from scipy.optimize import minimize"
   ]
  },
  {
   "cell_type": "code",
   "execution_count": 2,
   "metadata": {},
   "outputs": [],
   "source": [
    "from pytransc.analysis.samples import resample_ensembles\n",
    "from pytransc.analysis.visits import (\n",
    "    count_state_changes,\n",
    "    count_total_state_changes,\n",
    "    get_acceptance_rate_between_states,\n",
    "    get_autocorr_between_state_jumps,\n",
    "    get_relative_marginal_likelihoods,\n",
    "    get_visits_to_states,\n",
    ")\n",
    "from pytransc.samplers import run_ensemble_resampler, run_mcmc_per_state\n",
    "from pytransc.utils.auto_pseudo import build_auto_pseudo_prior"
   ]
  },
  {
   "cell_type": "code",
   "execution_count": 3,
   "metadata": {},
   "outputs": [
    {
     "name": "stdout",
     "output_type": "stream",
     "text": [
      "✓ schwimmbad available - will demonstrate MPI and multiprocessing pools\n"
     ]
    }
   ],
   "source": [
    "# Try to import schwimmbad for demonstration\n",
    "try:\n",
    "    from schwimmbad import MPIPool, MultiPool\n",
    "    SCHWIMMBAD_AVAILABLE = True\n",
    "    print(\"✓ schwimmbad available - will demonstrate MPI and multiprocessing pools\")\n",
    "except ImportError:\n",
    "    SCHWIMMBAD_AVAILABLE = False\n",
    "    print(\"⚠ schwimmbad not available - will use standard multiprocessing only\")"
   ]
  },
  {
   "cell_type": "markdown",
   "metadata": {},
   "source": [
    "### Setup regression problem (same as original example)"
   ]
  },
  {
   "cell_type": "code",
   "execution_count": 4,
   "metadata": {},
   "outputs": [],
   "source": [
    "def solveLS(d, G, Cdinv, mu=None, Cmpriorinv=None):\n",
    "    \"\"\"Solve the least squares problem given data, design matrix, and covariance matrices.\"\"\"\n",
    "    A = np.dot(np.transpose(G), Cdinv)\n",
    "    GtG = np.dot(A, G)\n",
    "    if (Cmpriorinv is not None) and (mu is not None):\n",
    "        GtG += Cmpriorinv\n",
    "    GtGinv = np.linalg.inv(GtG)\n",
    "    B = np.dot(A, d)\n",
    "    if (Cmpriorinv is not None) and (mu is not None):\n",
    "        B += np.dot(Cmpriorinv, mu)\n",
    "    mls = np.dot(GtGinv, B)\n",
    "    return mls, GtGinv\n",
    "\n",
    "def getG(x, order):\n",
    "    \"\"\"Build design matrix, G for polynomial data fitting.\"\"\"\n",
    "    return np.transpose([x ** (i) for i in range(order + 1)])"
   ]
  },
  {
   "cell_type": "code",
   "execution_count": 5,
   "metadata": {},
   "outputs": [],
   "source": [
    "# Generate synthetic data\n",
    "np.random.seed(61254557)\n",
    "ndata, sigma = 20, 0.2\n",
    "xobs = np.sort(np.random.rand(ndata))\n",
    "mtrue = np.array([0.3, 0.6])\n",
    "G = getG(xobs, 1)\n",
    "dobs = np.dot(G, mtrue) + np.random.normal(0, sigma, size=len(xobs))\n",
    "Cdinv = np.eye(ndata) / (sigma**2)\n",
    "\n",
    "# Setup problem parameters\n",
    "maxorder = 3\n",
    "nstates = maxorder + 1\n",
    "ndims = [1, 2, 3, 4]\n",
    "Cmprior = [20 * np.eye(i + 1) for i in np.arange(maxorder + 1)]\n",
    "muprior = [np.zeros(i + 1) for i in np.arange(maxorder + 1)]"
   ]
  },
  {
   "cell_type": "code",
   "execution_count": 6,
   "metadata": {},
   "outputs": [],
   "source": [
    "# Define log-posterior functions\n",
    "def _log_likelihood(x, state, dobs, G, Cdinv):\n",
    "    dpred = np.dot(G[state], x)\n",
    "    misfit = 0.5 * (np.dot((dobs - dpred), np.dot(Cdinv, (dobs - dpred))))\n",
    "    f = np.sqrt(2 * np.pi) ** len(dpred)\n",
    "    detCdinv = np.linalg.det(Cdinv)\n",
    "    logL = -np.log(f) - misfit + np.log(detCdinv)\n",
    "    return logL\n",
    "\n",
    "def _log_prior(x, state, muprior, Cmprior):\n",
    "    mu = muprior[state]\n",
    "    cov = Cmprior[state]\n",
    "    rv = stats.multivariate_normal(mean=mu, cov=cov)\n",
    "    return rv.logpdf(x)\n",
    "\n",
    "# Create partial functions\n",
    "Gp = [getG(xobs, i) for i in range(maxorder + 1)]\n",
    "log_likelihood = partial(_log_likelihood, dobs=dobs, G=Gp, Cdinv=Cdinv)\n",
    "log_prior = partial(_log_prior, muprior=muprior, Cmprior=Cmprior)\n",
    "\n",
    "def log_posterior(x, state):\n",
    "    return log_likelihood(x, state) + log_prior(x, state)"
   ]
  },
  {
   "cell_type": "code",
   "execution_count": 7,
   "metadata": {},
   "outputs": [],
   "source": [
    "# Find ML estimates for starting points\n",
    "rng = np.random.default_rng(42)\n",
    "nll = lambda *args: -log_posterior(*args)\n",
    "ml = []\n",
    "for i in range(nstates):\n",
    "    initial = 0.5 * np.ones(i + 1)\n",
    "    soln = minimize(nll, initial, args=(i,))\n",
    "    ml.append(soln.x)\n",
    "\n",
    "# Setup MCMC parameters\n",
    "nsamples_es = 4 * [20000]  # Reduced for demo\n",
    "nwalkers_es = 4 * [16]     # Reduced for demo\n",
    "pos = []\n",
    "for i in range(nstates):\n",
    "    pos.append(ml[i] + 1e-4 * rng.standard_normal((nwalkers_es[i], ndims[i])))"
   ]
  },
  {
   "cell_type": "markdown",
   "metadata": {},
   "source": [
    "## Pool Parameter Demonstration\n",
    "\n",
    "The new `pool` parameter allows you to provide custom parallelization strategies:"
   ]
  },
  {
   "cell_type": "markdown",
   "metadata": {},
   "source": [
    "### Method 1: Standard multiprocessing.Pool (user-managed)"
   ]
  },
  {
   "cell_type": "code",
   "execution_count": null,
   "metadata": {},
   "outputs": [
    {
     "name": "stdout",
     "output_type": "stream",
     "text": [
      "=== Method 1: User-managed multiprocessing.Pool ===\n",
      "\n",
      "Running within-state sampler separately on each state\n",
      "\n",
      "Number of walkers               :  [16, 16, 16, 16]\n",
      "\n",
      "Number of states being sampled:  4\n",
      "Dimensions of each state:  [1, 2, 3, 4]\n"
     ]
    },
    {
     "name": "stderr",
     "output_type": "stream",
     "text": [
      " 82%|██████████████████████████████████████████████████████████▎            | 16428/20000 [01:56<00:27, 127.88it/s]"
     ]
    }
   ],
   "source": [
    "print(\"=== Method 1: User-managed multiprocessing.Pool ===\")\n",
    "start_time = time.time()\n",
    "\n",
    "# User creates and manages the pool\n",
    "\n",
    "user_pool=Pool(processes=4)\n",
    "    \n",
    "ensemble_per_state_1, log_posterior_ens_1 = run_mcmc_per_state(\n",
    "    nstates,\n",
    "    ndims,\n",
    "    nwalkers_es,\n",
    "    nsamples_es,\n",
    "    pos,\n",
    "    log_posterior,\n",
    "    pool=user_pool,  # ← NEW: Pass user-managed pool\n",
    "    discard=0,\n",
    "    auto_thin=True,\n",
    "    verbose=True)\n",
    "\n",
    "\n",
    "elapsed_1 = time.time() - start_time\n",
    "print(f\"✓ Completed with user-managed pool in {elapsed_1:.1f}s\")\n",
    "print(f\"Samples per state: {[len(ens) for ens in ensemble_per_state_1]}\")"
   ]
  },
  {
   "cell_type": "markdown",
   "metadata": {},
   "source": [
    "### Method 2: schwimmbad MultiPool (if available)"
   ]
  },
  {
   "cell_type": "code",
   "execution_count": 9,
   "metadata": {},
   "outputs": [
    {
     "name": "stdout",
     "output_type": "stream",
     "text": [
      "=== Method 2: schwimmbad MultiPool ===\n",
      "\n",
      "Running within-state sampler separately on each state\n",
      "\n",
      "Number of walkers               :  [16, 16, 16, 16]\n",
      "\n",
      "Number of states being sampled:  4\n",
      "Dimensions of each state:  [1, 2, 3, 4]\n"
     ]
    },
    {
     "name": "stderr",
     "output_type": "stream",
     "text": [
      " 29%|█████████████████████▏                                                   | 5791/20000 [01:33<03:49, 61.83it/s]\n"
     ]
    },
    {
     "ename": "KeyboardInterrupt",
     "evalue": "",
     "output_type": "error",
     "traceback": [
      "\u001b[31m---------------------------------------------------------------------------\u001b[39m",
      "\u001b[31mKeyboardInterrupt\u001b[39m                         Traceback (most recent call last)",
      "\u001b[36mCell\u001b[39m\u001b[36m \u001b[39m\u001b[32mIn[9]\u001b[39m\u001b[32m, line 6\u001b[39m\n\u001b[32m      3\u001b[39m start_time = time.time()\n\u001b[32m      5\u001b[39m \u001b[38;5;28;01mwith\u001b[39;00m MultiPool(processes=\u001b[32m4\u001b[39m) \u001b[38;5;28;01mas\u001b[39;00m schwimm_pool:\n\u001b[32m----> \u001b[39m\u001b[32m6\u001b[39m     ensemble_per_state_2, log_posterior_ens_2 = \u001b[43mrun_mcmc_per_state\u001b[49m\u001b[43m(\u001b[49m\n\u001b[32m      7\u001b[39m \u001b[43m        \u001b[49m\u001b[43mnstates\u001b[49m\u001b[43m,\u001b[49m\n\u001b[32m      8\u001b[39m \u001b[43m        \u001b[49m\u001b[43mndims\u001b[49m\u001b[43m,\u001b[49m\n\u001b[32m      9\u001b[39m \u001b[43m        \u001b[49m\u001b[43mnwalkers_es\u001b[49m\u001b[43m,\u001b[49m\n\u001b[32m     10\u001b[39m \u001b[43m        \u001b[49m\u001b[43mnsamples_es\u001b[49m\u001b[43m,\u001b[49m\n\u001b[32m     11\u001b[39m \u001b[43m        \u001b[49m\u001b[43mpos\u001b[49m\u001b[43m,\u001b[49m\n\u001b[32m     12\u001b[39m \u001b[43m        \u001b[49m\u001b[43mlog_posterior\u001b[49m\u001b[43m,\u001b[49m\n\u001b[32m     13\u001b[39m \u001b[43m        \u001b[49m\u001b[43mpool\u001b[49m\u001b[43m=\u001b[49m\u001b[43mschwimm_pool\u001b[49m\u001b[43m,\u001b[49m\u001b[43m  \u001b[49m\u001b[38;5;66;43;03m# ← NEW: Pass schwimmbad pool\u001b[39;49;00m\n\u001b[32m     14\u001b[39m \u001b[43m        \u001b[49m\u001b[43mdiscard\u001b[49m\u001b[43m=\u001b[49m\u001b[32;43m0\u001b[39;49m\u001b[43m,\u001b[49m\n\u001b[32m     15\u001b[39m \u001b[43m        \u001b[49m\u001b[43mauto_thin\u001b[49m\u001b[43m=\u001b[49m\u001b[38;5;28;43;01mTrue\u001b[39;49;00m\u001b[43m,\u001b[49m\n\u001b[32m     16\u001b[39m \u001b[43m        \u001b[49m\u001b[43mverbose\u001b[49m\u001b[43m=\u001b[49m\u001b[38;5;28;43;01mTrue\u001b[39;49;00m\u001b[43m,\u001b[49m\n\u001b[32m     17\u001b[39m \u001b[43m    \u001b[49m\u001b[43m)\u001b[49m\n\u001b[32m     19\u001b[39m elapsed_2 = time.time() - start_time\n\u001b[32m     20\u001b[39m \u001b[38;5;28mprint\u001b[39m(\u001b[33mf\u001b[39m\u001b[33m\"\u001b[39m\u001b[33m✓ Completed with schwimmbad MultiPool in \u001b[39m\u001b[38;5;132;01m{\u001b[39;00melapsed_2\u001b[38;5;132;01m:\u001b[39;00m\u001b[33m.1f\u001b[39m\u001b[38;5;132;01m}\u001b[39;00m\u001b[33ms\u001b[39m\u001b[33m\"\u001b[39m)\n",
      "\u001b[36mFile \u001b[39m\u001b[32m~/csiro/research/inlab/pyTransC/src/pytransc/samplers/per_state.py:165\u001b[39m, in \u001b[36mrun_mcmc_per_state\u001b[39m\u001b[34m(n_states, n_dims, n_walkers, n_steps, pos, log_posterior, discard, thin, auto_thin, seed, parallel, n_processors, skip_initial_state_check, verbose, pool, **kwargs)\u001b[39m\n\u001b[32m    163\u001b[39m \u001b[38;5;28;01mfor\u001b[39;00m i \u001b[38;5;129;01min\u001b[39;00m \u001b[38;5;28mrange\u001b[39m(n_states):  \u001b[38;5;66;03m# loop over states\u001b[39;00m\n\u001b[32m    164\u001b[39m     _log_posterior = partial(log_posterior, state=i)\n\u001b[32m--> \u001b[39m\u001b[32m165\u001b[39m     _samples, _log_posterior_ens, _auto_corr = \u001b[43mprocess_state\u001b[49m\u001b[43m(\u001b[49m\n\u001b[32m    166\u001b[39m \u001b[43m        \u001b[49m\u001b[43mlog_posterior\u001b[49m\u001b[43m=\u001b[49m\u001b[43m_log_posterior\u001b[49m\u001b[43m,\u001b[49m\n\u001b[32m    167\u001b[39m \u001b[43m        \u001b[49m\u001b[43mn_walkers\u001b[49m\u001b[43m=\u001b[49m\u001b[43mn_walkers\u001b[49m\u001b[43m[\u001b[49m\u001b[43mi\u001b[49m\u001b[43m]\u001b[49m\u001b[43m,\u001b[49m\n\u001b[32m    168\u001b[39m \u001b[43m        \u001b[49m\u001b[43mpos\u001b[49m\u001b[43m=\u001b[49m\u001b[43mpos\u001b[49m\u001b[43m[\u001b[49m\u001b[43mi\u001b[49m\u001b[43m]\u001b[49m\u001b[43m,\u001b[49m\n\u001b[32m    169\u001b[39m \u001b[43m        \u001b[49m\u001b[43mn_steps\u001b[49m\u001b[43m=\u001b[49m\u001b[43mn_steps\u001b[49m\u001b[43m[\u001b[49m\u001b[43mi\u001b[49m\u001b[43m]\u001b[49m\u001b[43m,\u001b[49m\n\u001b[32m    170\u001b[39m \u001b[43m        \u001b[49m\u001b[43mdiscard\u001b[49m\u001b[43m=\u001b[49m\u001b[43mdiscard\u001b[49m\u001b[43m[\u001b[49m\u001b[43mi\u001b[49m\u001b[43m]\u001b[49m\u001b[43m,\u001b[49m\n\u001b[32m    171\u001b[39m \u001b[43m        \u001b[49m\u001b[43mthin\u001b[49m\u001b[43m=\u001b[49m\u001b[43mthin\u001b[49m\u001b[43m[\u001b[49m\u001b[43mi\u001b[49m\u001b[43m]\u001b[49m\u001b[43m,\u001b[49m\n\u001b[32m    172\u001b[39m \u001b[43m        \u001b[49m\u001b[43mparallel\u001b[49m\u001b[43m=\u001b[49m\u001b[43mparallel\u001b[49m\u001b[43m[\u001b[49m\u001b[43mi\u001b[49m\u001b[43m]\u001b[49m\u001b[43m,\u001b[49m\n\u001b[32m    173\u001b[39m \u001b[43m        \u001b[49m\u001b[43mn_processors\u001b[49m\u001b[43m=\u001b[49m\u001b[43mn_processors\u001b[49m\u001b[43m,\u001b[49m\n\u001b[32m    174\u001b[39m \u001b[43m        \u001b[49m\u001b[43mskip_initial_state_check\u001b[49m\u001b[43m=\u001b[49m\u001b[43mskip_initial_state_check\u001b[49m\u001b[43m,\u001b[49m\n\u001b[32m    175\u001b[39m \u001b[43m        \u001b[49m\u001b[43mverbose\u001b[49m\u001b[43m=\u001b[49m\u001b[43mverbose\u001b[49m\u001b[43m,\u001b[49m\n\u001b[32m    176\u001b[39m \u001b[43m        \u001b[49m\u001b[43mpool\u001b[49m\u001b[43m=\u001b[49m\u001b[43mpool\u001b[49m\u001b[43m,\u001b[49m\n\u001b[32m    177\u001b[39m \u001b[43m        \u001b[49m\u001b[43m*\u001b[49m\u001b[43m*\u001b[49m\u001b[43mkwargs\u001b[49m\u001b[43m,\u001b[49m\n\u001b[32m    178\u001b[39m \u001b[43m    \u001b[49m\u001b[43m)\u001b[49m\n\u001b[32m    179\u001b[39m     samples.append(_samples)\n\u001b[32m    180\u001b[39m     log_posterior_ens.append(_log_posterior_ens)\n",
      "\u001b[36mFile \u001b[39m\u001b[32m~/csiro/research/inlab/pyTransC/src/pytransc/samplers/per_state.py:205\u001b[39m, in \u001b[36mprocess_state\u001b[39m\u001b[34m(log_posterior, n_walkers, pos, n_steps, discard, thin, parallel, n_processors, verbose, pool, **kwargs)\u001b[39m\n\u001b[32m    191\u001b[39m \u001b[38;5;28;01mdef\u001b[39;00m\u001b[38;5;250m \u001b[39m\u001b[34mprocess_state\u001b[39m(\n\u001b[32m    192\u001b[39m     log_posterior: Callable[[FloatArray], \u001b[38;5;28mfloat\u001b[39m],\n\u001b[32m    193\u001b[39m     n_walkers: \u001b[38;5;28mint\u001b[39m,\n\u001b[32m   (...)\u001b[39m\u001b[32m    202\u001b[39m     **kwargs: Any,\n\u001b[32m    203\u001b[39m ) -> \u001b[38;5;28mtuple\u001b[39m[FloatArray, FloatArray, FloatArray]:\n\u001b[32m    204\u001b[39m \u001b[38;5;250m    \u001b[39m\u001b[33;03m\"\"\"Get the posterior samples, log probabilities, and autocorrelation times for a single state.\"\"\"\u001b[39;00m\n\u001b[32m--> \u001b[39m\u001b[32m205\u001b[39m     sampler = \u001b[43mperform_sampling_with_emcee\u001b[49m\u001b[43m(\u001b[49m\n\u001b[32m    206\u001b[39m \u001b[43m        \u001b[49m\u001b[43mlog_prob_func\u001b[49m\u001b[43m=\u001b[49m\u001b[43mlog_posterior\u001b[49m\u001b[43m,\u001b[49m\n\u001b[32m    207\u001b[39m \u001b[43m        \u001b[49m\u001b[43mn_walkers\u001b[49m\u001b[43m=\u001b[49m\u001b[43mn_walkers\u001b[49m\u001b[43m,\u001b[49m\n\u001b[32m    208\u001b[39m \u001b[43m        \u001b[49m\u001b[43mn_steps\u001b[49m\u001b[43m=\u001b[49m\u001b[43mn_steps\u001b[49m\u001b[43m,\u001b[49m\n\u001b[32m    209\u001b[39m \u001b[43m        \u001b[49m\u001b[43minitial_state\u001b[49m\u001b[43m=\u001b[49m\u001b[43mpos\u001b[49m\u001b[43m,\u001b[49m\n\u001b[32m    210\u001b[39m \u001b[43m        \u001b[49m\u001b[43mpool\u001b[49m\u001b[43m=\u001b[49m\u001b[43mpool\u001b[49m\u001b[43m,\u001b[49m\n\u001b[32m    211\u001b[39m \u001b[43m        \u001b[49m\u001b[43mparallel\u001b[49m\u001b[43m=\u001b[49m\u001b[43mparallel\u001b[49m\u001b[43m,\u001b[49m\n\u001b[32m    212\u001b[39m \u001b[43m        \u001b[49m\u001b[43mn_processors\u001b[49m\u001b[43m=\u001b[49m\u001b[43mn_processors\u001b[49m\u001b[43m,\u001b[49m\n\u001b[32m    213\u001b[39m \u001b[43m        \u001b[49m\u001b[43mprogress\u001b[49m\u001b[43m=\u001b[49m\u001b[43mverbose\u001b[49m\u001b[43m,\u001b[49m\n\u001b[32m    214\u001b[39m \u001b[43m        \u001b[49m\u001b[43m*\u001b[49m\u001b[43m*\u001b[49m\u001b[43mkwargs\u001b[49m\u001b[43m,\u001b[49m\n\u001b[32m    215\u001b[39m \u001b[43m    \u001b[49m\u001b[43m)\u001b[49m\n\u001b[32m    216\u001b[39m     samples = sampler.get_chain(discard=discard, thin=thin, flat=\u001b[38;5;28;01mTrue\u001b[39;00m)\n\u001b[32m    217\u001b[39m     \u001b[38;5;28;01mif\u001b[39;00m samples \u001b[38;5;129;01mis\u001b[39;00m \u001b[38;5;28;01mNone\u001b[39;00m:\n",
      "\u001b[36mFile \u001b[39m\u001b[32m~/csiro/research/inlab/pyTransC/src/pytransc/samplers/_emcee.py:94\u001b[39m, in \u001b[36mperform_sampling_with_emcee\u001b[39m\u001b[34m(log_prob_func, n_walkers, n_steps, initial_state, pool, **kwargs)\u001b[39m\n\u001b[32m     86\u001b[39m     initialisation_kwargs[\u001b[33m\"\u001b[39m\u001b[33mpool\u001b[39m\u001b[33m\"\u001b[39m] = created_pool\n\u001b[32m     88\u001b[39m sampler = EnsembleSampler(\n\u001b[32m     89\u001b[39m     nwalkers=n_walkers,\n\u001b[32m     90\u001b[39m     ndim=initial_state.shape[\u001b[32m1\u001b[39m],\n\u001b[32m     91\u001b[39m     log_prob_fn=log_prob_func,\n\u001b[32m     92\u001b[39m     **initialisation_kwargs,\n\u001b[32m     93\u001b[39m )\n\u001b[32m---> \u001b[39m\u001b[32m94\u001b[39m \u001b[43msampler\u001b[49m\u001b[43m.\u001b[49m\u001b[43mrun_mcmc\u001b[49m\u001b[43m(\u001b[49m\u001b[43minitial_state\u001b[49m\u001b[43m,\u001b[49m\u001b[43m \u001b[49m\u001b[43mn_steps\u001b[49m\u001b[43m,\u001b[49m\u001b[43m \u001b[49m\u001b[43m*\u001b[49m\u001b[43m*\u001b[49m\u001b[43mrun_kwargs\u001b[49m\u001b[43m)\u001b[49m\n\u001b[32m     96\u001b[39m \u001b[38;5;66;03m# Clean up internally created pool\u001b[39;00m\n\u001b[32m     97\u001b[39m \u001b[38;5;28;01mif\u001b[39;00m pool \u001b[38;5;129;01mis\u001b[39;00m \u001b[38;5;28;01mNone\u001b[39;00m \u001b[38;5;129;01mand\u001b[39;00m remaining_kwargs.get(\u001b[33m\"\u001b[39m\u001b[33mparallel\u001b[39m\u001b[33m\"\u001b[39m, \u001b[38;5;28;01mFalse\u001b[39;00m):\n",
      "\u001b[36mFile \u001b[39m\u001b[32m~/.virtualenvs/inlab/lib/python3.13/site-packages/emcee/ensemble.py:450\u001b[39m, in \u001b[36mEnsembleSampler.run_mcmc\u001b[39m\u001b[34m(self, initial_state, nsteps, **kwargs)\u001b[39m\n\u001b[32m    447\u001b[39m     initial_state = \u001b[38;5;28mself\u001b[39m._previous_state\n\u001b[32m    449\u001b[39m results = \u001b[38;5;28;01mNone\u001b[39;00m\n\u001b[32m--> \u001b[39m\u001b[32m450\u001b[39m \u001b[43m\u001b[49m\u001b[38;5;28;43;01mfor\u001b[39;49;00m\u001b[43m \u001b[49m\u001b[43mresults\u001b[49m\u001b[43m \u001b[49m\u001b[38;5;129;43;01min\u001b[39;49;00m\u001b[43m \u001b[49m\u001b[38;5;28;43mself\u001b[39;49m\u001b[43m.\u001b[49m\u001b[43msample\u001b[49m\u001b[43m(\u001b[49m\u001b[43minitial_state\u001b[49m\u001b[43m,\u001b[49m\u001b[43m \u001b[49m\u001b[43miterations\u001b[49m\u001b[43m=\u001b[49m\u001b[43mnsteps\u001b[49m\u001b[43m,\u001b[49m\u001b[43m \u001b[49m\u001b[43m*\u001b[49m\u001b[43m*\u001b[49m\u001b[43mkwargs\u001b[49m\u001b[43m)\u001b[49m\u001b[43m:\u001b[49m\n\u001b[32m    451\u001b[39m \u001b[43m    \u001b[49m\u001b[38;5;28;43;01mpass\u001b[39;49;00m\n\u001b[32m    453\u001b[39m \u001b[38;5;66;03m# Store so that the ``initial_state=None`` case will work\u001b[39;00m\n",
      "\u001b[36mFile \u001b[39m\u001b[32m~/.virtualenvs/inlab/lib/python3.13/site-packages/emcee/ensemble.py:409\u001b[39m, in \u001b[36mEnsembleSampler.sample\u001b[39m\u001b[34m(self, initial_state, log_prob0, rstate0, blobs0, iterations, tune, skip_initial_state_check, thin_by, thin, store, progress, progress_kwargs)\u001b[39m\n\u001b[32m    406\u001b[39m move = \u001b[38;5;28mself\u001b[39m._random.choice(\u001b[38;5;28mself\u001b[39m._moves, p=\u001b[38;5;28mself\u001b[39m._weights)\n\u001b[32m    408\u001b[39m \u001b[38;5;66;03m# Propose\u001b[39;00m\n\u001b[32m--> \u001b[39m\u001b[32m409\u001b[39m state, accepted = \u001b[43mmove\u001b[49m\u001b[43m.\u001b[49m\u001b[43mpropose\u001b[49m\u001b[43m(\u001b[49m\u001b[43mmodel\u001b[49m\u001b[43m,\u001b[49m\u001b[43m \u001b[49m\u001b[43mstate\u001b[49m\u001b[43m)\u001b[49m\n\u001b[32m    410\u001b[39m state.random_state = \u001b[38;5;28mself\u001b[39m.random_state\n\u001b[32m    412\u001b[39m \u001b[38;5;28;01mif\u001b[39;00m tune:\n",
      "\u001b[36mFile \u001b[39m\u001b[32m~/.virtualenvs/inlab/lib/python3.13/site-packages/emcee/moves/red_blue.py:93\u001b[39m, in \u001b[36mRedBlueMove.propose\u001b[39m\u001b[34m(self, model, state)\u001b[39m\n\u001b[32m     90\u001b[39m q, factors = \u001b[38;5;28mself\u001b[39m.get_proposal(s, c, model.random)\n\u001b[32m     92\u001b[39m \u001b[38;5;66;03m# Compute the lnprobs of the proposed position.\u001b[39;00m\n\u001b[32m---> \u001b[39m\u001b[32m93\u001b[39m new_log_probs, new_blobs = \u001b[43mmodel\u001b[49m\u001b[43m.\u001b[49m\u001b[43mcompute_log_prob_fn\u001b[49m\u001b[43m(\u001b[49m\u001b[43mq\u001b[49m\u001b[43m)\u001b[49m\n\u001b[32m     95\u001b[39m \u001b[38;5;66;03m# Loop over the walkers and update them accordingly.\u001b[39;00m\n\u001b[32m     96\u001b[39m \u001b[38;5;28;01mfor\u001b[39;00m i, (j, f, nlp) \u001b[38;5;129;01min\u001b[39;00m \u001b[38;5;28menumerate\u001b[39m(\n\u001b[32m     97\u001b[39m     \u001b[38;5;28mzip\u001b[39m(all_inds[S1], factors, new_log_probs)\n\u001b[32m     98\u001b[39m ):\n",
      "\u001b[36mFile \u001b[39m\u001b[32m~/.virtualenvs/inlab/lib/python3.13/site-packages/emcee/ensemble.py:496\u001b[39m, in \u001b[36mEnsembleSampler.compute_log_prob\u001b[39m\u001b[34m(self, coords)\u001b[39m\n\u001b[32m    494\u001b[39m     \u001b[38;5;28;01melse\u001b[39;00m:\n\u001b[32m    495\u001b[39m         map_func = \u001b[38;5;28mmap\u001b[39m\n\u001b[32m--> \u001b[39m\u001b[32m496\u001b[39m     results = \u001b[38;5;28mlist\u001b[39m(\u001b[43mmap_func\u001b[49m\u001b[43m(\u001b[49m\u001b[38;5;28;43mself\u001b[39;49m\u001b[43m.\u001b[49m\u001b[43mlog_prob_fn\u001b[49m\u001b[43m,\u001b[49m\u001b[43m \u001b[49m\u001b[43mp\u001b[49m\u001b[43m)\u001b[49m)\n\u001b[32m    498\u001b[39m \u001b[38;5;28;01mtry\u001b[39;00m:\n\u001b[32m    499\u001b[39m     \u001b[38;5;66;03m# perhaps log_prob_fn returns blobs?\u001b[39;00m\n\u001b[32m    500\u001b[39m \n\u001b[32m   (...)\u001b[39m\u001b[32m    504\u001b[39m     \u001b[38;5;66;03m# l is a length-1 array, np.array([1.234]). In that case blob\u001b[39;00m\n\u001b[32m    505\u001b[39m     \u001b[38;5;66;03m# will become an empty list.\u001b[39;00m\n\u001b[32m    506\u001b[39m     blob = [l[\u001b[32m1\u001b[39m:] \u001b[38;5;28;01mfor\u001b[39;00m l \u001b[38;5;129;01min\u001b[39;00m results \u001b[38;5;28;01mif\u001b[39;00m \u001b[38;5;28mlen\u001b[39m(l) > \u001b[32m1\u001b[39m]\n",
      "\u001b[36mFile \u001b[39m\u001b[32m~/.virtualenvs/inlab/lib/python3.13/site-packages/schwimmbad/multiprocessing.py:107\u001b[39m, in \u001b[36mMultiPool.map\u001b[39m\u001b[34m(self, func, iterable, chunksize, callback)\u001b[39m\n\u001b[32m    105\u001b[39m \u001b[38;5;28;01mwhile\u001b[39;00m \u001b[38;5;28;01mTrue\u001b[39;00m:\n\u001b[32m    106\u001b[39m     \u001b[38;5;28;01mtry\u001b[39;00m:\n\u001b[32m--> \u001b[39m\u001b[32m107\u001b[39m         \u001b[38;5;28;01mreturn\u001b[39;00m \u001b[43mr\u001b[49m\u001b[43m.\u001b[49m\u001b[43mget\u001b[49m\u001b[43m(\u001b[49m\u001b[38;5;28;43mself\u001b[39;49m\u001b[43m.\u001b[49m\u001b[43mwait_timeout\u001b[49m\u001b[43m)\u001b[49m\n\u001b[32m    109\u001b[39m     \u001b[38;5;28;01mexcept\u001b[39;00m multiprocess.TimeoutError:\n\u001b[32m    110\u001b[39m         \u001b[38;5;28;01mpass\u001b[39;00m\n",
      "\u001b[36mFile \u001b[39m\u001b[32m~/.virtualenvs/inlab/lib/python3.13/site-packages/multiprocess/pool.py:768\u001b[39m, in \u001b[36mApplyResult.get\u001b[39m\u001b[34m(self, timeout)\u001b[39m\n\u001b[32m    767\u001b[39m \u001b[38;5;28;01mdef\u001b[39;00m\u001b[38;5;250m \u001b[39m\u001b[34mget\u001b[39m(\u001b[38;5;28mself\u001b[39m, timeout=\u001b[38;5;28;01mNone\u001b[39;00m):\n\u001b[32m--> \u001b[39m\u001b[32m768\u001b[39m     \u001b[38;5;28;43mself\u001b[39;49m\u001b[43m.\u001b[49m\u001b[43mwait\u001b[49m\u001b[43m(\u001b[49m\u001b[43mtimeout\u001b[49m\u001b[43m)\u001b[49m\n\u001b[32m    769\u001b[39m     \u001b[38;5;28;01mif\u001b[39;00m \u001b[38;5;129;01mnot\u001b[39;00m \u001b[38;5;28mself\u001b[39m.ready():\n\u001b[32m    770\u001b[39m         \u001b[38;5;28;01mraise\u001b[39;00m \u001b[38;5;167;01mTimeoutError\u001b[39;00m\n",
      "\u001b[36mFile \u001b[39m\u001b[32m~/.virtualenvs/inlab/lib/python3.13/site-packages/multiprocess/pool.py:765\u001b[39m, in \u001b[36mApplyResult.wait\u001b[39m\u001b[34m(self, timeout)\u001b[39m\n\u001b[32m    764\u001b[39m \u001b[38;5;28;01mdef\u001b[39;00m\u001b[38;5;250m \u001b[39m\u001b[34mwait\u001b[39m(\u001b[38;5;28mself\u001b[39m, timeout=\u001b[38;5;28;01mNone\u001b[39;00m):\n\u001b[32m--> \u001b[39m\u001b[32m765\u001b[39m     \u001b[38;5;28;43mself\u001b[39;49m\u001b[43m.\u001b[49m\u001b[43m_event\u001b[49m\u001b[43m.\u001b[49m\u001b[43mwait\u001b[49m\u001b[43m(\u001b[49m\u001b[43mtimeout\u001b[49m\u001b[43m)\u001b[49m\n",
      "\u001b[36mFile \u001b[39m\u001b[32m/usr/lib64/python3.13/threading.py:659\u001b[39m, in \u001b[36mEvent.wait\u001b[39m\u001b[34m(self, timeout)\u001b[39m\n\u001b[32m    657\u001b[39m signaled = \u001b[38;5;28mself\u001b[39m._flag\n\u001b[32m    658\u001b[39m \u001b[38;5;28;01mif\u001b[39;00m \u001b[38;5;129;01mnot\u001b[39;00m signaled:\n\u001b[32m--> \u001b[39m\u001b[32m659\u001b[39m     signaled = \u001b[38;5;28;43mself\u001b[39;49m\u001b[43m.\u001b[49m\u001b[43m_cond\u001b[49m\u001b[43m.\u001b[49m\u001b[43mwait\u001b[49m\u001b[43m(\u001b[49m\u001b[43mtimeout\u001b[49m\u001b[43m)\u001b[49m\n\u001b[32m    660\u001b[39m \u001b[38;5;28;01mreturn\u001b[39;00m signaled\n",
      "\u001b[36mFile \u001b[39m\u001b[32m/usr/lib64/python3.13/threading.py:363\u001b[39m, in \u001b[36mCondition.wait\u001b[39m\u001b[34m(self, timeout)\u001b[39m\n\u001b[32m    361\u001b[39m \u001b[38;5;28;01melse\u001b[39;00m:\n\u001b[32m    362\u001b[39m     \u001b[38;5;28;01mif\u001b[39;00m timeout > \u001b[32m0\u001b[39m:\n\u001b[32m--> \u001b[39m\u001b[32m363\u001b[39m         gotit = \u001b[43mwaiter\u001b[49m\u001b[43m.\u001b[49m\u001b[43macquire\u001b[49m\u001b[43m(\u001b[49m\u001b[38;5;28;43;01mTrue\u001b[39;49;00m\u001b[43m,\u001b[49m\u001b[43m \u001b[49m\u001b[43mtimeout\u001b[49m\u001b[43m)\u001b[49m\n\u001b[32m    364\u001b[39m     \u001b[38;5;28;01melse\u001b[39;00m:\n\u001b[32m    365\u001b[39m         gotit = waiter.acquire(\u001b[38;5;28;01mFalse\u001b[39;00m)\n",
      "\u001b[31mKeyboardInterrupt\u001b[39m: "
     ]
    }
   ],
   "source": [
    "if SCHWIMMBAD_AVAILABLE:\n",
    "    print(\"=== Method 2: schwimmbad MultiPool ===\")\n",
    "    start_time = time.time()\n",
    "    \n",
    "    with MultiPool(processes=4) as schwimm_pool:\n",
    "        ensemble_per_state_2, log_posterior_ens_2 = run_mcmc_per_state(\n",
    "            nstates,\n",
    "            ndims,\n",
    "            nwalkers_es,\n",
    "            nsamples_es,\n",
    "            pos,\n",
    "            log_posterior,\n",
    "            pool=schwimm_pool,  # ← NEW: Pass schwimmbad pool\n",
    "            discard=0,\n",
    "            auto_thin=True,\n",
    "            verbose=True,\n",
    "        )\n",
    "    \n",
    "    elapsed_2 = time.time() - start_time\n",
    "    print(f\"✓ Completed with schwimmbad MultiPool in {elapsed_2:.1f}s\")\n",
    "    print(f\"Samples per state: {[len(ens) for ens in ensemble_per_state_2]}\")\n",
    "else:\n",
    "    print(\"⚠ Skipping schwimmbad example (not available)\")\n",
    "    ensemble_per_state_2 = ensemble_per_state_1\n",
    "    log_posterior_ens_2 = log_posterior_ens_1"
   ]
  },
  {
   "cell_type": "markdown",
   "metadata": {},
   "source": [
    "### Method 3: Library-managed (backward compatibility)"
   ]
  },
  {
   "cell_type": "code",
   "execution_count": null,
   "metadata": {},
   "outputs": [],
   "source": [
    "print(\"=== Method 3: Library-managed (existing behavior) ===\")\n",
    "start_time = time.time()\n",
    "\n",
    "ensemble_per_state_3, log_posterior_ens_3 = run_mcmc_per_state(\n",
    "    nstates,\n",
    "    ndims,\n",
    "    nwalkers_es,\n",
    "    nsamples_es,\n",
    "    pos,\n",
    "    log_posterior,\n",
    "    # pool=None,  # ← Default behavior (pool not specified)\n",
    "    parallel=True,      # ← Library creates pool internally\n",
    "    n_processors=4,\n",
    "    discard=0,\n",
    "    auto_thin=True,\n",
    "    verbose=True,\n",
    ")\n",
    "\n",
    "elapsed_3 = time.time() - start_time\n",
    "print(f\"✓ Completed with library-managed pool in {elapsed_3:.1f}s\")\n",
    "print(f\"Samples per state: {[len(ens) for ens in ensemble_per_state_3]}\")"
   ]
  },
  {
   "cell_type": "markdown",
   "metadata": {},
   "source": [
    "### Run ensemble resampler with pool parameter"
   ]
  },
  {
   "cell_type": "code",
   "execution_count": null,
   "metadata": {},
   "outputs": [],
   "source": [
    "# Use the first method's results for ensemble resampling\n",
    "ensemble_per_state = ensemble_per_state_1\n",
    "log_posterior_ens = log_posterior_ens_1\n",
    "\n",
    "# Build pseudo priors\n",
    "log_pseudo_prior = build_auto_pseudo_prior(ensemble_per_state=ensemble_per_state)\n",
    "log_pseudo_prior_ens = []\n",
    "for i, ens in enumerate(ensemble_per_state):\n",
    "    log_pseudo_prior_ens.append(np.array([log_pseudo_prior(x, i) for x in ens]))"
   ]
  },
  {
   "cell_type": "code",
   "execution_count": null,
   "metadata": {},
   "outputs": [],
   "source": [
    "print(\"=== Ensemble Resampler with Pool Parameter ===\")\n",
    "\n",
    "nwalkers_er = 16\n",
    "nsteps_er = 50000\n",
    "start_time = time.time()\n",
    "\n",
    "# Demonstrate pool parameter in ensemble resampler\n",
    "with Pool(processes=4) as resampler_pool:\n",
    "    resampler_chains = run_ensemble_resampler(\n",
    "        nwalkers_er,\n",
    "        nsteps_er,\n",
    "        nstates,\n",
    "        ndims,\n",
    "        log_posterior_ens=log_posterior_ens,\n",
    "        log_pseudo_prior_ens=log_pseudo_prior_ens,\n",
    "        pool=resampler_pool,  # ← NEW: Pass pool to ensemble resampler\n",
    "        progress=True,\n",
    "    )\n",
    "\n",
    "elapsed_ensemble = time.time() - start_time\n",
    "print(f\"✓ Ensemble resampler completed in {elapsed_ensemble:.1f}s\")"
   ]
  },
  {
   "cell_type": "markdown",
   "metadata": {},
   "source": [
    "### Results and comparison"
   ]
  },
  {
   "cell_type": "code",
   "execution_count": null,
   "metadata": {},
   "outputs": [],
   "source": [
    "# Extract results\n",
    "from pytransc.analysis.visits import get_relative_marginal_likelihoods\n",
    "\n",
    "relative_marginal_likelihoods = get_relative_marginal_likelihoods(\n",
    "    resampler_chains.state_chain_tot[:, -1, :]\n",
    ")\n",
    "\n",
    "print(\"\\n=== Results Summary ===\")\n",
    "print(f\"Estimated relative evidences: {np.round(relative_marginal_likelihoods, 4)}\")\n",
    "print(\"\\n=== Pool Parameter Benefits ===\")\n",
    "print(\"✓ User controls pool lifecycle (creation/cleanup)\")\n",
    "print(\"✓ Can use schwimmbad for MPI, cluster computing\")\n",
    "print(\"✓ Backward compatible - existing code unchanged\")\n",
    "print(\"✓ Avoids memory leaks from unclosed pools\")"
   ]
  },
  {
   "cell_type": "markdown",
   "metadata": {},
   "source": [
    "## MPI Example (conceptual)\n",
    "\n",
    "For cluster/MPI usage with schwimmbad:"
   ]
  },
  {
   "cell_type": "code",
   "execution_count": 10,
   "metadata": {},
   "outputs": [
    {
     "name": "stdout",
     "output_type": "stream",
     "text": [
      "\n",
      "=== MPI Example (conceptual) ===\n",
      "\n",
      "# For MPI execution:\n",
      "from schwimmbad import MPIPool\n",
      "\n",
      "# Run with: mpirun -n 8 python your_script.py\n",
      "with MPIPool() as mpi_pool:\n",
      "    ensemble_per_state, log_posterior_ens = run_mcmc_per_state(\n",
      "        nstates, ndims, nwalkers_es, nsamples_es, pos, log_posterior,\n",
      "        pool=mpi_pool,  # Uses MPI across cluster nodes\n",
      "        discard=0, auto_thin=True\n",
      "    )\n",
      "\n",
      "✓ schwimmbad available - MPI example would work\n"
     ]
    }
   ],
   "source": [
    "# Example of MPI usage (requires mpirun to actually work)\n",
    "print(\"\\n=== MPI Example (conceptual) ===\")\n",
    "print(\"\"\"\n",
    "# For MPI execution:\n",
    "from schwimmbad import MPIPool\n",
    "\n",
    "# Run with: mpirun -n 8 python your_script.py\n",
    "with MPIPool() as mpi_pool:\n",
    "    ensemble_per_state, log_posterior_ens = run_mcmc_per_state(\n",
    "        nstates, ndims, nwalkers_es, nsamples_es, pos, log_posterior,\n",
    "        pool=mpi_pool,  # Uses MPI across cluster nodes\n",
    "        discard=0, auto_thin=True\n",
    "    )\n",
    "\"\"\")\n",
    "\n",
    "if SCHWIMMBAD_AVAILABLE:\n",
    "    print(\"✓ schwimmbad available - MPI example would work\")\n",
    "else:\n",
    "    print(\"⚠ Install schwimmbad for MPI support: pip install schwimmbad\")"
   ]
  },
  {
   "cell_type": "markdown",
   "metadata": {},
   "source": [
    "## Key Implementation Notes\n",
    "\n",
    "1. **Pool Parameter Precedence**: When `pool` is provided, it takes precedence over `parallel` and `n_processors`\n",
    "2. **Memory Management**: User-provided pools are not closed by the library - user manages lifecycle\n",
    "3. **Backward Compatibility**: All existing code continues to work unchanged\n",
    "4. **Type Flexibility**: `pool: Any | None = None` accepts any pool-like object with a `map()` method"
   ]
  }
 ],
 "metadata": {
  "kernelspec": {
   "display_name": "Python 3 (ipykernel)",
   "language": "python",
   "name": "python3"
  },
  "language_info": {
   "codemirror_mode": {
    "name": "ipython",
    "version": 3
   },
   "file_extension": ".py",
   "mimetype": "text/x-python",
   "name": "python",
   "nbconvert_exporter": "python",
   "pygments_lexer": "ipython3",
   "version": "3.13.6"
  }
 },
 "nbformat": 4,
 "nbformat_minor": 4
}
